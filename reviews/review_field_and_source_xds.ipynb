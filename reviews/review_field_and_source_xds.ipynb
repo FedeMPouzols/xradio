{
 "cells": [
  {
   "cell_type": "markdown",
   "id": "14a699d5-bf6e-4ebe-bfa5-dcccbec0ec2e",
   "metadata": {},
   "source": [
    "# Review Instructions\n",
    "\n",
    "Please review the MSv4 `field_and_source_xds` schema and the XRADIO interface (`ps['MSv4_name'].VISIBILITY.field_and_source_xds`). Note that the PS (processing set) interface or the main_xds should not be reviewed.\n",
    "\n",
    "The `field_and_source_xds` schema specification: https://docs.google.com/spreadsheets/d/14a6qMap9M5r_vjpLnaBKxsR9TF4azN5LVdOxLacOX-s/edit#gid=1658760192\n",
    "\n",
    "## Preparatory Material\n",
    "Go over Xarray nomenclature and selection syntax:\n",
    "- https://docs.xarray.dev/en/latest/user-guide/terminology.html\n",
    "- https://docs.xarray.dev/en/latest/user-guide/indexing.html\n",
    "\n",
    "MSv2 and CASA documentation:\n",
    "- MSv2 schema: https://casacore.github.io/casacore-notes/229.pdf\n",
    "- MSv3 schema: https://casacore.github.io/casacore-notes/264.pdf\n",
    "- Ephemeris Data in CASA: https://casadocs.readthedocs.io/en/latest/notebooks/external-data.html#Ephemeris-Data\n",
    "\n",
    "## `field_and_source_xds` Schema\n",
    "The FIELD, SOURCE, and EPHEMERIS tables in the MSv2 contain closely related information:\n",
    "- **FIELD**: Field position for a source.\n",
    "- **SOURCE**: Information about the source being observed (position, proper motion, etc.)\n",
    "- **EPHEMERIS**: Ephemerides of the source.\n",
    "\n",
    "These can be combined into a single dataset for MSv4 because it consists of a single field and consequently a single source[^1].\n",
    "\n",
    "### Use Cases\n",
    "The use cases considered during the design of the schema were:\n",
    "- Single field observation (type=standard).\n",
    "- Mosaic observation (type=standard).\n",
    "- Ephemeris observation (type=ephemeris).\n",
    "- Mosaic Ephemeris observation (type=ephemeris).\n",
    "\n",
    "To satisfy these use cases, two types of `field_and_source_xds` were created: standard and ephemeris. The main difference is that the ephemeris type has a `FIELD_PHASE_OFFSET` data variable that is relative to the `SOURCE_POSITION/SOURCE_DIRECTION` data variable (contains the ephemerides and has a time axis), while the standard type has `FIELD_PHASE/DELAY/REFERENCE_CENTERS` and `SOURCE_POSITION` (has no time axis). The `SOURCE_POSITION/DIRECTION` is kept separate from the `FIELD_PHASE_OFFSET/CENTER` so that the intent `OBSERVE_TARGET#OFF_SOURCE` is supported and the ephemeris can be easily changed.\n",
    "\n",
    "## Key Questions to Answer\n",
    "### Schema Questions\n",
    "- 1.1) Are there missing use cases?\n",
    "- 1.2) Is all the information present needed for offline processing?\n",
    "  - 1.2.1) Are there data variables we need to add (for example, the JPL Horizons data has additional information such as the North pole position angle, etc., see [CASA Ephemeris Data](https://casadocs.readthedocs.io/en/latest/notebooks/external-data.html#Ephemeris-Data))?\n",
    "  - 1.2.2) In some CASA ephemeris tables, there are table keywords such as `VS_CREATE`, `VS_DATE`, `VS_TYPE`, `VS_VERSION`, `MJD0`, `dMJD`, `earliest`, `latest`, `radii`, `meanradm`, `orb_per`, `rot_per`. Do we need any of these?\n",
    "- 1.3) Is there a use case where the `FIELD_PHASE_CENTER` and `FIELD_DELAY_CENTER` would differ (i.e., do we need to store both)?\n",
    "- 1.4) For interferometer observations, do we need to store the `FIELD_REFERENCE_CENTER` or can this be omitted (will still be present for Single dish)?\n",
    "- 1.5) The ephemeris data is recorded in degrees, AU, and MJD. Should these be converted to radians, meters, and time (Unix)? Note that each data variable has measurement information attached to it. For example:\n",
    "```Python\n",
    "  frame: ICRS\n",
    "  type: sky_coord\n",
    "  units: ['deg', 'deg', 'AU']\n",
    "```\n",
    "\n",
    "- 1.6) For ephemeris observations, should we add the SOURCE_PROPER_MOTION if available?\n",
    "- 1.7) Is the name `field_and_source_xds` sufficiently descriptive?\n",
    "- 1.8) Should we also add the DOPPLER table information to the schema (if so, any idea where we can get an MSv2 with a DOPPLER table)?\n",
    "- 1.9) Any naming suggestions or data layout?\n",
    "- 1.10) Are the data variable descriptions in the schema spreadsheet correct?\n",
    "- 1.11) What measures (https://docs.google.com/spreadsheets/d/14a6qMap9M5r_vjpLnaBKxsR9TF4azN5LVdOxLacOX-s/edit#gid=1504318014) should we attach to each of the following data variables\n",
    "\n",
    "  - NORTH_POLE_POSITION_ANGLE (quantity?)\n",
    "  - NORTH_POLE_ANGULAR_DISTANCE (quantity?)\n",
    "  - SUB_OBSERVER_DIRECTION (earth_location?)\n",
    "  - SUB_SOLAR_POSITION (earth_location?)\n",
    "  - HELIOCENTRIC_RADIAL_VELOCITY (quantity?)\n",
    "  - OBSERVER_PHASE_ANGLE (quantity?)\n",
    "- 1.12) Can NORTH_POLE_POSITION_ANGLE and NORTH_POLE_ANGULAR_DISTANCE be combined into a single data variable?\n",
    "\n",
    "### XRADIO\n",
    "2.1) After reviewing the XARRAY documentation and the descriptions of the data variables in the `field_and_source_xds` schema, do you find the XARRAY interface intuitive and easy to use?\n",
    "\n",
    "\n",
    "\n",
    "[^1]: This is inhereted from MSv2 that only allows a single source per field [https://casacore.github.io/casacore-notes/229.pdf, p35], though a source can appear in more than one field.\n",
    "\n",
    "\n",
    "# Environment instructions\n",
    "\n",
    "It is recommended to use the conda environment manager to create a clean, self-contained runtime where xradio and all its dependencies can be installed:\n",
    "\n",
    "```bash\n",
    "conda create --name xradio python=3.11 --no-default-packages\n",
    "conda activate xradio\n",
    "```\n",
    "\n",
    "Clone the repository, checkout the review branch and do a local install:\n",
    "\n",
    "```bash\n",
    "git clone https://github.com/casangi/xradio.git\n",
    "git checkout 162-create-combined-field-source-and-ephemeris-dataset\n",
    "cd xradio\n",
    "pip install -e .\n",
    "```"
   ]
  },
  {
   "cell_type": "markdown",
   "id": "d50aea20",
   "metadata": {},
   "source": [
    "# ALMA Example\n",
    "\n",
    "An ephemeris mosaic observation of the sun.\n",
    "\n",
    "ALMA archive file downloaded: https://almascience.nrao.edu/dataPortal/2022.A.00001.S_uid___A002_X1003af4_X75a3.asdm.sdm.tar \n",
    "\n",
    "- Project: 2022.A.00001.S\n",
    "- Member ous id (MOUS): uid://A001/X3571/X130\n",
    "- Group ous id (GOUS): uid://A001/X3571/X131\n",
    "\n",
    "CASA commands used to create the dataset:\n",
    "```python\n",
    "importasdm(asdm='uid___A002_X1003af4_X75a3.asdm.sdm',vis='uid___A002_X1003af4_X75a3.ms',asis='Ephemeris Antenna Station Receiver Source CalAtmosphere CalWVR',bdfflags=True,with_pointing_correction=True,convert_ephem2geo=True)\n",
    "\n",
    "importasdm(asdm='22A-347.sb41163051.eb41573599.59642.62832791667.asdm',vis='22A-347.sb41163051.eb41573599.59642.62832791667.ms',asis='Ephemeris Antenna Station Receiver Source',with_pointing_correction=True,convert_ephem2geo=True)\n",
    "\n",
    "mstransform(vis='ALMA_uid___A002_X1003af4_X75a3.split.ms',outputvis='ALMA_uid___A002_X1003af4_X75a3.split.avg.ms',createmms=False,timeaverage=True,timebin='2s',timespan='scan',reindex=True)\n",
    "\n",
    "import numpy as np\n",
    "for subtable in ['FLAG_CMD', 'POINTING', 'CALDEVICE', 'ASDM_CALATMOSPHERE']:\n",
    "    tb.open('ALMA_uid___A002_X1003af4_X75a3.split.avg.ms::'+subtable,nomodify=False)\n",
    "    tb.removerows(np.arange(tb.nrows())) \n",
    "    tb.flush()\n",
    "    tb.done()\n",
    "```\n"
   ]
  },
  {
   "cell_type": "markdown",
   "id": "98956bb8",
   "metadata": {},
   "source": [
    "## Download Data"
   ]
  },
  {
   "cell_type": "code",
   "execution_count": null,
   "id": "aeecb3c5",
   "metadata": {},
   "outputs": [],
   "source": [
    "from xradio.vis.convert_msv2_to_processing_set import convert_msv2_to_processing_set\n",
    "from xradio.vis.read_processing_set import read_processing_set\n",
    "import graphviper\n",
    "\n",
    "graphviper.utils.data.download(file=\"ALMA_uid___A002_X1003af4_X75a3.split.avg.ms\")"
   ]
  },
  {
   "cell_type": "markdown",
   "id": "960f3d2f",
   "metadata": {},
   "source": [
    "# Start Dask cluster \n",
    "Choose an approriate number of cores and memory_limit (this is per core)."
   ]
  },
  {
   "cell_type": "code",
   "execution_count": null,
   "id": "345121ed",
   "metadata": {},
   "outputs": [],
   "source": [
    "from graphviper.dask.client import local_client\n",
    "\n",
    "viper_client = local_client(cores=4, memory_limit=\"4GB\")\n",
    "viper_client"
   ]
  },
  {
   "cell_type": "markdown",
   "id": "4c48b842",
   "metadata": {},
   "source": [
    "# Convert dataset"
   ]
  },
  {
   "cell_type": "code",
   "execution_count": null,
   "id": "9a82a2e5",
   "metadata": {},
   "outputs": [],
   "source": [
    "from xradio.vis.convert_msv2_to_processing_set import convert_msv2_to_processing_set\n",
    "import os\n",
    "\n",
    "in_file = \"ALMA_uid___A002_X1003af4_X75a3.split.avg.ms\"\n",
    "out_file = \"ALMA_uid___A002_X1003af4_X75a3.split.avg.zarr\"\n",
    "os.system(\"rm -rf \"+out_file)\n",
    "\n",
    "partition_scheme=[] #must be ephemeris_interpolate=True\n",
    "#partition_scheme=['FIELD_ID'] #can be ephemeris_interpolate=True/False\n",
    "\n",
    "convert_msv2_to_processing_set(\n",
    "    in_file=in_file,\n",
    "    out_file=out_file,\n",
    "    parallel=True,\n",
    "    overwrite=True,\n",
    "    ephemeris_interpolate=True,\n",
    "    partition_scheme=partition_scheme\n",
    ")\n",
    "\n"
   ]
  },
  {
   "cell_type": "markdown",
   "id": "9963d3d0",
   "metadata": {},
   "source": [
    "# Inspect Processing Set"
   ]
  },
  {
   "cell_type": "code",
   "execution_count": null,
   "id": "9295fe96",
   "metadata": {},
   "outputs": [],
   "source": [
    "import pandas as pd\n",
    "\n",
    "# Set the maximum number of rows displayed before scrolling\n",
    "pd.set_option(\"display.max_rows\", 1000)\n",
    "\n",
    "from xradio.vis.read_processing_set import read_processing_set\n",
    "\n",
    "ps = read_processing_set(\"ALMA_uid___A002_X1003af4_X75a3.split.avg.zarr\")\n",
    "ps.summary()"
   ]
  },
  {
   "cell_type": "code",
   "execution_count": null,
   "id": "d798c392",
   "metadata": {},
   "outputs": [],
   "source": [
    "partition_scheme = []\n",
    "if partition_scheme:\n",
    "    msv4_name_ephemeris = \"ALMA_uid___A002_X1003af4_X75a3.split.avg_67\"\n",
    "    msv4_name = \"ALMA_uid___A002_X1003af4_X75a3.split.avg_52\"\n",
    "else:\n",
    "    msv4_name_ephemeris = \"ALMA_uid___A002_X1003af4_X75a3.split.avg_17\"\n",
    "    msv4_name = \"ALMA_uid___A002_X1003af4_X75a3.split.avg_3\"\n",
    "    \n",
    "msv4_name"
   ]
  },
  {
   "cell_type": "code",
   "execution_count": null,
   "id": "56cf4ef3",
   "metadata": {},
   "outputs": [],
   "source": [
    "ps[msv4_name].partition_info"
   ]
  },
  {
   "cell_type": "code",
   "execution_count": null,
   "id": "4f03de3f",
   "metadata": {},
   "outputs": [],
   "source": [
    "ps[msv4_name]"
   ]
  },
  {
   "cell_type": "markdown",
   "id": "1ff1930a",
   "metadata": {},
   "source": [
    "# Inspect field_and_source_xds: Standard Use case (non-ephemeris)"
   ]
  },
  {
   "cell_type": "code",
   "execution_count": null,
   "id": "9a589244",
   "metadata": {},
   "outputs": [],
   "source": [
    "standard_field_and_source_xds = ps[\n",
    "    msv4_name\n",
    "].VISIBILITY.field_and_source_xds.load()  # Load the data into memory\n",
    "standard_field_and_source_xds"
   ]
  },
  {
   "cell_type": "code",
   "execution_count": null,
   "id": "0220a118",
   "metadata": {},
   "outputs": [],
   "source": [
    "standard_field_and_source_xds  # How to access field_and_source_xds."
   ]
  },
  {
   "cell_type": "code",
   "execution_count": null,
   "id": "1a070b52",
   "metadata": {},
   "outputs": [],
   "source": [
    "standard_field_and_source_xds.FIELD_PHASE_CENTER  # How to access field_and_source_xds datavariables. standard_field_and_source_xds['FIELD_PHASE_CENTER'] can also be used."
   ]
  },
  {
   "cell_type": "code",
   "execution_count": null,
   "id": "373ef50d",
   "metadata": {},
   "outputs": [],
   "source": [
    "standard_field_and_source_xds.FIELD_PHASE_CENTER.attrs  # How to access field_and_source_xds datavariables measures information stored in the attributes."
   ]
  },
  {
   "cell_type": "markdown",
   "id": "d37f368c",
   "metadata": {},
   "source": [
    "# Inspect field_and_source_xds: Ephemeris Use case (Mosaic) with line"
   ]
  },
  {
   "cell_type": "code",
   "execution_count": null,
   "id": "3526d165",
   "metadata": {},
   "outputs": [],
   "source": [
    "ephemeris_field_and_source_xds = ps[\n",
    "    msv4_name_ephemeris\n",
    "].VISIBILITY.field_and_source_xds.load()  # Load the data into memory\n",
    "ephemeris_field_and_source_xds"
   ]
  },
  {
   "cell_type": "code",
   "execution_count": null,
   "id": "b89ee1c2",
   "metadata": {},
   "outputs": [],
   "source": [
    "ephemeris_field_and_source_xds.FIELD_PHASE_CENTER"
   ]
  },
  {
   "cell_type": "code",
   "execution_count": null,
   "id": "35c46cbf",
   "metadata": {},
   "outputs": [],
   "source": [
    "ephemeris_field_and_source_xds.SOURCE_POSITION"
   ]
  },
  {
   "cell_type": "code",
   "execution_count": null,
   "id": "eab22c7d",
   "metadata": {},
   "outputs": [],
   "source": [
    "ephemeris_field_and_source_xds.SOURCE_POSITION.sel(sky_pos_label=\"dec\")"
   ]
  }
 ],
 "metadata": {
  "kernelspec": {
   "display_name": "Python 3 (ipykernel)",
   "language": "python",
   "name": "python3"
  },
  "language_info": {
   "codemirror_mode": {
    "name": "ipython",
    "version": 3
   },
   "file_extension": ".py",
   "mimetype": "text/x-python",
   "name": "python",
   "nbconvert_exporter": "python",
   "pygments_lexer": "ipython3",
   "version": "3.11.8"
  }
 },
 "nbformat": 4,
 "nbformat_minor": 5
}
