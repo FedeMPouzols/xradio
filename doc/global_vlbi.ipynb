{
 "cells": [
  {
   "cell_type": "code",
   "execution_count": null,
   "id": "14a699d5-bf6e-4ebe-bfa5-dcccbec0ec2e",
   "metadata": {},
   "outputs": [],
   "source": [
    "from importlib.metadata import version\n",
    "import os\n",
    "\n",
    "try:\n",
    "    import xradio\n",
    "\n",
    "    print(\"XRADIO version\", version(\"xradio\"), \"already installed.\")\n",
    "except ImportError as e:\n",
    "    print(e)\n",
    "    print(\"Installing XRADIO\")\n",
    "\n",
    "    os.system(\"pip install xradio\")\n",
    "\n",
    "    import xradio\n",
    "\n",
    "    print(\"xradio version\", version(\"xradio\"), \" installed.\")\n",
    "\n",
    "import graphviper\n",
    "\n",
    "# These are the three API functions that are currently supported\n",
    "from xradio.image import load_image, read_image, write_image"
   ]
  },
  {
   "cell_type": "markdown",
   "id": "a939f97e-6c76-47b0-aef5-256df2e908f9",
   "metadata": {},
   "source": [
    "## Download dataset"
   ]
  },
  {
   "cell_type": "markdown",
   "id": "4e478428",
   "metadata": {},
   "source": [
    "global (EVN+VLBA) VLBI observation with:\n",
    "- 5 scans \n",
    "- 2 fields \n",
    "- 2 spw"
   ]
  },
  {
   "cell_type": "code",
   "execution_count": null,
   "id": "134a99e3-c5a2-443c-96d4-f44fae59555a",
   "metadata": {},
   "outputs": [],
   "source": [
    "graphviper.utils.data.download(\"global_vlbi_gg084b_reduced.ms\")"
   ]
  },
  {
   "cell_type": "markdown",
   "id": "f8435c96-7010-4b79-8be6-51f7f6993b5f",
   "metadata": {},
   "source": [
    "## Convert to Processing Set"
   ]
  },
  {
   "cell_type": "code",
   "execution_count": null,
   "id": "ee52d124-2c17-450b-879f-1f86f0ae265c",
   "metadata": {},
   "outputs": [],
   "source": [
    "from xradio.vis.convert_msv2_to_processing_set import convert_msv2_to_processing_set\n",
    "\n",
    "ms_file = \"global_vlbi_gg084b_reduced.ms\"\n",
    "partition_scheme = \"ddi_intent_field\"\n",
    "# partition_scheme=\"ddi_state\"\n",
    "\n",
    "main_chunksize = {\"frequency\": 1, \"time\": 20}  # baseline, polarization\n",
    "outfile = \"global_vlbi_gg084b_reduced.vis.zarr\"\n",
    "convert_msv2_to_processing_set(\n",
    "    in_file=ms_file,\n",
    "    out_file=outfile,\n",
    "    partition_scheme=partition_scheme,\n",
    "    parallel=False,\n",
    "    overwrite=True,\n",
    "    main_chunksize=main_chunksize,\n",
    ")"
   ]
  },
  {
   "cell_type": "markdown",
   "id": "fbd02679-0df8-4fa5-8036-6f22f534e386",
   "metadata": {},
   "source": [
    "## Processing Set"
   ]
  },
  {
   "cell_type": "code",
   "execution_count": null,
   "id": "dab986ca-55f8-4a4a-ba59-9c97fcc2ca84",
   "metadata": {},
   "outputs": [],
   "source": [
    "ps_name = outfile\n",
    "\n",
    "from xradio.vis.read_processing_set import read_processing_set\n",
    "\n",
    "ps = read_processing_set(ps_name=outfile)\n",
    "ps.summary()"
   ]
  },
  {
   "cell_type": "code",
   "execution_count": null,
   "id": "d3d0ac93",
   "metadata": {},
   "outputs": [],
   "source": [
    "ps.keys()"
   ]
  },
  {
   "cell_type": "code",
   "execution_count": null,
   "id": "259aa56b",
   "metadata": {},
   "outputs": [],
   "source": [
    "ps['global_vlbi_gg084b_reduced_ddi_1_intent_None_field_id_1']"
   ]
  },
  {
   "cell_type": "code",
   "execution_count": null,
   "id": "ba761deb-b7a9-4b2b-8163-3050413fe59c",
   "metadata": {},
   "outputs": [],
   "source": [
    "ps['global_vlbi_gg084b_reduced_ddi_1_intent_None_field_id_1'].attrs['antenna_xds']"
   ]
  },
  {
   "cell_type": "code",
   "execution_count": null,
   "id": "cf6106c1",
   "metadata": {},
   "outputs": [],
   "source": [
    "ps['global_vlbi_gg084b_reduced_ddi_1_intent_None_field_id_1'].attrs['antenna_xds'].name.values"
   ]
  },
  {
   "cell_type": "code",
   "execution_count": null,
   "id": "007a50ca",
   "metadata": {},
   "outputs": [],
   "source": [
    "ps['global_vlbi_gg084b_reduced_ddi_1_intent_None_field_id_1'].baseline_antenna1_id.values"
   ]
  },
  {
   "cell_type": "code",
   "execution_count": null,
   "id": "5a1778b8",
   "metadata": {},
   "outputs": [],
   "source": [
    "ps['global_vlbi_gg084b_reduced_ddi_1_intent_None_field_id_1'].baseline_antenna2_id.values"
   ]
  },
  {
   "cell_type": "code",
   "execution_count": null,
   "id": "ce418c64",
   "metadata": {},
   "outputs": [],
   "source": []
  }
 ],
 "metadata": {
  "kernelspec": {
   "display_name": "Python 3 (ipykernel)",
   "language": "python",
   "name": "python3"
  },
  "language_info": {
   "codemirror_mode": {
    "name": "ipython",
    "version": 3
   },
   "file_extension": ".py",
   "mimetype": "text/x-python",
   "name": "python",
   "nbconvert_exporter": "python",
   "pygments_lexer": "ipython3",
   "version": "3.8.18"
  }
 },
 "nbformat": 4,
 "nbformat_minor": 5
}
