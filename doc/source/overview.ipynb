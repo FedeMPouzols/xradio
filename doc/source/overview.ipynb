{
 "cells": [
  {
   "cell_type": "markdown",
   "metadata": {},
   "source": [
    "## Introduction\n",
    "\n",
    "XRADIO is an open-source Python package that leverages [xarray](https://github.com/pydata/xarray) to provide an interface for radio astronomy data. It utilizes the following data structures:\n",
    "\n",
    "- [```xarray Datasets```](https://docs.xarray.dev/en/stable/generated/xarray.Dataset.html): These are collections of labeled n-dimensional arrays.\n",
    "- ```XRADIO Processing Sets```: These are collections of ```xarray Datasets```, a data structure that XRADIO implements.\n",
    "\n",
    "XRADIO is in the process of providing access to the following types of data:\n",
    "\n",
    "- Observation data: Interferometer Data (Visibilities) and Single Dish data (Spectrum), housed in ```Processing Sets (PS)```. [<span style=\"color:red\">Currently being implemented</span>]\n",
    "- Sky and Aperture Images, stored in ```xarray Datasets```. [<span style=\"color:red\">Partially implemented; schema design ongoing</span>]\n",
    "- Aperture Zernike Models, contained in ```xarray Datasets```. [<span style=\"color:red\">Schema design in progress</span>]\n",
    "- Calibration data, located in ```xarray Datasets```. [<span style=\"color:red\">Schema design in progress</span>]\n",
    "- Simulation component lists, found in ```xarray Datasets```. [<span style=\"color:red\">Schema design in progress</span>]\n",
    "- And more..."
   ]
  },
  {
   "cell_type": "markdown",
   "metadata": {},
   "source": [
    "## Installation\n",
    "\n",
    "It is recommended to use the [conda](https://docs.conda.io/projects/conda/en/latest/) environment manager to create a clean, self-contained runtime where ```XRADIO``` and all its dependencies can be installed:\n",
    "```sh\n",
    "conda create --name xradio python=3.11 --no-default-packages\n",
    "conda activate xradio\n",
    "\n",
    "```\n",
    "> 📝 On macOS it is required to pre-install `python-casacore` using `conda install -c conda-forge python-casacore`.\n",
    "\n",
    "Making xradio available for download from conda-forge directly is pending, so until then the current recommendation is to sully that pristine environment by calling pip [from within conda](https://www.anaconda.com/blog/using-pip-in-a-conda-environment), like this:\n",
    "```sh\n",
    "pip install xradio\n",
    "```"
   ]
  },
  {
   "cell_type": "markdown",
   "metadata": {},
   "source": [
    "## Foundational Reading \n",
    "\n",
    "The description and selection of data in `XRADIO` is based on `xarray`. To use `XRADIO` effectively, it's crucial to understand the terminology and indexing methods used in `xarray`. Here are some important resources:\n",
    "- [xarray terminology](https://docs.xarray.dev/en/latest/user-guide/terminology.html)\n",
    "- [xarray indexing and selection guide](https://docs.xarray.dev/en/latest/user-guide/indexing.html)"
   ]
  },
  {
   "cell_type": "markdown",
   "metadata": {},
   "source": [
    "## Contributing"
   ]
  },
  {
   "cell_type": "markdown",
   "metadata": {},
   "source": [
    "## Resources"
   ]
  }
 ],
 "metadata": {
  "kernelspec": {
   "display_name": "zinc",
   "language": "python",
   "name": "python3"
  },
  "language_info": {
   "codemirror_mode": {
    "name": "ipython",
    "version": 3
   },
   "file_extension": ".py",
   "mimetype": "text/x-python",
   "name": "python",
   "nbconvert_exporter": "python",
   "pygments_lexer": "ipython3",
   "version": "3.11.9"
  }
 },
 "nbformat": 4,
 "nbformat_minor": 2
}
