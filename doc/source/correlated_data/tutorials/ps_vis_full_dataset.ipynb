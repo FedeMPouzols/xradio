{
 "cells": [
  {
   "cell_type": "markdown",
   "id": "17f99679-6680-4b96-a978-af765635b0d8",
   "metadata": {},
   "source": [
    "## Import xradio"
   ]
  },
  {
   "cell_type": "code",
   "execution_count": null,
   "id": "b83acc82-3f3d-4c92-aa5d-f25bb01ff8f7",
   "metadata": {
    "scrolled": true
   },
   "outputs": [],
   "source": [
    "import os, pprint\n",
    "from importlib.metadata import version\n",
    "\n",
    "try:\n",
    "    os.system(\"pip install --upgrade xradio\")\n",
    "\n",
    "    import xradio\n",
    "\n",
    "    print(\"Using xradio version\", version(\"xradio\"))\n",
    "\n",
    "except ImportError as exc:\n",
    "    print(f\"Could not import xradio: {exc}\")"
   ]
  },
  {
   "cell_type": "markdown",
   "id": "f1466b69-66a5-429b-a3d0-f19c7bdd3bfb",
   "metadata": {},
   "source": [
    "## Download example MSv2"
   ]
  },
  {
   "cell_type": "markdown",
   "id": "dc536ba0-5317-4ef1-b3be-1b92a50be58e",
   "metadata": {},
   "source": [
    "# Preparation"
   ]
  },
  {
   "cell_type": "code",
   "execution_count": null,
   "id": "27022146-6bc9-47fd-be7d-b3dc71b1b7ca",
   "metadata": {},
   "outputs": [],
   "source": [
    "import toolviper\n",
    "\n",
    "msv2_name = \"Antennae_North.cal.lsrk.ms\"\n",
    "toolviper.utils.data.download(file=msv2_name)"
   ]
  },
  {
   "cell_type": "markdown",
   "id": "1fda9e81-c44f-4fd3-a582-82580f3b3133",
   "metadata": {},
   "source": [
    "# Processing Set"
   ]
  },
  {
   "cell_type": "markdown",
   "id": "63473e60-615c-4249-b40d-f6068790b47e",
   "metadata": {},
   "source": [
    "## Convert MSv2 => Processing Set (PS)"
   ]
  },
  {
   "cell_type": "code",
   "execution_count": null,
   "id": "85c49f92-da66-4ad5-8c85-d3a75a5902ff",
   "metadata": {},
   "outputs": [],
   "source": [
    "from xradio.correlated_data.convert_msv2_to_processing_set import convert_msv2_to_processing_set\n",
    "\n",
    "msv2_name = \"Antennae_North.cal.lsrk.ms\"\n",
    "convert_out = \"Antennae_North.cal.lsrk.vis.zarr\"\n",
    "convert_msv2_to_processing_set(\n",
    "    in_file=msv2_name,\n",
    "    out_file=convert_out,\n",
    "    overwrite=True,\n",
    ")"
   ]
  },
  {
   "cell_type": "markdown",
   "id": "e69936df-63bd-4a49-adeb-8fba6bc572ff",
   "metadata": {},
   "source": [
    "## Lazy read PS"
   ]
  },
  {
   "cell_type": "code",
   "execution_count": null,
   "id": "02d150f5-f513-4ab8-a2e2-9051d6c79d25",
   "metadata": {},
   "outputs": [],
   "source": [
    "from xradio.correlated_data import open_processing_set\n",
    "\n",
    "convert_out = \"Antennae_North.cal.lsrk.vis.zarr\"\n",
    "intents = [\"OBSERVE_TARGET#ON_SOURCE\"]\n",
    "ps = open_processing_set(convert_out, intents=intents)"
   ]
  },
  {
   "cell_type": "code",
   "execution_count": null,
   "id": "5896ec8f",
   "metadata": {},
   "outputs": [],
   "source": [
    "ps.summary()"
   ]
  },
  {
   "cell_type": "markdown",
   "id": "f36b2fa7-a02d-4cb4-8e20-e7e8dbf312ce",
   "metadata": {},
   "source": [
    "## PS Structure"
   ]
  },
  {
   "cell_type": "markdown",
   "id": "ce8e4195-cb86-4545-8cbd-8c1772c15a92",
   "metadata": {},
   "source": [
    "A processing set is simply a dictionary of MSv4s (one per observation, field, intent, spectral window - polarization...):"
   ]
  },
  {
   "cell_type": "code",
   "execution_count": null,
   "id": "c8291914-d494-4a40-8ff6-5280e9faaf34",
   "metadata": {},
   "outputs": [],
   "source": [
    "len(ps)"
   ]
  },
  {
   "cell_type": "code",
   "execution_count": null,
   "id": "e2b57b60-62bc-41e2-964a-2169700501f4",
   "metadata": {},
   "outputs": [],
   "source": [
    "ps.keys()"
   ]
  },
  {
   "cell_type": "markdown",
   "id": "0653e557-c381-4a4d-b864-a7fef8c2c44c",
   "metadata": {},
   "source": [
    "# MSv4\n"
   ]
  },
  {
   "cell_type": "markdown",
   "id": "e9873379-b84b-40e3-bc51-9a25a1a99c28",
   "metadata": {},
   "source": [
    "## Main dataset"
   ]
  },
  {
   "cell_type": "markdown",
   "id": "d4d770e0-5698-40d7-9e10-c9da09b2d5db",
   "metadata": {},
   "source": [
    "We can take one of the items of the Processing Set to look into the contents of that MSv4. Every MSv4 represents the data as an xarray dataset, similarly as in earlier CNGI prototypes. The data variables (visibilities, weights, flags, etc.) can be manipulated and used in computations using the xarray API."
   ]
  },
  {
   "cell_type": "code",
   "execution_count": null,
   "id": "151d53f9-783f-4203-a104-e143763dcee0",
   "metadata": {},
   "outputs": [],
   "source": [
    "main_xds = ps[\n",
    "    \"Antennae_North.cal.lsrk_01\"\n",
    "]"
   ]
  },
  {
   "cell_type": "code",
   "execution_count": null,
   "id": "2d65e3dd-c3c7-4b44-9850-da55f503ce7f",
   "metadata": {},
   "outputs": [],
   "source": [
    "main_xds"
   ]
  },
  {
   "cell_type": "markdown",
   "id": "c3569dbe-537a-4095-8393-07727c93649b",
   "metadata": {},
   "source": [
    "#### Coordinates"
   ]
  },
  {
   "cell_type": "code",
   "execution_count": null,
   "id": "0f9d1a44-9b35-4cab-aa5e-91ce20b4605b",
   "metadata": {},
   "outputs": [],
   "source": [
    "main_xds.polarization"
   ]
  },
  {
   "cell_type": "code",
   "execution_count": null,
   "id": "5e1fc4ca-60c2-46f1-b6da-ce44d02d8f1a",
   "metadata": {},
   "outputs": [],
   "source": [
    "main_xds.uvw_label"
   ]
  },
  {
   "cell_type": "code",
   "execution_count": null,
   "id": "48d97cd5-e52b-4a82-ac50-7e4c8bc132c6",
   "metadata": {},
   "outputs": [],
   "source": [
    "main_xds.coords[\"baseline_id\"]"
   ]
  },
  {
   "cell_type": "code",
   "execution_count": null,
   "id": "9bfe697e-c66b-4b55-a745-99a9a5c06231",
   "metadata": {},
   "outputs": [],
   "source": [
    "main_xds.time"
   ]
  },
  {
   "cell_type": "markdown",
   "id": "669cfca1-1a74-4e1d-88f7-501e4a8e1003",
   "metadata": {},
   "source": [
    "#### Data vars"
   ]
  },
  {
   "cell_type": "code",
   "execution_count": null,
   "id": "f32db76f-8db3-4b7a-a092-77702250413e",
   "metadata": {},
   "outputs": [],
   "source": [
    "main_xds.VISIBILITY"
   ]
  },
  {
   "cell_type": "code",
   "execution_count": null,
   "id": "2c727364-e394-44ab-bd93-9c4a65cfb150",
   "metadata": {},
   "outputs": [],
   "source": [
    "main_xds.FLAG"
   ]
  },
  {
   "cell_type": "code",
   "execution_count": null,
   "id": "b5a66055-53f7-4f22-9554-681a81f612ef",
   "metadata": {},
   "outputs": [],
   "source": [
    "main_xds.VISIBILITY.max()"
   ]
  },
  {
   "cell_type": "code",
   "execution_count": null,
   "id": "70946745-4ae3-4190-a603-c11fb198c0db",
   "metadata": {},
   "outputs": [],
   "source": [
    "main_xds.VISIBILITY.max().compute()\n",
    "# main_xds.VISIBILITY.max().values"
   ]
  },
  {
   "cell_type": "markdown",
   "id": "b3693545-f26a-44a2-93d4-6cfb547cd05c",
   "metadata": {},
   "source": [
    "## Metadata"
   ]
  },
  {
   "cell_type": "markdown",
   "id": "d00df667-65e0-44f3-adce-91b2358bf828",
   "metadata": {},
   "source": [
    "The MS metadata can be found in the attributes of the main_xds. Metadata is stored in differente ways:\n",
    "- in additional xarray (sub)datasets, \"sub-xds\"\n",
    "- in attributes of coordinates and data variables\n",
    "- in Python dictionaries.\n",
    "\n",
    "An example of sub-xds is the antenna dataset. And example of dictionary is the Field info dict."
   ]
  },
  {
   "cell_type": "markdown",
   "id": "40240edd-b150-4488-9453-6293f2240b15",
   "metadata": {},
   "source": [
    "### Metadata in sub-xds. Antenna dataset"
   ]
  },
  {
   "cell_type": "markdown",
   "id": "0aabb04e-a448-4393-9e10-28c46d865d6e",
   "metadata": {},
   "source": [
    "The MSv4 has xarray datasets in its attributes that represent metadata where n-dimensional arrays is included. This would be the equivalent to subtables of the MSv2. Let's look into the antenna sub-xds:\n"
   ]
  },
  {
   "cell_type": "code",
   "execution_count": null,
   "id": "c6ca5dbd-dd9c-4057-ac32-cafac4364404",
   "metadata": {},
   "outputs": [],
   "source": [
    "ant_xds = main_xds.attrs[\"antenna_xds\"]"
   ]
  },
  {
   "cell_type": "code",
   "execution_count": null,
   "id": "31e5e8f6-1c77-4828-95b2-1efe67fe2e4b",
   "metadata": {},
   "outputs": [],
   "source": [
    "ant_xds"
   ]
  },
  {
   "cell_type": "markdown",
   "id": "df218563-4526-4d9c-a017-9ee3544c1e8e",
   "metadata": {},
   "source": [
    "As an xarray dataset, the antenna sub-xds can be used via the same API as the main xds."
   ]
  },
  {
   "cell_type": "code",
   "execution_count": null,
   "id": "ae5a8311-6749-4b1c-82ae-f87ad32c7d7b",
   "metadata": {
    "scrolled": true
   },
   "outputs": [],
   "source": [
    "ant_xds.ANTENNA_POSITION  # .values to load and see them"
   ]
  },
  {
   "cell_type": "markdown",
   "id": "b6a9317e-8f7d-4e7d-9650-96190a92e46f",
   "metadata": {},
   "source": [
    "### Attributes of Data Arrays and Coordinates. Quantities and Measures\n",
    "\n",
    "All data variables and coordinates can have quantity and measures information in their attributes section along with other relevant metadata. These measures are specified as dictionaries in the attribute of the data variable or coordinate, with keys `units` and `type` in addition to other keys depending on the type of quantity. The naming conventions are based on `astropy`. For example a quantity of casacore/`position` type, such as the antenna positions, is a quantity with `type: \"earth_location\"`\n",
    "\n",
    "For reference, this is the list of measures in the current Processing Set/MSv4 spec:\n",
    "https://docs.google.com/spreadsheets/d/14a6qMap9M5r_vjpLnaBKxsR9TF4azN5LVdOxLacOX-s/edit#gid=1504318014, with naming conventions based on astropy. For example, a casacore `direction` is a `sky_coord`.\n",
    "\n"
   ]
  },
  {
   "cell_type": "markdown",
   "id": "a733ac0d-18ac-4abe-b985-e291595523ab",
   "metadata": {},
   "source": [
    "#### Time coordinate\n",
    "The time coordinate is a time measure (keys: `type`, `units`, `time_scale`, `format`) but also contains for example `integration_time` which is a quantity."
   ]
  },
  {
   "cell_type": "code",
   "execution_count": null,
   "id": "c8b23eeb-5524-4d1c-85f8-cf98b978084d",
   "metadata": {},
   "outputs": [],
   "source": [
    "main_xds.time"
   ]
  },
  {
   "cell_type": "markdown",
   "id": "68299f4a-e473-4cbb-8906-674139beb7b7",
   "metadata": {},
   "source": [
    "##### Quantities and measures that are not xarray"
   ]
  },
  {
   "cell_type": "markdown",
   "id": "664873cf-ee69-4bfb-87e8-fdd687f60ae5",
   "metadata": {},
   "source": [
    "When a quantity or a measure is not an xarray, it is specificed as a dictionary with a format based on xarray's [xarray.DataArray.from_dict()](https://docs.xarray.dev/en/stable/generated/xarray.DataArray.from_dict.html) and it has the following keys:\n",
    "`{\"dims\": ..., \"data\": ..., \"attrs\": quantity/measures_dict}`. The `integration_time` attribute included in the  attributes of the time coordinate is an example:"
   ]
  },
  {
   "cell_type": "code",
   "execution_count": null,
   "id": "ec82997f-9fdd-4547-a256-281c2d848f49",
   "metadata": {},
   "outputs": [],
   "source": [
    "pprint.pprint(main_xds.time.attrs)"
   ]
  },
  {
   "cell_type": "markdown",
   "id": "d7bd57b1-60c2-49e6-99cc-6dd0350a39dc",
   "metadata": {},
   "source": [
    "#### Frequency coordinate\n",
    "\n",
    "The `frequency` coordinate is a `spectral_coord` measure and as such has the following keys in its attributes: `type`, `units`, and `frame`. In addition, the attributes contain the `channel_width`, `spectral_window_name`, and `reference_frequency`.\n",
    "\n",
    "Any metadata that is a quantity or measure (non-id numbers) is placed in the relevant measures or quantity dictionary."
   ]
  },
  {
   "cell_type": "code",
   "execution_count": null,
   "id": "65d79eff-57fa-4fe0-bfe9-6f0c5adcc77b",
   "metadata": {},
   "outputs": [],
   "source": [
    "main_xds.frequency"
   ]
  },
  {
   "cell_type": "markdown",
   "id": "0dc866fc-01c0-4e7f-ab42-6fd63b2a7fae",
   "metadata": {},
   "source": [
    "In the frequency coordinate we have example of:\n",
    "- quantity given as a dict: `channel_width`\n",
    "- measure given as a dict: `reference_frequency` (a `spectral_coord` ~= casacore/frequency)"
   ]
  },
  {
   "cell_type": "code",
   "execution_count": null,
   "id": "01ed6e85-d6dc-40d4-8154-88fb3dc05ab5",
   "metadata": {},
   "outputs": [],
   "source": [
    "pprint.pprint(main_xds.frequency.attrs)"
   ]
  },
  {
   "cell_type": "markdown",
   "id": "55e5e1cf-ca02-4e66-878d-82f3a405e8c4",
   "metadata": {},
   "source": [
    "### Metadata in dicts. Field info."
   ]
  },
  {
   "cell_type": "markdown",
   "id": "32524972-24da-47c5-abfe-721cdbdec9af",
   "metadata": {},
   "source": [
    "The MSv4 also allows for info dictionaries in the attribute section of the dataset. This is used when no n-dimensional data is required. The relevant measures metadata is included, similarly as with coordinates and data variables (when non-id) in xarray datasets.\n",
    "\n",
    "An example is the field_info where the delay_direction, phase_direction, and reference_direction are stored as `sky_coord` measures (keys: `type`, `units`, `reference_frame`)."
   ]
  },
  {
   "cell_type": "code",
   "execution_count": null,
   "id": "1d792596-ad61-434f-89f6-2d511af14859",
   "metadata": {},
   "outputs": [],
   "source": [
    "main_xds.VISIBILITY.field_and_source_xds"
   ]
  },
  {
   "cell_type": "markdown",
   "id": "074d518c-9a3a-42c1-9dae-a8f12a04ea3c",
   "metadata": {},
   "source": [
    "## Selection examples"
   ]
  },
  {
   "cell_type": "markdown",
   "id": "f941abaf-cfca-4de0-b843-01859e5d209b",
   "metadata": {},
   "source": [
    "One can use the usual selection functionality of xarray with all arrays, the main dataset and all sub datasets. For example, selection by labels, `sel()`:"
   ]
  },
  {
   "cell_type": "code",
   "execution_count": null,
   "id": "b3cf0dae-e447-4ba9-b015-80476c86cab0",
   "metadata": {},
   "outputs": [],
   "source": [
    "sel_xds = main_xds.sel(frequency=slice(3.43939e11, 3.4397e11))\n",
    "sel_xds.frequency"
   ]
  },
  {
   "cell_type": "markdown",
   "id": "0099ee48-bbd0-4863-8159-c5103ec2c6fc",
   "metadata": {},
   "source": [
    "Or selection by indices, `isel()`"
   ]
  },
  {
   "cell_type": "code",
   "execution_count": null,
   "id": "49702c97-e726-4aff-b3cf-694b61b00869",
   "metadata": {},
   "outputs": [],
   "source": [
    "isel_xds = main_xds.isel(frequency=slice(1, 4))\n",
    "isel_xds.frequency"
   ]
  },
  {
   "cell_type": "code",
   "execution_count": null,
   "id": "8090b7ef-f91e-4b1d-b143-8c3093992761",
   "metadata": {},
   "outputs": [],
   "source": [
    "sel_xds.equals(isel_xds)"
   ]
  },
  {
   "cell_type": "code",
   "execution_count": null,
   "id": "12b8db37-1782-4c5a-9e57-d8a49d8580aa",
   "metadata": {},
   "outputs": [],
   "source": [
    "sel_xds.identical(isel_xds)"
   ]
  },
  {
   "cell_type": "code",
   "execution_count": null,
   "id": "38cc5ddb",
   "metadata": {},
   "outputs": [],
   "source": [
    "isel_xds"
   ]
  },
  {
   "cell_type": "code",
   "execution_count": null,
   "id": "8f6296a9",
   "metadata": {},
   "outputs": [],
   "source": [
    "sel_xds"
   ]
  }
 ],
 "metadata": {
  "kernelspec": {
   "display_name": "Python 3 (ipykernel)",
   "language": "python",
   "name": "python3"
  },
  "language_info": {
   "codemirror_mode": {
    "name": "ipython",
    "version": 3
   },
   "file_extension": ".py",
   "mimetype": "text/x-python",
   "name": "python",
   "nbconvert_exporter": "python",
   "pygments_lexer": "ipython3",
   "version": "3.12.6"
  }
 },
 "nbformat": 4,
 "nbformat_minor": 5
}
