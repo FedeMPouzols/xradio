{
 "cells": [
  {
   "cell_type": "markdown",
   "id": "0b54398e-437d-43a2-a1b3-4518fea5bfb2",
   "metadata": {
    "jp-MarkdownHeadingCollapsed": true
   },
   "source": [
    "# CASA -> XDS image demo\n",
    "The current authoritative version of the full image XDS \n",
    "schema can be found at https://docs.google.com/spreadsheets/d/1WW0Gl6z85cJVPgtdgW4dxucurHFa06OKGjgoK8OREFA/edit#gid=1719181934"
   ]
  },
  {
   "cell_type": "markdown",
   "id": "7d7190ac-fa6f-48de-a5d1-5197ef3e2de6",
   "metadata": {},
   "source": [
    "# Only run the next cell if you haven't configured where to find casadata on your system. It will modify your .casarc file."
   ]
  },
  {
   "cell_type": "code",
   "execution_count": null,
   "id": "9aed09c7-6266-4647-ac8e-66269b7175c0",
   "metadata": {},
   "outputs": [],
   "source": [
    "import socket, getpass \n",
    "if not (\n",
    "    socket.gethostname() == 'orthanc' and getpass.getuser() == 'dmehring'\n",
    "):\n",
    "    import os, pkg_resources\n",
    "    casa_data_dir = pkg_resources.resource_filename('casadata',  '__data__')\n",
    "    rc_file = open(os.path.expanduser(\"~/.casarc\"),  \"a+\")   # append mode\n",
    "    rc_file.write(\"\\nmeasures.directory: \"  +  casa_data_dir)\n",
    "    rc_file.close()"
   ]
  },
  {
   "cell_type": "markdown",
   "id": "bc42a35c-b04a-476c-bffe-ebd84d15409d",
   "metadata": {},
   "source": [
    "**Install packages**"
   ]
  },
  {
   "cell_type": "code",
   "execution_count": null,
   "id": "cc51b8fc-80e9-47b9-a44d-e75f15f019f5",
   "metadata": {
    "scrolled": true,
    "tags": []
   },
   "outputs": [],
   "source": [
    "if getpass.getuser != 'dmehring':\n",
    "    from importlib.metadata import version\n",
    "    import os\n",
    "\n",
    "    print('Installing/upgrading xradio')\n",
    "    os.system('pip install --upgrade xradio pip')"
   ]
  },
  {
   "cell_type": "markdown",
   "id": "b6478c80-e036-4902-ba84-d67ea0619495",
   "metadata": {},
   "source": [
    "**Imports**"
   ]
  },
  {
   "cell_type": "code",
   "execution_count": null,
   "id": "2c900d51-c591-4949-a14a-978f35663c72",
   "metadata": {
    "scrolled": true,
    "tags": []
   },
   "outputs": [],
   "source": [
    "import xradio\n",
    "\n",
    "from xradio.data.datasets import download\n",
    "# These are the three API functions that are currently supported\n",
    "from xradio.image import load_image, read_image, write_image"
   ]
  },
  {
   "cell_type": "markdown",
   "id": "5e086436-63b2-416f-b4ad-ef5fd9f55529",
   "metadata": {},
   "source": [
    "## Download image to be used"
   ]
  },
  {
   "cell_type": "code",
   "execution_count": null,
   "id": "c440abc6-f487-4707-993e-98269ac65d55",
   "metadata": {
    "scrolled": true
   },
   "outputs": [],
   "source": [
    "imname = 'demo_simulated.im'\n",
    "download(imname)"
   ]
  },
  {
   "cell_type": "markdown",
   "id": "818bbad0-bbb5-401d-96f3-8de5f4f11252",
   "metadata": {
    "tags": []
   },
   "source": [
    "## Convert CASA image to XDS"
   ]
  },
  {
   "cell_type": "markdown",
   "id": "192235fd-f535-48c4-bc27-d355708c1a8e",
   "metadata": {
    "jp-MarkdownHeadingCollapsed": true
   },
   "source": [
    "### Supported images, casa, FITS, zarr\n",
    "Supported image formats that can be read\n",
    "by this method are casacore, FITS, and zarr. Here \"supported\" means\n",
    "some images in these formats are supported. The parameter space of\n",
    "input image formats that has been investigated is still limited. For\n",
    "example, apeture (*uv* plane) images are not yet supported, but given\n",
    "their importance in applications like *feather* which make heavy use\n",
    "of fourier transforms, support for them will likely be added sooner\n",
    "rather than later. Note that images containing Taylor terms will also\n",
    "be supported at some point.\n",
    "\n",
    "### Always 5-D, time, polarization, frequency, l/u, m/v dimensions\n",
    "Valid image XDSes always have five dimensions: time, frequency, polarization,\n",
    "l (or u),\n",
    "and m (or v). Images that have multiple (per-plane) beams will also have\n",
    "a beam_param dimension. The dimensions will follow this ordering\n",
    "in most, and maybe all, cases. That's still TBD.\n",
    "\n",
    "###  Coordinates vs dimensions\n",
    "Note that in xarray jargon, a dimension and a coordinate are\n",
    "different constructs. Coordinates are \"higher level\" in that they are\n",
    "always functions of dimensions. I think of dimensions as orthogonal\n",
    "axes in a Cartesian coordinate system. They are essentially pixel coordinate\n",
    "axes. Coordinates, however, do not\n",
    "have to conform to this constraint, which is important for curved\n",
    "surfaces like the sky. Think of RA and Dec, which are functions\n",
    "of the two direction pixel coordinates, (l, m). So, xarray coordinates\n",
    "are akin to CASA's world coordinates."
   ]
  },
  {
   "cell_type": "markdown",
   "id": "ed3f0958-0c2c-4980-8eaf-e3aa0334c1eb",
   "metadata": {},
   "source": [
    "### read_image, create image xarray dataset (XDS)\n",
    "The **read_image** function will convert an image in a supported format\n",
    "to an image XDS (xarray.Dataset)."
   ]
  },
  {
   "cell_type": "markdown",
   "id": "b6675b86-468b-4254-9a88-707e6de3b399",
   "metadata": {},
   "source": [
    "###  Output dask array chunksize specified as a dict to read_image()\n",
    "The chunk size of the output dask pixel array can be specified using\n",
    "a dictionary in which the supported keys are 'l' (corresponding to\n",
    "the longitude like dimension), 'm' (corresponding to the latitude like\n",
    "dimension), 'frequency' (corresponding to the spectral dimension), 'polarization'\n",
    "(corresponding to the polarization dimension), and 'time'\n",
    "(corresponding to the temporal dimension). The values correspond to\n",
    "the chunk length along that axis. If any of these keys are absent, the\n",
    "length of a chunk in that dimension will be equal to the number of\n",
    "pixels along that axis. Specified keys for which there are no\n",
    "corresponding axes in the CASA image are silently ignored. 'u' and 'v'\n",
    "may be substituted for 'l' and 'm' which is useful in the case of\n",
    "apeture (Fourier plane) images, when support for those has been added."
   ]
  },
  {
   "cell_type": "code",
   "execution_count": null,
   "id": "f102fb46-76f9-47f1-9652-ffa03f2bbac7",
   "metadata": {
    "tags": []
   },
   "outputs": [],
   "source": [
    "# polarization is not specified, so the length of the axis in this dimension\n",
    "# is equal to the number of pixels on the polarization axis, which is 4.\n",
    "xds = read_image(infile=imname, chunks={'l': 40, 'm': 20, 'frequency': 5})\n",
    "xds"
   ]
  },
  {
   "cell_type": "markdown",
   "id": "0406fb47-b8a3-4da6-a7f2-2b5f89aec9e9",
   "metadata": {
    "tags": []
   },
   "source": [
    "##  Data Variables"
   ]
  },
  {
   "cell_type": "markdown",
   "id": "01916608-2a84-4b57-bd6f-a04bb2753518",
   "metadata": {},
   "source": [
    "### Data Variable: Pixel Values"
   ]
  },
  {
   "cell_type": "markdown",
   "id": "14c08efa-3e1a-4d17-8164-ddfddd6a7cec",
   "metadata": {},
   "source": [
    "The image pixel values are contained in the sky data variable."
   ]
  },
  {
   "cell_type": "code",
   "execution_count": null,
   "id": "dc2c8ebf-f472-400b-89d3-489b0a3e74fb",
   "metadata": {
    "tags": []
   },
   "outputs": [],
   "source": [
    "xds.sky"
   ]
  },
  {
   "cell_type": "markdown",
   "id": "d83d3aa4-60bf-4856-b567-3a233d2ff1b2",
   "metadata": {},
   "source": [
    "###  Data Variable: Masks"
   ]
  },
  {
   "cell_type": "markdown",
   "id": "053ab34a-8bb9-4c85-a095-23a1af6a648e",
   "metadata": {
    "tags": []
   },
   "source": [
    "**WARNING: \n",
    "The meaning of xradio image mask values follows the numpy masked array\n",
    "convention which is opposite to CASA, ie True means the pixel is good, \n",
    "False means it is bad**"
   ]
  },
  {
   "cell_type": "markdown",
   "id": "46799d89-1806-471a-9a02-a684b41613cb",
   "metadata": {},
   "source": [
    "The active mask can be found in the xds 'active_mask' attr (more on attributes later). An empty string indicates that no mask is active; that is, all pixels are considered \"good\". Our example\n",
    "image does have a mask, and it is stored in the mask0 data variable."
   ]
  },
  {
   "cell_type": "code",
   "execution_count": null,
   "id": "d9d4bb24-2e79-4b64-8d6c-ec54d43e6ab3",
   "metadata": {
    "tags": []
   },
   "outputs": [],
   "source": [
    "active_mask = xds.attrs['active_mask']\n",
    "active_mask"
   ]
  },
  {
   "cell_type": "markdown",
   "id": "c7a804fb-9d54-40c9-94b8-e0694b862cd0",
   "metadata": {},
   "source": [
    "Mask values are stored in the xds data variable named for the mask"
   ]
  },
  {
   "cell_type": "code",
   "execution_count": null,
   "id": "000435c9-7dc4-49ba-a116-652134a776a7",
   "metadata": {
    "tags": []
   },
   "outputs": [],
   "source": [
    "xds[active_mask]"
   ]
  },
  {
   "cell_type": "markdown",
   "id": "af349555-67cb-47bc-9d21-d5bca171ab9a",
   "metadata": {},
   "source": [
    "Or, via XDS 'dot' notation"
   ]
  },
  {
   "cell_type": "code",
   "execution_count": null,
   "id": "02c5ad65-b5ed-4775-a8af-bfe61df24178",
   "metadata": {
    "tags": []
   },
   "outputs": [],
   "source": [
    "xds.mask0"
   ]
  },
  {
   "cell_type": "markdown",
   "id": "9f59920b-3e04-4f34-af5f-ed30be6edb0f",
   "metadata": {
    "tags": []
   },
   "source": [
    "###  Data Variable: Multiple Beams"
   ]
  },
  {
   "cell_type": "markdown",
   "id": "9c7acebf-7aac-4e6d-95ca-864a2840649a",
   "metadata": {},
   "source": [
    "For a multi (per-plane) beam image, beams are stored in the 'beam' data variable so an XDS selection results in the correct beams being selected. If the image does not have multiple beams, there is instead an xds.beam attribute. If the image has a single beam, it is stored there in a CASA-like beam dictionary {major, minor, pa}. If the image has no beam then xds.attrs['beam']=None. The image in this demo has multiple beams."
   ]
  },
  {
   "cell_type": "code",
   "execution_count": null,
   "id": "8bf8ab33-b81d-4aed-add8-6eacd8b064e0",
   "metadata": {
    "tags": []
   },
   "outputs": [],
   "source": [
    "xds.beam"
   ]
  },
  {
   "cell_type": "markdown",
   "id": "de474981-9add-40bd-90a5-5bbb08d16a54",
   "metadata": {},
   "source": [
    "All beam parameters are stored in a single array. The final dimension in the beam array is 'beam_param'. The length of this axis is always three. The three \"coordinate\" labels for that axis are for major axis, minor axis, and position angle. The values on the beam_param axis are labeled to allow easy selection using xarray selection methods. For example, one can easily select only the major axis values. Normally, we don't want to drop degenerate dimensions produced by selections, so to avoid that we put the value being selected in square brackets (more on selecting data later)."
   ]
  },
  {
   "cell_type": "code",
   "execution_count": null,
   "id": "100b1bc0-a3c2-4b2f-b31c-4c3cfe6548af",
   "metadata": {
    "tags": []
   },
   "outputs": [],
   "source": [
    "xds.beam.sel(beam_param=['major'])"
   ]
  },
  {
   "cell_type": "markdown",
   "id": "d60eb438-ba0c-4607-a0da-d932f56b69a0",
   "metadata": {},
   "source": [
    "## Coordinates"
   ]
  },
  {
   "cell_type": "markdown",
   "id": "376c5caf-10fc-4e46-9317-03239ac95f4c",
   "metadata": {},
   "source": [
    "### Accessing Coordinates"
   ]
  },
  {
   "cell_type": "markdown",
   "id": "199446a2-8069-41f1-a95f-d499da71ab8d",
   "metadata": {},
   "source": [
    "Coordinate are stored as xarray DataArrays. A coordinate may have\n",
    "attributes that provide metadata pertaining to the coordinate.\n",
    "\n",
    "You can explicitly indicate a coordinate is a by referring to the coords\n",
    "dict of the xds. This may make your code more readable. However you can\n",
    "also refer to them using the 'dot' notation, and because a coordinate\n",
    "sometimes has the same name as a dimension (and so is called a dimension\n",
    "coordinate), and because when indexing dimensions you always use the\n",
    "'dot' notation, using the 'dot' notation for coordinates as well is\n",
    "probably ok from a best practice point of view. So, my opinion is\n",
    "either-or."
   ]
  },
  {
   "cell_type": "code",
   "execution_count": null,
   "id": "47efe502-60c0-4f31-8579-ea18a4f4e397",
   "metadata": {
    "scrolled": true,
    "tags": []
   },
   "outputs": [],
   "source": [
    "xds.coords['time']\n",
    "# or\n",
    "xds.time\n",
    "# or\n",
    "xds['time']"
   ]
  },
  {
   "cell_type": "code",
   "execution_count": null,
   "id": "cf55aa93-1a40-4002-b2a1-d7681a15255b",
   "metadata": {
    "tags": []
   },
   "outputs": [],
   "source": [
    "xds.polarization"
   ]
  },
  {
   "cell_type": "code",
   "execution_count": null,
   "id": "28320c5a-5188-473e-ace8-da4d6d7db6a8",
   "metadata": {
    "tags": []
   },
   "outputs": [],
   "source": [
    "xds.frequency"
   ]
  },
  {
   "cell_type": "code",
   "execution_count": null,
   "id": "3eef1067-8d70-4cdd-84ca-201fe312a68e",
   "metadata": {
    "tags": []
   },
   "outputs": [],
   "source": [
    "xds.vel"
   ]
  },
  {
   "cell_type": "markdown",
   "id": "f8eb6e9f-3221-4202-8d9d-9b14310eda3f",
   "metadata": {},
   "source": [
    "For astronomical images, the longitude-like (eg, RA) and latitude-like\n",
    "(eg, Dec) coordinates are functions of both the *l* and *m* dimensions\n",
    "and so are 2-D arrays to properly account for sky curvature. These\n",
    "values are generally in radians. The coordinate name will depend on what\n",
    "is represented, eg it could be galactic_longitude for an image that uses\n",
    "galactic coordinates."
   ]
  },
  {
   "cell_type": "code",
   "execution_count": null,
   "id": "461e22ea-506c-4d05-8801-e95c557da81f",
   "metadata": {
    "tags": []
   },
   "outputs": [],
   "source": [
    "xds.right_ascension"
   ]
  },
  {
   "cell_type": "code",
   "execution_count": null,
   "id": "e74f019f-d5a9-4da1-965b-402683191067",
   "metadata": {
    "tags": []
   },
   "outputs": [],
   "source": [
    "xds.declination"
   ]
  },
  {
   "cell_type": "markdown",
   "id": "b147607d-804d-4e62-953f-a7aee87c6cc5",
   "metadata": {},
   "source": [
    "### Coordinate Attributes"
   ]
  },
  {
   "cell_type": "markdown",
   "id": "8d4dadb3-9376-48c7-8a0d-4e7dee4527e2",
   "metadata": {
    "tags": []
   },
   "source": [
    "All coordinates, except polarization, have attributes, which are metadata that describe the coordinate. These are dictionaries that are stored in the attrs field of the coordinate.\n",
    "\n",
    "#### attrs is a dict and accessible via the attrs field"
   ]
  },
  {
   "cell_type": "code",
   "execution_count": null,
   "id": "c30113b7-a3c8-4e90-86fd-eebd465e0568",
   "metadata": {
    "tags": []
   },
   "outputs": [],
   "source": [
    "xds.time.attrs"
   ]
  },
  {
   "cell_type": "markdown",
   "id": "22a99d4d-453e-4846-936a-31da04074b9c",
   "metadata": {},
   "source": [
    "####  prefer to access attrs via the explicit attrs field rather than dot notation\n",
    "You can again access attributes with the 'dot' notation, but because\n",
    "attributes can be numerous, I generally indicate explicitly that I'm\n",
    "referring to an attribute by explicitly naming the attrs field. IMO this\n",
    "is best practice when referring to attributes. It's a bit easier to \n",
    "distinguish coordinate attributes using the 'dot' notation than it is\n",
    "to distinguish dataset attributes (discussed later), but for\n",
    "consistency I like to explicitly refer to the attrs field in both cases."
   ]
  },
  {
   "cell_type": "code",
   "execution_count": null,
   "id": "8fec73fe-fe5d-4ec4-a389-98f6d727604f",
   "metadata": {},
   "outputs": [],
   "source": [
    "# So I don't recommend this, even though it is valid\n",
    "xds.time.unit\n",
    "# I instead recommend this\n",
    "xds.time.attrs['unit']"
   ]
  },
  {
   "cell_type": "code",
   "execution_count": null,
   "id": "837f3916-4a6d-4e2e-8c7b-9bb3433a5fdb",
   "metadata": {
    "tags": []
   },
   "outputs": [],
   "source": [
    "xds.frequency.attrs"
   ]
  },
  {
   "cell_type": "code",
   "execution_count": null,
   "id": "93a59b78-0ead-44f0-9283-565075eda9cb",
   "metadata": {
    "tags": []
   },
   "outputs": [],
   "source": [
    "xds.vel.attrs"
   ]
  },
  {
   "cell_type": "markdown",
   "id": "1e943c5c-4509-4b58-8fb0-898be6469aaa",
   "metadata": {},
   "source": [
    "For astronomical images, the longitude-like and latitude-like coordinate have both seperable attributes and shared attributes. The separable attributes are stored with the coordinate. The shared attributes are stored in the 'direction' attribute of the xds."
   ]
  },
  {
   "cell_type": "code",
   "execution_count": null,
   "id": "4aad3e7c-bcfd-44e3-ba28-576256e4f49b",
   "metadata": {
    "tags": []
   },
   "outputs": [],
   "source": [
    "xds.right_ascension.attrs"
   ]
  },
  {
   "cell_type": "code",
   "execution_count": null,
   "id": "dd005234-40ae-445c-a04e-136603ac23ef",
   "metadata": {
    "tags": []
   },
   "outputs": [],
   "source": [
    "xds.declination.attrs"
   ]
  },
  {
   "cell_type": "markdown",
   "id": "ea313b75-84b4-4d69-813e-e1bf8146cdf3",
   "metadata": {},
   "source": [
    "##  Dateset Level Attributes"
   ]
  },
  {
   "cell_type": "markdown",
   "id": "38883680-e1a0-47b8-bd1d-4534543843ef",
   "metadata": {
    "tags": []
   },
   "source": [
    "Metadata that apply to the dataset as a whole are stored in dataset\n",
    "level attributes. Most of these come right from the CASA image\n",
    "metadata."
   ]
  },
  {
   "cell_type": "code",
   "execution_count": null,
   "id": "e62d0a1a-514e-4fd6-8b92-9627fa6ccf2d",
   "metadata": {
    "tags": []
   },
   "outputs": [],
   "source": [
    "xds.attrs.keys()"
   ]
  },
  {
   "cell_type": "markdown",
   "id": "a7ad2e6a-0db2-412c-aea4-30cff4a297d2",
   "metadata": {},
   "source": [
    "This is the shared direction coordinate metadata at the xds level. Note that system='J2000' in the CASA image maps to system='FK5' (the frame in astropy speak) and equinox='J2000' in the xds image. This is how astropy requires these details to be provided."
   ]
  },
  {
   "cell_type": "code",
   "execution_count": null,
   "id": "d754e8ce-c1dc-4b8c-96d9-458a272f9c09",
   "metadata": {
    "tags": []
   },
   "outputs": [],
   "source": [
    "xds.attrs['direction']"
   ]
  },
  {
   "cell_type": "code",
   "execution_count": null,
   "id": "63a7cc71-43c5-4123-8329-e52c2cf149bb",
   "metadata": {
    "tags": []
   },
   "outputs": [],
   "source": [
    "xds.attrs['telescope']"
   ]
  },
  {
   "cell_type": "code",
   "execution_count": null,
   "id": "d830f89a-17aa-4e9e-8c3c-94357c3f153b",
   "metadata": {
    "tags": []
   },
   "outputs": [],
   "source": [
    "xds.attrs['observer']"
   ]
  },
  {
   "cell_type": "code",
   "execution_count": null,
   "id": "affcef16-0578-4e02-8e37-81c29e15f6eb",
   "metadata": {
    "tags": []
   },
   "outputs": [],
   "source": [
    "xds.attrs['obsdate']"
   ]
  },
  {
   "cell_type": "code",
   "execution_count": null,
   "id": "f356e8e2-3c5d-429b-9b8e-add27e60ed44",
   "metadata": {
    "tags": []
   },
   "outputs": [],
   "source": [
    "xds.attrs['pointing_center']"
   ]
  },
  {
   "cell_type": "code",
   "execution_count": null,
   "id": "c42d1f6a-d0ec-41f5-acdc-3ab5d0eb448b",
   "metadata": {
    "tags": []
   },
   "outputs": [],
   "source": [
    "xds.attrs['object_name']"
   ]
  },
  {
   "cell_type": "markdown",
   "id": "48c692c7-d298-46c4-b848-5fc7ebf12106",
   "metadata": {},
   "source": [
    "#### Cannot set attr using dot notation\n",
    "xarray does not permit setting of attributes using 'dot' notation."
   ]
  },
  {
   "cell_type": "code",
   "execution_count": null,
   "id": "3450b527-5715-4411-9ad7-86c87ee3188a",
   "metadata": {
    "scrolled": true
   },
   "outputs": [],
   "source": [
    "try:\n",
    "    xds.object_name = 'SgrB2'\n",
    "    print(\n",
    "        'Wow! You have superhuman python powers. We would like to hire you as an '\n",
    "        'assistant superhero python developer with the Avengers!'\n",
    "    )\n",
    "except Exception as e:\n",
    "    print(e)\n",
    "    print(\n",
    "        '\\nAww. You only have regular human python powers. Thanks for applying for a '\n",
    "        'position with the Avengers, but we have no use for your feeble regular human '\n",
    "        'python powers at this time.'\n",
    "    )"
   ]
  },
  {
   "cell_type": "code",
   "execution_count": null,
   "id": "8923c27f-90f1-445c-9e7b-c984e88268fe",
   "metadata": {},
   "outputs": [],
   "source": [
    "xds.attrs['object_name'] = 'SgrB2'\n",
    "xds.attrs['object_name']"
   ]
  },
  {
   "cell_type": "markdown",
   "id": "91db2ed4-cb3f-433f-a39b-d0b21d35f4aa",
   "metadata": {},
   "source": [
    "#### User attr dictionary\n",
    "The 'user' attribute is for user specified metadata. This is also where metadata from the CASA image 'miscinfo' dictionary are written."
   ]
  },
  {
   "cell_type": "code",
   "execution_count": null,
   "id": "9457749f-2e35-4e65-bcc4-8c055aecf01c",
   "metadata": {
    "tags": []
   },
   "outputs": [],
   "source": [
    "xds.attrs['user']['phone']=123456\n",
    "xds.attrs['user']"
   ]
  },
  {
   "cell_type": "code",
   "execution_count": null,
   "id": "1652af46-54bc-492e-97b2-fe74f5cd7ed6",
   "metadata": {
    "tags": []
   },
   "outputs": [],
   "source": [
    "xds.attrs['description'] # this image has no description"
   ]
  },
  {
   "cell_type": "code",
   "execution_count": null,
   "id": "a37f3980-b1d5-4ab6-aab1-cffba8c690ac",
   "metadata": {
    "tags": []
   },
   "outputs": [],
   "source": [
    "xds.attrs['description'] = 'my way cool pretend image'\n",
    "xds.attrs['description']"
   ]
  },
  {
   "cell_type": "markdown",
   "id": "d25e500a-139b-45a4-b357-9c5fd2814e82",
   "metadata": {},
   "source": [
    "The history is currently stored as an xarray Dataset but the specific\n",
    "format will likely change once a format that can be used for both\n",
    "images and MSes has been specified"
   ]
  },
  {
   "cell_type": "code",
   "execution_count": null,
   "id": "14a3b13c-c65a-4319-b11e-087038ade72f",
   "metadata": {
    "tags": []
   },
   "outputs": [],
   "source": [
    "xds.attrs['history']"
   ]
  },
  {
   "cell_type": "code",
   "execution_count": null,
   "id": "5f5aa7e6-cf89-4227-a639-9d3f73b4dda7",
   "metadata": {
    "tags": []
   },
   "outputs": [],
   "source": [
    "xds.attrs['history'].TIME"
   ]
  },
  {
   "cell_type": "code",
   "execution_count": null,
   "id": "aea4ab82-1791-4f13-825c-8cf4561e76c6",
   "metadata": {
    "tags": []
   },
   "outputs": [],
   "source": [
    "xds.attrs['history'].MESSAGE"
   ]
  },
  {
   "cell_type": "markdown",
   "id": "1bc17bbf-f4b5-44e9-8492-f8acc7199679",
   "metadata": {},
   "source": [
    "##  Bonus Section: Measures in xradio\n",
    "xradio will support a few types of measures (and the image schema will be\n",
    "updated to support those very soon). A measure will have a type key indicating\n",
    "what type of measure it is. There will be a quantity type"
   ]
  },
  {
   "cell_type": "code",
   "execution_count": null,
   "id": "15fb3bbd-41e6-4109-8aa7-fe4a4d089bf3",
   "metadata": {},
   "outputs": [],
   "source": [
    "{'type': 'quantity', 'value': 4, 'units': \"m\"}"
   ]
  },
  {
   "cell_type": "markdown",
   "id": "4956656f-c561-4011-a092-a92c20a6577e",
   "metadata": {},
   "source": [
    "time type"
   ]
  },
  {
   "cell_type": "code",
   "execution_count": null,
   "id": "4b51da70-4b14-4930-861d-bc31c67d9b66",
   "metadata": {},
   "outputs": [],
   "source": [
    "{\n",
    "    'type': 'time', 'value': 1697666092, 'units': 's', \n",
    "    'scale': 'utc', 'format': 'unix'\n",
    "}"
   ]
  },
  {
   "cell_type": "markdown",
   "id": "2b2a975d-41ea-4d72-b1d2-0218e7c9877a",
   "metadata": {},
   "source": [
    "spectral_coord type"
   ]
  },
  {
   "cell_type": "code",
   "execution_count": null,
   "id": "fac492d1-4b23-4e6b-9694-4fbe1f7e67a0",
   "metadata": {},
   "outputs": [],
   "source": [
    "{'type': 'spectral_coord', 'value': 1.415e9, 'units': ['Hz'], 'frame': 'lsrk'}"
   ]
  },
  {
   "cell_type": "markdown",
   "id": "af24f198-b620-4760-8957-0c1ba2e84ce0",
   "metadata": {},
   "source": [
    "sky_coord type"
   ]
  },
  {
   "cell_type": "code",
   "execution_count": null,
   "id": "c9547ae0-6d02-4472-b2e6-79750dbd390c",
   "metadata": {},
   "outputs": [],
   "source": [
    "{'type': 'sky_coord', 'value': [1.5, -0.4], 'units': 'rad', 'frame':'FK5'}"
   ]
  },
  {
   "cell_type": "markdown",
   "id": "3e152c24-d0fa-4a63-be57-db25e069dc5a",
   "metadata": {},
   "source": [
    "earth_location type"
   ]
  },
  {
   "cell_type": "code",
   "execution_count": null,
   "id": "1296140d-8643-4518-b6c1-1b46e920deb3",
   "metadata": {},
   "outputs": [],
   "source": [
    "{\n",
    "    'type': 'earch_location', 'value': [-1.1825466, -0.3994149, 6379946],\n",
    "    'units': ['rad', 'rad', 'm'], 'ellipsoid':'GRS80'\n",
    "}"
   ]
  },
  {
   "cell_type": "markdown",
   "id": "ac5e1897-20f0-46e5-8060-d316e5f95c56",
   "metadata": {},
   "source": [
    "and doppler type"
   ]
  },
  {
   "cell_type": "code",
   "execution_count": null,
   "id": "eb8a0e65-98a8-45bb-8be8-f8086f615765",
   "metadata": {},
   "outputs": [],
   "source": [
    "{\n",
    "    'type': 'doppler', 'value': 60000, 'units': 'm/s',\n",
    "    'doppler_type': 'radio'\n",
    "}"
   ]
  },
  {
   "cell_type": "markdown",
   "id": "e3787d22-776d-4391-a9ec-26f0c896f949",
   "metadata": {},
   "source": [
    "##  Data Selection"
   ]
  },
  {
   "cell_type": "markdown",
   "id": "b08e24f8-5fdd-4dda-a285-90950edb3c34",
   "metadata": {},
   "source": [
    "###  Using numpy indexing (but don't do this)"
   ]
  },
  {
   "cell_type": "markdown",
   "id": "b7f5ff11-d9b6-4c65-a75f-a0fc8470bcb6",
   "metadata": {},
   "source": [
    "Basic numpy indexing and slicing can be used to get values, although this method is the least recommended since it assumes the axis ordering. Better ways are discussed later."
   ]
  },
  {
   "cell_type": "markdown",
   "id": "f340eba9-2468-4e1f-83fa-0dd56c720caf",
   "metadata": {},
   "source": [
    "####  values returns a numpy array\n",
    "'values' returns a numpy array. Note that with the specified selection below, the output polarization axis will be degenerate. \n",
    "\n",
    "#### Carry along all dimensions when selecting to end up with a valid image XDS\n",
    "The degenerate axis is kept by specifying the corresponding axis selection as [0], rather than 0. In the latter case, the axis will be dropped. In general, we want to carry all dimensions along; an image XDS pixel and mask data variables should always be five dimensional to avoid any ambiguity of dimension number to coordinate mapping."
   ]
  },
  {
   "cell_type": "code",
   "execution_count": null,
   "id": "76e83311-7bd3-475d-8a2f-57e0d44cee18",
   "metadata": {
    "scrolled": true,
    "tags": []
   },
   "outputs": [],
   "source": [
    "vals = xds.sky[:, [0], 8:9, 5:7, 8:9].values\n",
    "vals"
   ]
  },
  {
   "cell_type": "markdown",
   "id": "89168b9d-0cfa-47b0-afe6-96a2602cf747",
   "metadata": {
    "tags": []
   },
   "source": [
    "####  compute() returns an xarray.DataArray\n",
    "Calling compute() returns an xarray DataArray. Similar to above, if the\n",
    "polarization axis selection is not enclosed in [], the pol dimension will\n",
    "be dropped in the output DataArray."
   ]
  },
  {
   "cell_type": "code",
   "execution_count": null,
   "id": "ceeb791a-1ea5-4cde-a876-2023b87b412c",
   "metadata": {
    "tags": []
   },
   "outputs": [],
   "source": [
    "xda = xds.sky[:,[0], 8:9, 5:7, 8:9].compute()\n",
    "xda"
   ]
  },
  {
   "cell_type": "markdown",
   "id": "f86f54d5-455b-4381-8f1b-e0a366e2c938",
   "metadata": {},
   "source": [
    "#### But don't use numpy selection syntax, instead select by dimensions and/or coordinates\n",
    "In general, numpy selection syntax is discouraged. It is preferred instead that selection make use of xarray style selection which is based on dimension and coordinate names and labels."
   ]
  },
  {
   "cell_type": "markdown",
   "id": "5346bbe2-d657-42d6-9c97-fed9e399e611",
   "metadata": {
    "jp-MarkdownHeadingCollapsed": true
   },
   "source": [
    " ### Using `isel()`"
   ]
  },
  {
   "cell_type": "markdown",
   "id": "3ef91a98-ec8b-4d79-a96d-0640cf89f43a",
   "metadata": {},
   "source": [
    "One can select xarray data using indexing by dimension names.\n",
    "This can be done at the xarray.DataArray level, or the xarray.Dataset level.\n",
    "\n",
    "For example, to select stokes I from the first two frequency planes in the Dataset using integer array indices. Remember the numpy selection syntax used to preserve dimensionality when there is a degenerate axis in the output? That applies here as well"
   ]
  },
  {
   "cell_type": "code",
   "execution_count": null,
   "id": "5f2fd25c-1f94-4e0c-a47c-e781749572a7",
   "metadata": {
    "tags": []
   },
   "outputs": [],
   "source": [
    "freq_0_1 = xds.isel({'frequency': slice(0, 2), 'polarization':[0]})\n",
    "freq_0_1"
   ]
  },
  {
   "cell_type": "markdown",
   "id": "b89c43e9-5b5b-4229-a62f-bc87618680c2",
   "metadata": {
    "tags": []
   },
   "source": [
    "###  Using `sel()`"
   ]
  },
  {
   "cell_type": "markdown",
   "id": "8f5ff64d-ded0-4b6a-b78e-a39614107063",
   "metadata": {},
   "source": [
    "Or select by coordinate labels using sel()."
   ]
  },
  {
   "cell_type": "code",
   "execution_count": null,
   "id": "cf691312-78bd-4be8-abd1-7525fa8dcab7",
   "metadata": {
    "tags": []
   },
   "outputs": [],
   "source": [
    "freq_0_1_labels = xds.sel(frequency=slice(1.414975e9, 1.414976e9), polarization=['I'])\n",
    "freq_0_1_labels"
   ]
  },
  {
   "cell_type": "code",
   "execution_count": null,
   "id": "91d19fb1-e0eb-4432-af7f-17baa36bf655",
   "metadata": {
    "tags": []
   },
   "outputs": [],
   "source": [
    "(freq_0_1.sky.values == freq_0_1_labels.sky.values).all()"
   ]
  },
  {
   "cell_type": "markdown",
   "id": "d993e300-bda5-477a-8f16-0d4211e55132",
   "metadata": {},
   "source": [
    "###  Chaining `isel()` and `sel()`"
   ]
  },
  {
   "cell_type": "markdown",
   "id": "b4413d24-9c6f-44d1-a498-4d5337be4765",
   "metadata": {},
   "source": [
    "sel() and isel() can be chained for maximum flexibility. Don't forget to express the pol selection as a list so dimensions are not dropped"
   ]
  },
  {
   "cell_type": "code",
   "execution_count": null,
   "id": "0fd47942-5bc5-4581-a4e1-4bd0e39d1019",
   "metadata": {
    "tags": []
   },
   "outputs": [],
   "source": [
    "freq_0_1_isel_sel = xds.isel(frequency=slice(0,2)).sel(polarization=['I'])\n",
    "freq_0_1_isel_sel"
   ]
  },
  {
   "cell_type": "code",
   "execution_count": null,
   "id": "55816c9f-8bd4-475e-a601-6a641690f83b",
   "metadata": {
    "tags": []
   },
   "outputs": [],
   "source": [
    "(freq_0_1.sky.values == freq_0_1_isel_sel.sky.values).all()"
   ]
  },
  {
   "cell_type": "markdown",
   "id": "08a0e560-b1df-43fd-91b7-d2836a1719af",
   "metadata": {},
   "source": [
    "### Using where() to define image regions\n",
    "where() is useful for ~~selecting~~ deliniating regions via masking. where() does not select regions, and so it is fundamentally different from isel() and sel() in this regard. It instead conforms to the rules of binary math operations on xarray.Datasets (https://docs.xarray.dev/en/stable/user-guide/computation.html).\n",
    "\n",
    "This is important to understand for what we are about to do next. We are going to mask a region based on a condition specified by what can be thought of as a general function of l and m. This will do what you might expect for xds.sky, but for xds.beam, it will add dimensions l and m because of broadcasting rules. So, here we really just want to mask xds.sky and so will run where() on the xds.sky DataArray, not the entire xds Dataset.\n",
    "\n",
    "Here we select a circular region of radius=40 pixels centered at the image center. Pixel values outside the region are masked (set to nan). We first make a copy so we do not alter the xds dataset."
   ]
  },
  {
   "cell_type": "code",
   "execution_count": null,
   "id": "0e0685ae-645e-4af1-9993-ce2cf4286003",
   "metadata": {
    "tags": []
   },
   "outputs": [],
   "source": [
    "circle_region = xds.copy(deep=True)"
   ]
  },
  {
   "cell_type": "code",
   "execution_count": null,
   "id": "8836df83-85ff-47e8-9596-ef6d763f4e29",
   "metadata": {
    "tags": []
   },
   "outputs": [],
   "source": [
    "# Note that this code assumes l and m are dimensions, not\n",
    "# dimension coordinates. When there are also l and m\n",
    "# dimension coordinates, the following transformations\n",
    "# will produce the same result as below\n",
    "# xds.l -> xds.dims['l'], xds.m -> xds.dims['m']\n",
    "# ie when there is a dimension and dimension coordinate, just\n",
    "# referring to the dimension/dimension coordinate name means\n",
    "# where() will use the coordinate values. If you want to refer\n",
    "# to the dimension, you explicitly have to express that via\n",
    "# the dims['x'] field.\n",
    "l_shift = xds.l - len(xds.l)/2\n",
    "m_shift = xds.m - len(xds.m)/2\n",
    "# deliniate a circular region of radius 40 pixels in\n",
    "# circle_region.sky only\n",
    "circle_region['sky'] = circle_region.sky.where(l_shift**2 + m_shift**2 <= 1600)\n",
    "circle_region"
   ]
  },
  {
   "cell_type": "markdown",
   "id": "bf7e0a4b-2409-482c-8d73-8bff23330aef",
   "metadata": {
    "tags": []
   },
   "source": [
    "###  Example of Complex Region Selection"
   ]
  },
  {
   "cell_type": "markdown",
   "id": "87178d49-680b-4afc-a35c-90be5cbe2f60",
   "metadata": {},
   "source": [
    "Plot the central region of polarizaton=I and the first frequency channel."
   ]
  },
  {
   "cell_type": "code",
   "execution_count": null,
   "id": "31fc6382-ba9d-45f2-a9a9-aecd95e2231d",
   "metadata": {
    "scrolled": true,
    "tags": []
   },
   "outputs": [],
   "source": [
    "# before region selection, note that we are not using the image pixel mask,\n",
    "# mask0, for plotting here. This is just a quick and dirty demo; actual\n",
    "# xradio/ngCASA applications will use pixel masks as expected.\n",
    "data_sel = {'time': [0], 'polarization': [0], 'frequency': [0], 'l': slice(50, 150)}\n",
    "clim = {'vmin': -2, 'vmax': 6}\n",
    "xds.sky.isel(data_sel).plot(**clim)"
   ]
  },
  {
   "cell_type": "markdown",
   "id": "c39d5525-ff82-4459-9a8a-2a0e7e6b9e0e",
   "metadata": {},
   "source": [
    "Deliniate a circular region of radius 40 pixels. Pixel values in the region outside the center circle are NaN."
   ]
  },
  {
   "cell_type": "code",
   "execution_count": null,
   "id": "1f156b6e-1887-4f37-8971-e349788c228a",
   "metadata": {
    "tags": []
   },
   "outputs": [],
   "source": [
    "circular_region = xds.copy(deep=True)\n",
    "l_shift = xds.l - len(xds.l)/2\n",
    "m_shift = xds.m - len(xds.m)/2\n",
    "circular_region['sky'] = circular_region.sky.where(l_shift**2 + m_shift**2 <= 1600)\n",
    "circular_region"
   ]
  },
  {
   "cell_type": "code",
   "execution_count": null,
   "id": "acee04e7-088b-4e45-bf9a-22390a1f1a6a",
   "metadata": {
    "tags": []
   },
   "outputs": [],
   "source": [
    "# Here is what the circular region deliniation looks like. Pixel values\n",
    "# outside the selected region are NaN.\n",
    "circular_region.sky.isel(data_sel).plot(**clim)"
   ]
  },
  {
   "cell_type": "markdown",
   "id": "378c4a53-9236-4d6a-bf48-4786ab2abf2b",
   "metadata": {},
   "source": [
    "### Pac Man!\n",
    "With just a little more effort, a Pac Man region can be created."
   ]
  },
  {
   "cell_type": "code",
   "execution_count": null,
   "id": "040f32a7-d45c-4f10-bcfd-4c6b95c97fc5",
   "metadata": {},
   "outputs": [],
   "source": [
    "import numpy as np\n",
    "# just rename the object, no copying is done here\n",
    "pacman = circular_region\n",
    "pacman['sky'] = circular_region.sky.where(\n",
    "    np.logical_or(\n",
    "        np.logical_or(m_shift < 0, l_shift - m_shift > 0),\n",
    "        l_shift + m_shift < 0\n",
    "    )\n",
    ")\n",
    "pacman.sky.isel(data_sel).plot(**clim)"
   ]
  },
  {
   "cell_type": "markdown",
   "id": "eff7bcbd-8407-4e2f-8419-6ed204171af3",
   "metadata": {},
   "source": [
    "Below in the section on converting an image xds to a CASA image, we will write the pacman xds\n",
    "to a CASA image and demonstrate that the CASA image pixel values agree with the pacman.sky\n",
    "array values."
   ]
  },
  {
   "cell_type": "markdown",
   "id": "25d07cca-30e0-4737-a77d-7603ab9916f9",
   "metadata": {},
   "source": [
    "##  Loading Image Data Into Memory\n",
    "In order to process an image's pixel data, it must be loaded into memory. This data must be immediately loaded, so that it cannot be a Dask array. The general architecture is that the loaded data will be placed in a dask.delayed function for processing.\n",
    "\n",
    "A loaded data is itself a valid xds image (it can be correctly thought of as a subimage)."
   ]
  },
  {
   "cell_type": "code",
   "execution_count": null,
   "id": "d8a5c92f-2304-4908-82b5-85a9e33d096e",
   "metadata": {
    "tags": []
   },
   "outputs": [],
   "source": [
    "subim = load_image(\n",
    "    'demo_simulated.im', block_des={'time': 0, 'polarization': 0, 'frequency': slice(0, 10),\n",
    "    'l': slice(40, 80), 'm': slice(10,20)}\n",
    ")\n",
    "subim"
   ]
  },
  {
   "cell_type": "markdown",
   "id": "9b7d55d2-fe7d-41c6-8c72-adff34b3a161",
   "metadata": {},
   "source": [
    "#### Loaded data is a numpy array"
   ]
  },
  {
   "cell_type": "code",
   "execution_count": null,
   "id": "e73ffe6f-4d7a-4c2b-a0f5-60843865db97",
   "metadata": {
    "tags": []
   },
   "outputs": [],
   "source": [
    "subim.sky"
   ]
  },
  {
   "cell_type": "code",
   "execution_count": null,
   "id": "2ff1a7e4-fb2b-4269-99eb-94e23107ce17",
   "metadata": {
    "tags": []
   },
   "outputs": [],
   "source": [
    "subim.mask0"
   ]
  },
  {
   "cell_type": "markdown",
   "id": "27854ca0-cc9d-457b-a2d7-dd50219d4165",
   "metadata": {},
   "source": [
    "A numpy.ma.masked_array can be created from the pixels and the mask"
   ]
  },
  {
   "cell_type": "code",
   "execution_count": null,
   "id": "68799610-571a-4331-bfbf-a8c26b02f48a",
   "metadata": {
    "tags": []
   },
   "outputs": [],
   "source": [
    "import numpy as np\n",
    "ma = np.ma.masked_array(subim.sky[:], subim.mask0[:])\n",
    "ma"
   ]
  },
  {
   "cell_type": "markdown",
   "id": "f022c25f-eaff-448d-93eb-3459d1650853",
   "metadata": {},
   "source": [
    "#### Loaded data can be used in a dask.delayed function\n",
    "Now the masked array can be put in a dask.delayed function, and things can be done with it."
   ]
  },
  {
   "cell_type": "code",
   "execution_count": null,
   "id": "b7867ec5-9d5f-4ee5-b50d-0561fb62b835",
   "metadata": {
    "tags": []
   },
   "outputs": [],
   "source": [
    "import dask.delayed\n",
    "\n",
    "def summer(ary):\n",
    "    return ary.sum()\n",
    "\n",
    "summer = dask.delayed(summer)(ma)\n",
    "print(ma.shape)\n",
    "print('summer type', type(summer))"
   ]
  },
  {
   "cell_type": "code",
   "execution_count": null,
   "id": "715782aa-bd2e-4af2-9db9-00742f7b583a",
   "metadata": {
    "tags": []
   },
   "outputs": [],
   "source": [
    "mysum = summer.compute()\n",
    "mysum"
   ]
  },
  {
   "cell_type": "markdown",
   "id": "f1aac0b3-ddbc-4ba1-baff-8821f166779e",
   "metadata": {},
   "source": [
    "## Convert an xds image to a CASA image"
   ]
  },
  {
   "cell_type": "code",
   "execution_count": null,
   "id": "4deea193-aca6-4b93-91d4-37d93729440b",
   "metadata": {
    "tags": []
   },
   "outputs": [],
   "source": [
    "# For this example, arrays are small so force arrays into a single chunk\n",
    "# so writing doesn't take forever\n",
    "xds = xds.chunk('auto')\n",
    "write_image(xds, 'new_casa.im', out_format='casa')"
   ]
  },
  {
   "cell_type": "code",
   "execution_count": null,
   "id": "f97c3f75-fd4e-4950-addd-3a7e69b73ed1",
   "metadata": {
    "tags": []
   },
   "outputs": [],
   "source": [
    "from casacore.images import image as cimage\n",
    "myim = cimage('new_casa.im')\n",
    "ia_orig = cimage(imname)"
   ]
  },
  {
   "cell_type": "markdown",
   "id": "f9fae7d5-2bed-492e-aaa6-eeac865a99bd",
   "metadata": {},
   "source": [
    "#### Axes order may be different (pol,freq <-> freq, pol), so transpose as necessary\n",
    "The original image has axes in RA, Dec, Freq, Stokes order. Conversion of an xds image XDS\n",
    "to a casa image results in a casacore image with axes in the order tclean currently writes,\n",
    "RA, Dec, Stokes, Freq, so we must transpose the pixel values of one to compare to the pixel\n",
    "values of the other. And the python-casacore image methods usually access pixels in the\n",
    "reverse order you would expect."
   ]
  },
  {
   "cell_type": "code",
   "execution_count": null,
   "id": "ce56c534-6550-4d1a-b4ad-3b4439bc87aa",
   "metadata": {
    "tags": []
   },
   "outputs": [],
   "source": [
    "(myim.getdata() == ia_orig.getdata().transpose(1, 0, 2, 3)).all()"
   ]
  },
  {
   "cell_type": "code",
   "execution_count": null,
   "id": "446ad26a-e92b-4640-9883-4b0294828236",
   "metadata": {
    "tags": []
   },
   "outputs": [],
   "source": [
    "got = myim.statistics()\n",
    "del got['minpos'], got['maxpos']\n",
    "exp = ia_orig.statistics()\n",
    "del exp['minpos'], exp['maxpos']\n",
    "for k in exp.keys():\n",
    "    print(k, np.isclose(got[k][0], exp[k][0]))"
   ]
  },
  {
   "cell_type": "code",
   "execution_count": null,
   "id": "a3826346-a9bc-4e3f-bce3-62b05e5f5b2e",
   "metadata": {
    "tags": []
   },
   "outputs": [],
   "source": [
    "(myim.getmask() == ia_orig.getmask().transpose(1, 0, 2, 3)).all()"
   ]
  },
  {
   "cell_type": "code",
   "execution_count": null,
   "id": "c4c77269-924b-4b74-8f7e-265694ccfc76",
   "metadata": {
    "tags": []
   },
   "outputs": [],
   "source": [
    "# There is no obvious way to close() an image using\n",
    "# the python-casacore API, so delete the objects so\n",
    "# they are removed from the CASA table cache\n",
    "del myim\n",
    "del ia_orig"
   ]
  },
  {
   "cell_type": "markdown",
   "id": "302c8cb5-0586-4a14-8b43-69071cdcf7a8",
   "metadata": {},
   "source": [
    "### Write pacman to CASA image\n",
    "\n",
    "Export the pacman image xds to casa image and plot those pixel data\n",
    "to verify the sky data and casa image data are the same"
   ]
  },
  {
   "cell_type": "code",
   "execution_count": null,
   "id": "50e193f7-0ef4-4437-a2d3-d591ef676858",
   "metadata": {},
   "outputs": [],
   "source": [
    "# try/except needed for debugging in case the cell needs\n",
    "# to be run multiple times, the CASA image must be deleted\n",
    "# to remove it from the CASA table cache. Just do nothing\n",
    "# if the CASA image hasn't been created yet.\n",
    "try:\n",
    "    del pacman_casa\n",
    "except NameError as e:\n",
    "    pass\n",
    "    \n",
    "pacman = pacman.chunk('auto')\n",
    "write_image(pacman, 'pacman.im', 'casa')\n",
    "from casacore.images import image as cimage\n",
    "pacman_casa = cimage('pacman.im')\n",
    "pacman_casa_data = pacman_casa.getdata()\n",
    "import xarray as xr\n",
    "xr_pacman_casa_data = xr.DataArray(pacman_casa_data, dims=['frequency', 'polarization', 'm', 'l']) \n",
    "casa_data_sel = data_sel.copy()\n",
    "del casa_data_sel['time']\n",
    "# note that m and l are swapped relative to the pacman xds, so\n",
    "# to easily plot  x-axis = l and y-axis = m, transpose\n",
    "xr_pacman_casa_data = xr_pacman_casa_data.transpose('frequency', 'polarization', 'l', 'm')\n",
    "xr_pacman_casa_data.isel(casa_data_sel).plot(**clim)\n",
    "del pacman_casa"
   ]
  }
 ],
 "metadata": {
  "kernelspec": {
   "display_name": "Python 3 (ipykernel)",
   "language": "python",
   "name": "python3"
  },
  "language_info": {
   "codemirror_mode": {
    "name": "ipython",
    "version": 3
   },
   "file_extension": ".py",
   "mimetype": "text/x-python",
   "name": "python",
   "nbconvert_exporter": "python",
   "pygments_lexer": "ipython3",
   "version": "3.10.12"
  }
 },
 "nbformat": 4,
 "nbformat_minor": 5
}
