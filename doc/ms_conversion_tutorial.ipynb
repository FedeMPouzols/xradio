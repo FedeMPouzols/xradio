{
 "cells": [
  {
   "cell_type": "code",
   "execution_count": null,
   "id": "0984b19f-bcd9-45a3-aedc-fd808c76810d",
   "metadata": {
    "tags": []
   },
   "outputs": [],
   "source": [
    "from xradio.gdown_utils import list_datasets\n",
    "\n",
    "list_datasets()"
   ]
  },
  {
   "cell_type": "code",
   "execution_count": null,
   "id": "912bc51d-5154-4203-8294-c14d4c1d3961",
   "metadata": {
    "tags": []
   },
   "outputs": [],
   "source": [
    "from xradio.gdown_utils import gdown_data\n",
    "gdown_data(ms_name=\"Antennae_North.cal.ms\")"
   ]
  },
  {
   "cell_type": "code",
   "execution_count": 2,
   "id": "14308142-74cb-4b50-bd3d-046c11bdab17",
   "metadata": {
    "tags": []
   },
   "outputs": [
    {
     "name": "stderr",
     "output_type": "stream",
     "text": [
      "2023-08-09 18:25:28 INFO     Antennae_North.cal.vis.zarr/ddi_0_state_id_22,_23,_24,_25,_26,_27,_28,_29,_30,_31,_32,_33,_34,_35,_36,_37_field_id_1\n",
      "2023-08-09 18:25:29 INFO     write_partition 0.28908514976501465\n",
      "2023-08-09 18:25:29 INFO     Antennae_North.cal.vis.zarr/ddi_0_state_id_22,_23,_24,_25,_26,_27,_28,_29,_30,_31,_32,_33,_34,_35,_36,_37_field_id_2\n",
      "2023-08-09 18:25:29 INFO     write_partition 0.2662618160247803\n",
      "2023-08-09 18:25:29 INFO     Antennae_North.cal.vis.zarr/ddi_0_state_id_22,_23,_24,_25,_26,_27,_28,_29,_30,_31,_32,_33,_34,_35,_36,_37_field_id_3\n",
      "2023-08-09 18:25:29 INFO     write_partition 0.2554340362548828\n",
      "2023-08-09 18:25:29 INFO     Antennae_North.cal.vis.zarr/ddi_0_state_id_22,_23,_24,_25,_26,_27,_28,_29,_30,_31,_32,_33,_34,_35,_36,_37_field_id_4\n",
      "2023-08-09 18:25:29 INFO     write_partition 0.24401402473449707\n",
      "2023-08-09 18:25:29 INFO     Antennae_North.cal.vis.zarr/ddi_0_state_id_22,_23,_24,_25,_26,_27,_28,_29,_30,_31,_32,_33,_34,_35,_36,_37_field_id_5\n",
      "2023-08-09 18:25:30 INFO     write_partition 0.24882888793945312\n",
      "2023-08-09 18:25:30 INFO     Antennae_North.cal.vis.zarr/ddi_0_state_id_22,_23,_24,_25,_26,_27,_28,_29,_30,_31,_32,_33,_34,_35,_36,_37_field_id_6\n",
      "2023-08-09 18:25:30 INFO     write_partition 0.25544023513793945\n",
      "2023-08-09 18:25:30 INFO     Antennae_North.cal.vis.zarr/ddi_0_state_id_22,_23,_24,_25,_26,_27,_28,_29,_30,_31,_32,_33,_34,_35,_36,_37_field_id_7\n",
      "2023-08-09 18:25:30 INFO     write_partition 0.24685001373291016\n",
      "2023-08-09 18:25:30 INFO     Antennae_North.cal.vis.zarr/ddi_0_state_id_22,_23,_24,_25,_26,_27,_28,_29,_30,_31,_32,_33,_34,_35,_36,_37_field_id_8\n",
      "2023-08-09 18:25:30 INFO     write_partition 0.2364661693572998\n",
      "2023-08-09 18:25:30 INFO     Antennae_North.cal.vis.zarr/ddi_0_state_id_22,_23,_24,_25,_26,_27,_28,_29,_30,_31,_32,_33,_34,_35,_36,_37_field_id_9\n",
      "2023-08-09 18:25:31 INFO     write_partition 0.27017712593078613\n",
      "2023-08-09 18:25:31 INFO     Antennae_North.cal.vis.zarr/ddi_0_state_id_22,_23,_24,_25,_26,_27,_28,_29,_30,_31,_32,_33,_34,_35,_36,_37_field_id_10\n",
      "2023-08-09 18:25:31 INFO     write_partition 0.2990152835845947\n",
      "2023-08-09 18:25:31 INFO     Antennae_North.cal.vis.zarr/ddi_0_state_id_22,_23,_24,_25,_26,_27,_28,_29,_30,_31,_32,_33,_34,_35,_36,_37_field_id_11\n",
      "2023-08-09 18:25:31 INFO     write_partition 0.2234818935394287\n",
      "2023-08-09 18:25:31 INFO     Antennae_North.cal.vis.zarr/ddi_0_state_id_22,_23,_24,_25,_26,_27,_28,_29,_30,_31,_32,_33,_34,_35,_36,_37_field_id_12\n",
      "2023-08-09 18:25:31 INFO     write_partition 0.20770788192749023\n",
      "2023-08-09 18:25:31 INFO     Antennae_North.cal.vis.zarr/ddi_0_state_id_22,_23,_24,_25,_26,_27,_28,_29,_30,_31,_32,_33,_34,_35,_36,_37_field_id_13\n",
      "2023-08-09 18:25:32 INFO     write_partition 0.22881197929382324\n",
      "2023-08-09 18:25:32 INFO     Antennae_North.cal.vis.zarr/ddi_0_state_id_22,_23,_24,_25,_26,_27,_28,_29,_30,_31,_32,_33,_34,_35,_36,_37_field_id_14\n",
      "2023-08-09 18:25:32 INFO     write_partition 0.22830986976623535\n",
      "2023-08-09 18:25:32 INFO     Antennae_North.cal.vis.zarr/ddi_0_state_id_22,_23,_24,_25,_26,_27,_28,_29,_30,_31,_32,_33,_34,_35,_36,_37_field_id_15\n",
      "2023-08-09 18:25:32 INFO     write_partition 0.21815085411071777\n",
      "2023-08-09 18:25:32 INFO     Antennae_North.cal.vis.zarr/ddi_0_state_id_22,_23,_24,_25,_26,_27,_28,_29,_30,_31,_32,_33,_34,_35,_36,_37_field_id_16\n",
      "2023-08-09 18:25:32 INFO     write_partition 0.22344303131103516\n",
      "2023-08-09 18:25:32 INFO     Antennae_North.cal.vis.zarr/ddi_0_state_id_22,_23,_24,_25,_26,_27,_28,_29,_30,_31,_32,_33,_34,_35,_36,_37_field_id_17\n",
      "2023-08-09 18:25:32 INFO     write_partition 0.24810218811035156\n",
      "2023-08-09 18:25:33 INFO     Antennae_North.cal.vis.zarr/ddi_0_state_id_22,_23,_24,_25,_26,_27,_28,_29,_30,_31,_32,_33,_34,_35,_36,_37_field_id_18\n",
      "2023-08-09 18:25:33 INFO     write_partition 0.29204893112182617\n",
      "2023-08-09 18:25:33 INFO     Antennae_North.cal.vis.zarr/ddi_0_state_id_22,_23,_24,_25,_26,_27,_28,_29,_30,_31,_32,_33,_34,_35,_36,_37_field_id_19\n",
      "2023-08-09 18:25:33 INFO     write_partition 0.23032021522521973\n",
      "2023-08-09 18:25:33 INFO     Antennae_North.cal.vis.zarr/ddi_0_state_id_22,_23,_24,_25,_26,_27,_28,_29,_30,_31,_32,_33,_34,_35,_36,_37_field_id_20\n",
      "2023-08-09 18:25:33 INFO     write_partition 0.21263480186462402\n",
      "2023-08-09 18:25:33 INFO     Antennae_North.cal.vis.zarr/ddi_0_state_id_22,_23,_24,_25,_26,_27,_28,_29,_30,_31,_32,_33,_34,_35,_36,_37_field_id_21\n",
      "2023-08-09 18:25:33 INFO     write_partition 0.23461604118347168\n",
      "2023-08-09 18:25:34 INFO     Antennae_North.cal.vis.zarr/ddi_0_state_id_22,_23,_24,_25,_26,_27,_28,_29,_30,_31,_32,_33,_34,_35,_36,_37_field_id_22\n",
      "2023-08-09 18:25:34 INFO     write_partition 0.2187950611114502\n",
      "2023-08-09 18:25:34 INFO     Antennae_North.cal.vis.zarr/ddi_0_state_id_22,_23,_24,_25,_26,_27,_28,_29,_30,_31,_32,_33,_34,_35,_36,_37_field_id_23\n",
      "2023-08-09 18:25:34 INFO     write_partition 0.18087983131408691\n",
      "2023-08-09 18:25:34 INFO     Antennae_North.cal.vis.zarr/ddi_0_state_id_38,_39,_40,_41,_42,_43,_44,_45,_46,_47,_48,_49,_50,_51,_52,_53_field_id_1\n",
      "2023-08-09 18:25:34 INFO     write_partition 0.18669700622558594\n",
      "2023-08-09 18:25:34 INFO     Antennae_North.cal.vis.zarr/ddi_0_state_id_38,_39,_40,_41,_42,_43,_44,_45,_46,_47,_48,_49,_50,_51,_52,_53_field_id_2\n",
      "2023-08-09 18:25:34 INFO     write_partition 0.16287589073181152\n",
      "2023-08-09 18:25:34 INFO     Antennae_North.cal.vis.zarr/ddi_0_state_id_38,_39,_40,_41,_42,_43,_44,_45,_46,_47,_48,_49,_50,_51,_52,_53_field_id_3\n",
      "2023-08-09 18:25:34 INFO     write_partition 0.1775836944580078\n",
      "2023-08-09 18:25:34 INFO     Antennae_North.cal.vis.zarr/ddi_0_state_id_38,_39,_40,_41,_42,_43,_44,_45,_46,_47,_48,_49,_50,_51,_52,_53_field_id_4\n",
      "2023-08-09 18:25:35 INFO     write_partition 0.1844949722290039\n",
      "2023-08-09 18:25:35 INFO     Antennae_North.cal.vis.zarr/ddi_0_state_id_38,_39,_40,_41,_42,_43,_44,_45,_46,_47,_48,_49,_50,_51,_52,_53_field_id_5\n",
      "2023-08-09 18:25:35 INFO     write_partition 0.17363691329956055\n",
      "2023-08-09 18:25:35 INFO     Antennae_North.cal.vis.zarr/ddi_0_state_id_38,_39,_40,_41,_42,_43,_44,_45,_46,_47,_48,_49,_50,_51,_52,_53_field_id_6\n",
      "2023-08-09 18:25:35 INFO     write_partition 0.1681380271911621\n",
      "2023-08-09 18:25:35 INFO     Antennae_North.cal.vis.zarr/ddi_0_state_id_38,_39,_40,_41,_42,_43,_44,_45,_46,_47,_48,_49,_50,_51,_52,_53_field_id_7\n",
      "2023-08-09 18:25:35 INFO     write_partition 0.16794896125793457\n",
      "2023-08-09 18:25:35 INFO     Antennae_North.cal.vis.zarr/ddi_0_state_id_38,_39,_40,_41,_42,_43,_44,_45,_46,_47,_48,_49,_50,_51,_52,_53_field_id_8\n",
      "2023-08-09 18:25:35 INFO     write_partition 0.18011903762817383\n",
      "2023-08-09 18:25:35 INFO     Antennae_North.cal.vis.zarr/ddi_0_state_id_38,_39,_40,_41,_42,_43,_44,_45,_46,_47,_48,_49,_50,_51,_52,_53_field_id_9\n",
      "2023-08-09 18:25:35 INFO     write_partition 0.19347286224365234\n",
      "2023-08-09 18:25:36 INFO     Antennae_North.cal.vis.zarr/ddi_0_state_id_38,_39,_40,_41,_42,_43,_44,_45,_46,_47,_48,_49,_50,_51,_52,_53_field_id_10\n",
      "2023-08-09 18:25:36 INFO     write_partition 0.18573212623596191\n",
      "2023-08-09 18:25:36 INFO     Antennae_North.cal.vis.zarr/ddi_0_state_id_38,_39,_40,_41,_42,_43,_44,_45,_46,_47,_48,_49,_50,_51,_52,_53_field_id_11\n",
      "2023-08-09 18:25:36 INFO     write_partition 0.21430301666259766\n",
      "2023-08-09 18:25:36 INFO     Antennae_North.cal.vis.zarr/ddi_0_state_id_38,_39,_40,_41,_42,_43,_44,_45,_46,_47,_48,_49,_50,_51,_52,_53_field_id_12\n",
      "2023-08-09 18:25:36 INFO     write_partition 0.18552660942077637\n",
      "2023-08-09 18:25:36 INFO     Antennae_North.cal.vis.zarr/ddi_0_state_id_38,_39,_40,_41,_42,_43,_44,_45,_46,_47,_48,_49,_50,_51,_52,_53_field_id_13\n",
      "2023-08-09 18:25:36 INFO     write_partition 0.17583703994750977\n",
      "2023-08-09 18:25:36 INFO     Antennae_North.cal.vis.zarr/ddi_0_state_id_38,_39,_40,_41,_42,_43,_44,_45,_46,_47,_48,_49,_50,_51,_52,_53_field_id_14\n",
      "2023-08-09 18:25:36 INFO     write_partition 0.18926000595092773\n",
      "2023-08-09 18:25:37 INFO     Antennae_North.cal.vis.zarr/ddi_0_state_id_38,_39,_40,_41,_42,_43,_44,_45,_46,_47,_48,_49,_50,_51,_52,_53_field_id_15\n",
      "2023-08-09 18:25:37 INFO     write_partition 0.1883547306060791\n",
      "2023-08-09 18:25:37 INFO     Antennae_North.cal.vis.zarr/ddi_0_state_id_38,_39,_40,_41,_42,_43,_44,_45,_46,_47,_48,_49,_50,_51,_52,_53_field_id_16\n",
      "2023-08-09 18:25:37 INFO     write_partition 0.19687891006469727\n",
      "2023-08-09 18:25:37 INFO     Antennae_North.cal.vis.zarr/ddi_0_state_id_38,_39,_40,_41,_42,_43,_44,_45,_46,_47,_48,_49,_50,_51,_52,_53_field_id_17\n",
      "2023-08-09 18:25:37 INFO     write_partition 0.18401598930358887\n",
      "2023-08-09 18:25:37 INFO     Antennae_North.cal.vis.zarr/ddi_0_state_id_38,_39,_40,_41,_42,_43,_44,_45,_46,_47,_48,_49,_50,_51,_52,_53_field_id_18\n",
      "2023-08-09 18:25:37 INFO     write_partition 0.18637609481811523\n",
      "2023-08-09 18:25:37 INFO     Antennae_North.cal.vis.zarr/ddi_0_state_id_38,_39,_40,_41,_42,_43,_44,_45,_46,_47,_48,_49,_50,_51,_52,_53_field_id_19\n",
      "2023-08-09 18:25:37 INFO     write_partition 0.17502403259277344\n",
      "2023-08-09 18:25:37 INFO     Antennae_North.cal.vis.zarr/ddi_0_state_id_38,_39,_40,_41,_42,_43,_44,_45,_46,_47,_48,_49,_50,_51,_52,_53_field_id_20\n",
      "2023-08-09 18:25:38 INFO     write_partition 0.16768097877502441\n",
      "2023-08-09 18:25:38 INFO     Antennae_North.cal.vis.zarr/ddi_0_state_id_38,_39,_40,_41,_42,_43,_44,_45,_46,_47,_48,_49,_50,_51,_52,_53_field_id_21\n",
      "2023-08-09 18:25:38 INFO     write_partition 0.19340896606445312\n",
      "2023-08-09 18:25:38 INFO     Antennae_North.cal.vis.zarr/ddi_0_state_id_38,_39,_40,_41,_42,_43,_44,_45,_46,_47,_48,_49,_50,_51,_52,_53_field_id_22\n",
      "2023-08-09 18:25:38 INFO     write_partition 0.16574692726135254\n",
      "2023-08-09 18:25:38 INFO     Antennae_North.cal.vis.zarr/ddi_0_state_id_38,_39,_40,_41,_42,_43,_44,_45,_46,_47,_48,_49,_50,_51,_52,_53_field_id_23\n",
      "2023-08-09 18:25:38 INFO     write_partition 0.1473374366760254\n"
     ]
    },
    {
     "name": "stdout",
     "output_type": "stream",
     "text": [
      "Total time  11.672139883041382\n"
     ]
    }
   ],
   "source": [
    "import time\n",
    "from xradio.vis.convert_msv2_to_processing_set import convert_msv2_to_processing_set\n",
    "import os\n",
    "\n",
    "partition_scheme=\"ddi_intent_field\"\n",
    "#partition_scheme=\"ddi_state\"\n",
    "\n",
    "#storage_backend = \"netcdf\"\n",
    "storage_backend = \"zarr\"\n",
    "\n",
    "ms_path = \"Antennae_North.cal.ms\"\n",
    "start = time.time()\n",
    "os.system(\"rm -rf Antennae_North.cal.vis.zarr\")\n",
    "convert_msv2_to_processing_set(infile=ms_path,outfile=\"Antennae_North.cal.vis.zarr\",partition_scheme=partition_scheme,parallel=False,storage_backend=storage_backend,overwrite=True)\n",
    "print('Total time ',time.time()-start)\n",
    "\n",
    "\n",
    "#0 {'name': 'NGC4038 - Antennae North', 'code': 'none', 'time': 4813263600.24, 'num_poly': 0, 'delay_dir': [3.1498226140512324, -0.32946929355747356], 'phase_dir': [3.1498226140512324, -0.32946929355747356], 'reference_dir': [3.1498226140512324, -0.32946929355747356]}"
   ]
  },
  {
   "cell_type": "code",
   "execution_count": null,
   "id": "d8ac85cc-9009-48a9-8032-64531d872995",
   "metadata": {
    "tags": []
   },
   "outputs": [],
   "source": [
    "from xradio.vis.read_processing_set import read_processing_set\n",
    "\n",
    "ps = read_processing_set('Antennae_North.cal.vis.zarr')\n",
    "ps_keys=list(ps.keys())\n",
    "ps.keys()"
   ]
  },
  {
   "cell_type": "code",
   "execution_count": null,
   "id": "9a15d95e-4de2-4af2-b94e-06dedb108ce7",
   "metadata": {
    "tags": []
   },
   "outputs": [],
   "source": [
    "ps_keys[0]"
   ]
  },
  {
   "cell_type": "code",
   "execution_count": null,
   "id": "1a2f3966-5581-49b6-b8e1-c442c5ab912b",
   "metadata": {
    "tags": []
   },
   "outputs": [],
   "source": [
    "xds  = ps[ps_keys[0]]\n",
    "xds"
   ]
  },
  {
   "cell_type": "code",
   "execution_count": null,
   "id": "1d5fc659-cb68-48b0-a48b-a9fbab249deb",
   "metadata": {
    "tags": []
   },
   "outputs": [],
   "source": [
    "ps[ps_keys[0]].attrs['field_info'] #Add frame info"
   ]
  },
  {
   "cell_type": "code",
   "execution_count": null,
   "id": "bb2accf5-4cce-46e4-96d2-59f83bf9e680",
   "metadata": {
    "tags": []
   },
   "outputs": [],
   "source": [
    "ps[ps_keys[0]].attrs['antenna_xds'] "
   ]
  },
  {
   "cell_type": "code",
   "execution_count": null,
   "id": "bf71fb78-97b4-49f9-8e3e-aa59bb0ba98b",
   "metadata": {
    "tags": []
   },
   "outputs": [],
   "source": [
    "ps[ps_keys[0]].UVW"
   ]
  },
  {
   "cell_type": "code",
   "execution_count": null,
   "id": "7a158641-0574-455e-aeaf-d9f45df6c9cb",
   "metadata": {},
   "outputs": [],
   "source": []
  },
  {
   "cell_type": "code",
   "execution_count": null,
   "id": "0247c528-765d-456b-8686-62a36410398d",
   "metadata": {
    "tags": []
   },
   "outputs": [],
   "source": [
    "xds.time.attrs['units'] = 's'"
   ]
  },
  {
   "cell_type": "code",
   "execution_count": null,
   "id": "0af40225-31c8-43b9-99e2-c8b51872740a",
   "metadata": {
    "tags": []
   },
   "outputs": [],
   "source": [
    "xds.time"
   ]
  },
  {
   "cell_type": "code",
   "execution_count": null,
   "id": "5a72b081-a86a-4555-aa51-9a6c948a346d",
   "metadata": {},
   "outputs": [],
   "source": []
  }
 ],
 "metadata": {
  "kernelspec": {
   "display_name": "Python 3 (ipykernel)",
   "language": "python",
   "name": "python3"
  },
  "language_info": {
   "codemirror_mode": {
    "name": "ipython",
    "version": 3
   },
   "file_extension": ".py",
   "mimetype": "text/x-python",
   "name": "python",
   "nbconvert_exporter": "python",
   "pygments_lexer": "ipython3",
   "version": "3.11.3"
  }
 },
 "nbformat": 4,
 "nbformat_minor": 5
}
