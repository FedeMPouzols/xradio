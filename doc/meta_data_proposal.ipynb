{
 "cells": [
  {
   "cell_type": "code",
   "execution_count": null,
   "id": "b470f9cd-fdc4-4704-816c-db800274212f",
   "metadata": {},
   "outputs": [],
   "source": [
    "import os\n",
    "\n",
    "from importlib.metadata import version\n",
    "\n",
    "try:\n",
    "    import xradio\n",
    "\n",
    "    print('XRADIO version', version('xradio'), 'already installed.')\n",
    "except ImportError as e:\n",
    "    print(e)\n",
    "    print('Installing XRADIO')\n",
    "\n",
    "    os.system(\"pip install xradio\")\n",
    "\n",
    "    import xradio\n",
    "    print('xradio version', version('xradio'), ' installed.')"
   ]
  },
  {
   "cell_type": "code",
   "execution_count": null,
   "id": "75926c44-a4f4-4b04-95f7-85d24606a760",
   "metadata": {},
   "outputs": [],
   "source": [
    "from xradio.vis._vis_utils._ms._tables.read import (\n",
    "    read_generic_table,\n",
    "    make_freq_attrs,\n",
    "    convert_casacore_time,\n",
    "    extract_table_attributes,\n",
    ")\n",
    "\n",
    "#infile = 'Antennae_North.cal.lsrk.ms/SPECTRAL_WINDOW'\n",
    "#infile = 'Antennae_North.cal.lsrk.ms/FIELD'\n",
    "#infile = 'Antennae_North.cal.lsrk.ms/ANTENNA'\n",
    "infile = 'Antennae_North.cal.lsrk.ms'\n",
    "main_table_attrs = extract_table_attributes(infile)\n",
    "#print(main_table_attrs[\"column_descriptions\"].keys())\n",
    "\n",
    "casacore_to_xradio_measure_type = {'quanta':{'type':'quanta','Ref':None},\n",
    "                                   'direction':{'type':'sky_coord','Ref':'frame'},\n",
    "                                   'epoch':{'type':'time','Ref':'scale'},\n",
    "                                   'frequency':{'type':'spectral_coord','Ref':'frame'},\n",
    "                                   'position':{'type':'earth_location','Ref':'ellipsoid'},\n",
    "                                   'uvw':{'type':'uvw','Ref':'frame'}}\n",
    "\n",
    "casacore_to_xradio_ref = {'J2000':'FK5', 'ITRF':'GRS80'}\n",
    "\n",
    "def column_description_casacore_to_xradio_measure(casacore_column_description,time_format='unix'):\n",
    "    xradio_measure={}\n",
    "    if 'MEASINFO' in casacore_column_description['keywords']:\n",
    "        xradio_measure['type'] = casacore_to_xradio_measure_type[casacore_column_description['keywords']['MEASINFO']['type']]['type']\n",
    "        xradio_measure['units'] = casacore_column_description['keywords']['QuantumUnits']\n",
    "\n",
    "        casa_ref = casacore_column_description['keywords']['MEASINFO']['Ref']\n",
    "\n",
    "        if casa_ref in casacore_to_xradio_ref:\n",
    "            casa_ref = casacore_to_xradio_ref[casa_ref]\n",
    "        xradio_measure[casacore_to_xradio_measure_type[casacore_column_description['keywords']['MEASINFO']['type']]['Ref']] = casa_ref       #print(casacore_column_description['keywords']['MEASINFO'])\n",
    "        #print(casacore_column_description['keywords'])\n",
    "\n",
    "        if xradio_measure['type'] == 'time':\n",
    "            xradio_measure['format'] = 'unix'\n",
    "\n",
    "    \n",
    "        \n",
    "    \n",
    "\n",
    "    #print(xradio_measure)\n",
    "    \n",
    "    return xradio_measure\n",
    "    \n",
    "\n",
    "#print(main_table_attrs[\"column_descriptions\"]['TIME'])\n",
    "#clean and the im tool ignore the reference frame claimed by the UVW column (it is often mislabelled as ITRF when it is really FK5 (J2000)) and instead assume the (u, v, w)s are in the same frame as the phase tracking center. calcuvw does not yet force the UVW column and field centers to use the same reference frame! Blank = use the phase tracking frame of vis.\n",
    "\n",
    "for name,description in main_table_attrs[\"column_descriptions\"].items():\n",
    "    xradio_measure = column_description_casacore_to_xradio_measure(casacore_column_description=description)\n",
    "    print(name,xradio_measure)\n",
    "    \n",
    "#column_description_casacore_to_xradio_measure(casacore_column_description=main_table_attrs[\"column_descriptions\"]['UVW'])"
   ]
  },
  {
   "cell_type": "markdown",
   "id": "f1466b69-66a5-429b-a3d0-f19c7bdd3bfb",
   "metadata": {},
   "source": [
    "# Download ms"
   ]
  },
  {
   "cell_type": "code",
   "execution_count": null,
   "id": "27022146-6bc9-47fd-be7d-b3dc71b1b7ca",
   "metadata": {},
   "outputs": [],
   "source": [
    "from xradio.data.datasets import download\n",
    "download(file='Antennae_North.cal.lsrk.ms',source='dropbox')"
   ]
  },
  {
   "cell_type": "markdown",
   "id": "63473e60-615c-4249-b40d-f6068790b47e",
   "metadata": {},
   "source": [
    "# Convert ms"
   ]
  },
  {
   "cell_type": "code",
   "execution_count": 1,
   "id": "85c49f92-da66-4ad5-8c85-d3a75a5902ff",
   "metadata": {},
   "outputs": [],
   "source": [
    "from xradio.vis.convert_msv2_to_processing_set import convert_msv2_to_processing_set\n",
    "\n",
    "partition_scheme=\"ddi_intent_field\"\n",
    "#partition_scheme=\"ddi_state\"\n",
    "\n",
    "chunks_on_disk = {'frequency':45}\n",
    "infile = \"Antennae_North.cal.lsrk.ms\"\n",
    "outfile = \"Antennae_North.cal.lsrk.vis.zarr\"\n",
    "convert_msv2_to_processing_set(infile=infile, outfile=outfile, \n",
    "                               partition_scheme=partition_scheme,\n",
    "                               parallel=False,overwrite=True,\n",
    "                               chunks_on_disk=chunks_on_disk)\n"
   ]
  },
  {
   "cell_type": "markdown",
   "id": "e69936df-63bd-4a49-adeb-8fba6bc572ff",
   "metadata": {},
   "source": [
    "# Lazy Read PS"
   ]
  },
  {
   "cell_type": "code",
   "execution_count": null,
   "id": "02d150f5-f513-4ab8-a2e2-9051d6c79d25",
   "metadata": {},
   "outputs": [],
   "source": [
    "ps_name = '/Users/jsteeb/Dropbox/Data/Antennae_North.cal.lsrk.vis.zarr'\n",
    "\n",
    "from xradio.vis.read_processing_set import read_processing_set\n",
    "#sel_parms = {'xds_id':[0,1,2]}\n",
    "intents = [\"OBSERVE_TARGET#ON_SOURCE\"]\n",
    "ps = read_processing_set(\"Antennae_North.cal.lsrk.vis.zarr\",\n",
    "                        intents=intents)\n",
    "ps.summary()"
   ]
  },
  {
   "cell_type": "markdown",
   "id": "0653e557-c381-4a4d-b864-a7fef8c2c44c",
   "metadata": {},
   "source": [
    "# A single ms v4"
   ]
  },
  {
   "cell_type": "code",
   "execution_count": null,
   "id": "151d53f9-783f-4203-a104-e143763dcee0",
   "metadata": {},
   "outputs": [],
   "source": [
    "ps['Antennae_North.cal.lsrk_ddi_0_intent_OBSERVE_TARGET#ON_SOURCE_field_id_1']"
   ]
  },
  {
   "cell_type": "markdown",
   "id": "b6a9317e-8f7d-4e7d-9650-96190a92e46f",
   "metadata": {},
   "source": [
    "# Attributes of Data Arrays and Coordinates\n",
    "\n",
    "All **data arrays** and **coordinates** can have measures information in their attributes section along with other relevant metadata. \n",
    "\n",
    "List of measures:\n",
    "https://docs.google.com/spreadsheets/d/14a6qMap9M5r_vjpLnaBKxsR9TF4azN5LVdOxLacOX-s/edit#gid=1504318014\n",
    "\n",
    "Measures dictionary format (based on https://docs.xarray.dev/en/stable/generated/xarray.DataArray.from_dict.html):\n",
    "{\"dims\":..., \"data\":..., \"attrs\":measures_dict} \n"
   ]
  },
  {
   "cell_type": "markdown",
   "id": "d7bd57b1-60c2-49e6-99cc-6dd0350a39dc",
   "metadata": {},
   "source": [
    "## Frequency Coordinate Example\n",
    "\n",
    "The ```frequency``` coordinate is a spectral coord measure (keys: type,units,reference_frame) but also contains the channel_width, effective_channel_width, spectral_window_name, and reference_frequency. Any metadata that is a non-id number should be in the relevant measures dictionary (for example channel_width and reference_frequency.) "
   ]
  },
  {
   "cell_type": "code",
   "execution_count": null,
   "id": "65d79eff-57fa-4fe0-bfe9-6f0c5adcc77b",
   "metadata": {},
   "outputs": [],
   "source": [
    "ps['Antennae_North.cal.lsrk_ddi_0_intent_OBSERVE_TARGET#ON_SOURCE_field_id_1'].frequency"
   ]
  },
  {
   "cell_type": "code",
   "execution_count": null,
   "id": "2a1b55fb-7565-4568-a574-71a57a202c48",
   "metadata": {},
   "outputs": [],
   "source": [
    "import json\n",
    "print(json.dumps(ps['Antennae_North.cal.lsrk_ddi_0_intent_OBSERVE_TARGET#ON_SOURCE_field_id_1'].frequency.attrs,indent=4))"
   ]
  },
  {
   "cell_type": "markdown",
   "id": "a733ac0d-18ac-4abe-b985-e291595523ab",
   "metadata": {},
   "source": [
    "## Time Example\n",
    "Another example is the time coordinate that is a time measure (keys: type, units, time_scale, format) but also contains integration_time and effective_integration_time."
   ]
  },
  {
   "cell_type": "code",
   "execution_count": null,
   "id": "dd412ef1-3839-4afd-aec3-11cb40c20799",
   "metadata": {},
   "outputs": [],
   "source": [
    "import json\n",
    "print(json.dumps(ps['Antennae_North.cal.lsrk_ddi_0_intent_OBSERVE_TARGET#ON_SOURCE_field_id_1'].time.attrs,indent=4))"
   ]
  },
  {
   "cell_type": "markdown",
   "id": "55e5e1cf-ca02-4e66-878d-82f3a405e8c4",
   "metadata": {},
   "source": [
    "# Info Attributes"
   ]
  },
  {
   "cell_type": "markdown",
   "id": "378c605a-5a60-4fff-a4f1-6efb00e5ad4e",
   "metadata": {},
   "source": [
    "The ms v4 also allows for info dictionaries in the attribute section of the dataset (used when data is not n-dimensional). Just like the non-id number metadata in coordinates and data arrays the relevant measure should be used. An example is the field_info where the delay_direction, phase_direction, and reference_direction are stored as sky_coord measures (keys: type, units, reference_frame)."
   ]
  },
  {
   "cell_type": "code",
   "execution_count": null,
   "id": "ddc597f0-5baf-4986-97e2-f6e3a0f188ad",
   "metadata": {},
   "outputs": [],
   "source": [
    "import json\n",
    "print(json.dumps(ps['Antennae_North.cal.lsrk_ddi_0_intent_OBSERVE_TARGET#ON_SOURCE_field_id_1'].field_info, indent=4))"
   ]
  },
  {
   "cell_type": "code",
   "execution_count": null,
   "id": "32fab860-ed16-4c83-91ac-22ab47224450",
   "metadata": {},
   "outputs": [],
   "source": [
    "ps['Antennae_North.cal.lsrk_ddi_0_intent_OBSERVE_TARGET#ON_SOURCE_field_id_1'].attrs['antenna_xds']"
   ]
  },
  {
   "cell_type": "code",
   "execution_count": null,
   "id": "d200afc3-1228-43f5-aa05-89d7d85dff24",
   "metadata": {},
   "outputs": [],
   "source": []
  },
  {
   "cell_type": "code",
   "execution_count": null,
   "id": "c6ca5dbd-dd9c-4057-ac32-cafac4364404",
   "metadata": {},
   "outputs": [],
   "source": []
  }
 ],
 "metadata": {
  "kernelspec": {
   "display_name": "Python 3 (ipykernel)",
   "language": "python",
   "name": "python3"
  },
  "language_info": {
   "codemirror_mode": {
    "name": "ipython",
    "version": 3
   },
   "file_extension": ".py",
   "mimetype": "text/x-python",
   "name": "python",
   "nbconvert_exporter": "python",
   "pygments_lexer": "ipython3",
   "version": "3.11.3"
  }
 },
 "nbformat": 4,
 "nbformat_minor": 5
}
