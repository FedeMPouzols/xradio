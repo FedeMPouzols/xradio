{
 "cells": [
  {
   "cell_type": "markdown",
   "id": "f412df9c-35ac-418d-a4f6-b95edef8478e",
   "metadata": {},
   "source": [
    "# Ephemeris conversion guide"
   ]
  },
  {
   "cell_type": "code",
   "execution_count": 1,
   "id": "14a699d5-bf6e-4ebe-bfa5-dcccbec0ec2e",
   "metadata": {},
   "outputs": [
    {
     "name": "stdout",
     "output_type": "stream",
     "text": [
      "XRADIO version 0.0.47 already installed.\n"
     ]
    }
   ],
   "source": [
    "from importlib.metadata import version\n",
    "import os\n",
    "\n",
    "try:\n",
    "    import xradio\n",
    "\n",
    "    print(\"XRADIO version\", version(\"xradio\"), \"already installed.\")\n",
    "except ImportError as e:\n",
    "    print(e)\n",
    "    print(\"Installing XRADIO\")\n",
    "\n",
    "    os.system(\"pip install xradio\")\n",
    "\n",
    "    import xradio\n",
    "\n",
    "    print(\"xradio version\", version(\"xradio\"), \" installed.\")\n",
    "\n",
    "\n",
    "# These are the three API functions that are currently supported\n",
    "from xradio.image import load_image, read_image, write_image"
   ]
  },
  {
   "cell_type": "markdown",
   "id": "a939f97e-6c76-47b0-aef5-256df2e908f9",
   "metadata": {},
   "source": [
    "## Download dataset"
   ]
  },
  {
   "cell_type": "markdown",
   "id": "805daf71",
   "metadata": {},
   "source": [
    "https://open-bitbucket.nrao.edu/projects/CASA/repos/casatestdata/browse/unittest/tclean/venus_ephem_test.ms"
   ]
  },
  {
   "cell_type": "code",
   "execution_count": 2,
   "id": "134a99e3-c5a2-443c-96d4-f44fae59555a",
   "metadata": {},
   "outputs": [
    {
     "name": "stdout",
     "output_type": "stream",
     "text": [
      "[\u001b[38;2;128;05;128m2025-01-16 08:56:37,486\u001b[0m] \u001b[38;2;255;160;0m WARNING\u001b[0m\u001b[38;2;112;128;144m    viperlog: \u001b[0m File exists: \u001b[38;2;50;50;205m/Users/jsteeb/miniforge3/envs/zinc/lib/python3.12/site-packages/toolviper/utils/data/.dropbox\u001b[0m \n",
      "[\u001b[38;2;128;05;128m2025-01-16 08:56:37,486\u001b[0m] \u001b[38;2;50;50;205m    INFO\u001b[0m\u001b[38;2;112;128;144m    viperlog: \u001b[0m Updating file metadata information ...  \n",
      " "
     ]
    },
    {
     "data": {
      "text/html": [
       "<pre style=\"white-space:pre;overflow-x:auto;line-height:normal;font-family:Menlo,'DejaVu Sans Mono',consolas,'Courier New',monospace\">                       \n",
       " <span style=\"font-weight: bold\"> Download List       </span> \n",
       " ───────────────────── \n",
       "  <span style=\"color: #800080; text-decoration-color: #800080\">venus_ephem_test.ms</span>  \n",
       "                       \n",
       "</pre>\n"
      ],
      "text/plain": [
       "                       \n",
       " \u001b[1m \u001b[0m\u001b[1mDownload List      \u001b[0m\u001b[1m \u001b[0m \n",
       " ───────────────────── \n",
       "  \u001b[35mvenus_ephem_test.ms\u001b[0m  \n",
       "                       \n"
      ]
     },
     "metadata": {},
     "output_type": "display_data"
    },
    {
     "name": "stdout",
     "output_type": "stream",
     "text": [
      "[\u001b[38;2;128;05;128m2025-01-16 08:56:38,296\u001b[0m] \u001b[38;2;50;50;205m    INFO\u001b[0m\u001b[38;2;112;128;144m    viperlog: \u001b[0m File exists: venus_ephem_test.ms \n"
     ]
    }
   ],
   "source": [
    "import toolviper\n",
    "ms_file = \"venus_ephem_test.ms\"\n",
    "toolviper.utils.data.download(file=ms_file)"
   ]
  },
  {
   "cell_type": "markdown",
   "id": "f8435c96-7010-4b79-8be6-51f7f6993b5f",
   "metadata": {},
   "source": [
    "## Convert to Processing Set"
   ]
  },
  {
   "cell_type": "code",
   "execution_count": 3,
   "id": "ee52d124-2c17-450b-879f-1f86f0ae265c",
   "metadata": {},
   "outputs": [
    {
     "name": "stdout",
     "output_type": "stream",
     "text": [
      "[\u001b[38;2;128;05;128m2025-01-16 08:56:38,683\u001b[0m] \u001b[38;2;50;50;205m    INFO\u001b[0m\u001b[38;2;112;128;144m    viperlog: \u001b[0m Partition scheme that will be used: ['DATA_DESC_ID', 'OBS_MODE', 'OBSERVATION_ID', 'FIELD_ID'] \n",
      "[\u001b[38;2;128;05;128m2025-01-16 08:56:38,693\u001b[0m] \u001b[38;2;50;50;205m    INFO\u001b[0m\u001b[38;2;112;128;144m    viperlog: \u001b[0m Number of partitions: 7 \n",
      "[\u001b[38;2;128;05;128m2025-01-16 08:56:38,693\u001b[0m] \u001b[38;2;50;50;205m    INFO\u001b[0m\u001b[38;2;112;128;144m    viperlog: \u001b[0m OBSERVATION_ID [0], DDI [0], STATE [15 22 29 20], FIELD [1], SCAN [ 7 11] \n"
     ]
    },
    {
     "name": "stderr",
     "output_type": "stream",
     "text": [
      "/Users/jsteeb/miniforge3/envs/zinc/lib/python3.12/site-packages/zarr/core/group.py:2821: UserWarning: Object at WEIGHT is not recognized as a component of a Zarr hierarchy.\n",
      "  warnings.warn(\n",
      "/Users/jsteeb/miniforge3/envs/zinc/lib/python3.12/site-packages/zarr/core/group.py:2821: UserWarning: Object at UVW is not recognized as a component of a Zarr hierarchy.\n",
      "  warnings.warn(\n",
      "/Users/jsteeb/miniforge3/envs/zinc/lib/python3.12/site-packages/zarr/core/group.py:2821: UserWarning: Object at FLAG is not recognized as a component of a Zarr hierarchy.\n",
      "  warnings.warn(\n",
      "/Users/jsteeb/miniforge3/envs/zinc/lib/python3.12/site-packages/zarr/core/group.py:2821: UserWarning: Object at frequency is not recognized as a component of a Zarr hierarchy.\n",
      "  warnings.warn(\n",
      "/Users/jsteeb/miniforge3/envs/zinc/lib/python3.12/site-packages/zarr/core/group.py:2821: UserWarning: Object at VISIBILITY is not recognized as a component of a Zarr hierarchy.\n",
      "  warnings.warn(\n",
      "/Users/jsteeb/miniforge3/envs/zinc/lib/python3.12/site-packages/zarr/core/group.py:2821: UserWarning: Object at polarization is not recognized as a component of a Zarr hierarchy.\n",
      "  warnings.warn(\n",
      "/Users/jsteeb/miniforge3/envs/zinc/lib/python3.12/site-packages/zarr/core/group.py:2821: UserWarning: Object at baseline_id is not recognized as a component of a Zarr hierarchy.\n",
      "  warnings.warn(\n",
      "/Users/jsteeb/miniforge3/envs/zinc/lib/python3.12/site-packages/zarr/core/group.py:2821: UserWarning: Object at EFFECTIVE_INTEGRATION_TIME is not recognized as a component of a Zarr hierarchy.\n",
      "  warnings.warn(\n",
      "/Users/jsteeb/miniforge3/envs/zinc/lib/python3.12/site-packages/zarr/core/group.py:2821: UserWarning: Object at baseline_antenna2_name is not recognized as a component of a Zarr hierarchy.\n",
      "  warnings.warn(\n",
      "/Users/jsteeb/miniforge3/envs/zinc/lib/python3.12/site-packages/zarr/core/group.py:2821: UserWarning: Object at scan_number is not recognized as a component of a Zarr hierarchy.\n",
      "  warnings.warn(\n",
      "/Users/jsteeb/miniforge3/envs/zinc/lib/python3.12/site-packages/zarr/core/group.py:2821: UserWarning: Object at time is not recognized as a component of a Zarr hierarchy.\n",
      "  warnings.warn(\n",
      "/Users/jsteeb/miniforge3/envs/zinc/lib/python3.12/site-packages/zarr/core/group.py:2821: UserWarning: Object at uvw_label is not recognized as a component of a Zarr hierarchy.\n",
      "  warnings.warn(\n",
      "/Users/jsteeb/miniforge3/envs/zinc/lib/python3.12/site-packages/zarr/core/group.py:2821: UserWarning: Object at baseline_antenna1_name is not recognized as a component of a Zarr hierarchy.\n",
      "  warnings.warn(\n",
      "/Users/jsteeb/miniforge3/envs/zinc/lib/python3.12/site-packages/zarr/core/group.py:2821: UserWarning: Object at TIME_CENTROID is not recognized as a component of a Zarr hierarchy.\n",
      "  warnings.warn(\n",
      "/Users/jsteeb/miniforge3/envs/zinc/lib/python3.12/site-packages/zarr/core/group.py:2349: UserWarning: The `compressor` argument is deprecated. Use `compressors` instead.\n",
      "  compressors = _parse_deprecated_compressor(compressor, compressors)\n"
     ]
    },
    {
     "ename": "TypeError",
     "evalue": "Expected a BytesBytesCodec. Got <class 'numcodecs.zstd.Zstd'> instead.",
     "output_type": "error",
     "traceback": [
      "\u001b[0;31m---------------------------------------------------------------------------\u001b[0m",
      "\u001b[0;31mTypeError\u001b[0m                                 Traceback (most recent call last)",
      "Cell \u001b[0;32mIn[3], line 6\u001b[0m\n\u001b[1;32m      4\u001b[0m main_chunksize \u001b[38;5;241m=\u001b[39m {\u001b[38;5;124m\"\u001b[39m\u001b[38;5;124mfrequency\u001b[39m\u001b[38;5;124m\"\u001b[39m: \u001b[38;5;241m1\u001b[39m, \u001b[38;5;124m\"\u001b[39m\u001b[38;5;124mtime\u001b[39m\u001b[38;5;124m\"\u001b[39m: \u001b[38;5;241m20\u001b[39m}  \u001b[38;5;66;03m# baseline, polarization\u001b[39;00m\n\u001b[1;32m      5\u001b[0m outfile \u001b[38;5;241m=\u001b[39m \u001b[38;5;124m\"\u001b[39m\u001b[38;5;124mvenus_ephem_test.vis.zarr\u001b[39m\u001b[38;5;124m\"\u001b[39m\n\u001b[0;32m----> 6\u001b[0m \u001b[43mconvert_msv2_to_processing_set\u001b[49m\u001b[43m(\u001b[49m\n\u001b[1;32m      7\u001b[0m \u001b[43m    \u001b[49m\u001b[43min_file\u001b[49m\u001b[38;5;241;43m=\u001b[39;49m\u001b[43mms_file\u001b[49m\u001b[43m,\u001b[49m\n\u001b[1;32m      8\u001b[0m \u001b[43m    \u001b[49m\u001b[43mout_file\u001b[49m\u001b[38;5;241;43m=\u001b[39;49m\u001b[43moutfile\u001b[49m\u001b[43m,\u001b[49m\n\u001b[1;32m      9\u001b[0m \u001b[43m    \u001b[49m\u001b[43mparallel\u001b[49m\u001b[38;5;241;43m=\u001b[39;49m\u001b[38;5;28;43;01mFalse\u001b[39;49;00m\u001b[43m,\u001b[49m\n\u001b[1;32m     10\u001b[0m \u001b[43m    \u001b[49m\u001b[43moverwrite\u001b[49m\u001b[38;5;241;43m=\u001b[39;49m\u001b[38;5;28;43;01mTrue\u001b[39;49;00m\u001b[43m,\u001b[49m\n\u001b[1;32m     11\u001b[0m \u001b[43m    \u001b[49m\u001b[43mmain_chunksize\u001b[49m\u001b[38;5;241;43m=\u001b[39;49m\u001b[43mmain_chunksize\u001b[49m\u001b[43m,\u001b[49m\n\u001b[1;32m     12\u001b[0m \u001b[43m)\u001b[49m\n",
      "File \u001b[0;32m~/Dropbox/xradio/src/xradio/measurement_set/convert_msv2_to_processing_set.py:156\u001b[0m, in \u001b[0;36mconvert_msv2_to_processing_set\u001b[0;34m(in_file, out_file, partition_scheme, main_chunksize, with_pointing, pointing_chunksize, pointing_interpolate, ephemeris_interpolate, phase_cal_interpolate, sys_cal_interpolate, use_table_iter, compressor, storage_backend, parallel, overwrite)\u001b[0m\n\u001b[1;32m    136\u001b[0m         delayed_list\u001b[38;5;241m.\u001b[39mappend(\n\u001b[1;32m    137\u001b[0m             dask\u001b[38;5;241m.\u001b[39mdelayed(convert_and_write_partition)(\n\u001b[1;32m    138\u001b[0m                 in_file,\n\u001b[0;32m   (...)\u001b[0m\n\u001b[1;32m    153\u001b[0m             )\n\u001b[1;32m    154\u001b[0m         )\n\u001b[1;32m    155\u001b[0m     \u001b[38;5;28;01melse\u001b[39;00m:\n\u001b[0;32m--> 156\u001b[0m         \u001b[43mconvert_and_write_partition\u001b[49m\u001b[43m(\u001b[49m\n\u001b[1;32m    157\u001b[0m \u001b[43m            \u001b[49m\u001b[43min_file\u001b[49m\u001b[43m,\u001b[49m\n\u001b[1;32m    158\u001b[0m \u001b[43m            \u001b[49m\u001b[43mout_file\u001b[49m\u001b[43m,\u001b[49m\n\u001b[1;32m    159\u001b[0m \u001b[43m            \u001b[49m\u001b[43mms_v4_id\u001b[49m\u001b[43m,\u001b[49m\n\u001b[1;32m    160\u001b[0m \u001b[43m            \u001b[49m\u001b[43mpartition_info\u001b[49m\u001b[38;5;241;43m=\u001b[39;49m\u001b[43mpartition_info\u001b[49m\u001b[43m,\u001b[49m\n\u001b[1;32m    161\u001b[0m \u001b[43m            \u001b[49m\u001b[43muse_table_iter\u001b[49m\u001b[38;5;241;43m=\u001b[39;49m\u001b[43muse_table_iter\u001b[49m\u001b[43m,\u001b[49m\n\u001b[1;32m    162\u001b[0m \u001b[43m            \u001b[49m\u001b[43mpartition_scheme\u001b[49m\u001b[38;5;241;43m=\u001b[39;49m\u001b[43mpartition_scheme\u001b[49m\u001b[43m,\u001b[49m\n\u001b[1;32m    163\u001b[0m \u001b[43m            \u001b[49m\u001b[43mmain_chunksize\u001b[49m\u001b[38;5;241;43m=\u001b[39;49m\u001b[43mmain_chunksize\u001b[49m\u001b[43m,\u001b[49m\n\u001b[1;32m    164\u001b[0m \u001b[43m            \u001b[49m\u001b[43mwith_pointing\u001b[49m\u001b[38;5;241;43m=\u001b[39;49m\u001b[43mwith_pointing\u001b[49m\u001b[43m,\u001b[49m\n\u001b[1;32m    165\u001b[0m \u001b[43m            \u001b[49m\u001b[43mpointing_chunksize\u001b[49m\u001b[38;5;241;43m=\u001b[39;49m\u001b[43mpointing_chunksize\u001b[49m\u001b[43m,\u001b[49m\n\u001b[1;32m    166\u001b[0m \u001b[43m            \u001b[49m\u001b[43mpointing_interpolate\u001b[49m\u001b[38;5;241;43m=\u001b[39;49m\u001b[43mpointing_interpolate\u001b[49m\u001b[43m,\u001b[49m\n\u001b[1;32m    167\u001b[0m \u001b[43m            \u001b[49m\u001b[43mephemeris_interpolate\u001b[49m\u001b[38;5;241;43m=\u001b[39;49m\u001b[43mephemeris_interpolate\u001b[49m\u001b[43m,\u001b[49m\n\u001b[1;32m    168\u001b[0m \u001b[43m            \u001b[49m\u001b[43mphase_cal_interpolate\u001b[49m\u001b[38;5;241;43m=\u001b[39;49m\u001b[43mphase_cal_interpolate\u001b[49m\u001b[43m,\u001b[49m\n\u001b[1;32m    169\u001b[0m \u001b[43m            \u001b[49m\u001b[43msys_cal_interpolate\u001b[49m\u001b[38;5;241;43m=\u001b[39;49m\u001b[43msys_cal_interpolate\u001b[49m\u001b[43m,\u001b[49m\n\u001b[1;32m    170\u001b[0m \u001b[43m            \u001b[49m\u001b[43mcompressor\u001b[49m\u001b[38;5;241;43m=\u001b[39;49m\u001b[43mcompressor\u001b[49m\u001b[43m,\u001b[49m\n\u001b[1;32m    171\u001b[0m \u001b[43m            \u001b[49m\u001b[43moverwrite\u001b[49m\u001b[38;5;241;43m=\u001b[39;49m\u001b[43moverwrite\u001b[49m\u001b[43m,\u001b[49m\n\u001b[1;32m    172\u001b[0m \u001b[43m        \u001b[49m\u001b[43m)\u001b[49m\n\u001b[1;32m    174\u001b[0m \u001b[38;5;28;01mif\u001b[39;00m parallel:\n\u001b[1;32m    175\u001b[0m     dask\u001b[38;5;241m.\u001b[39mcompute(delayed_list)\n",
      "File \u001b[0;32m~/Dropbox/xradio/src/xradio/measurement_set/_utils/_msv2/conversion.py:1280\u001b[0m, in \u001b[0;36mconvert_and_write_partition\u001b[0;34m(in_file, out_file, ms_v4_id, partition_info, use_table_iter, partition_scheme, main_chunksize, with_pointing, pointing_chunksize, pointing_interpolate, ephemeris_interpolate, phase_cal_interpolate, sys_cal_interpolate, compressor, storage_backend, overwrite)\u001b[0m\n\u001b[1;32m   1278\u001b[0m start \u001b[38;5;241m=\u001b[39m time\u001b[38;5;241m.\u001b[39mtime()\n\u001b[1;32m   1279\u001b[0m \u001b[38;5;28;01mif\u001b[39;00m storage_backend \u001b[38;5;241m==\u001b[39m \u001b[38;5;124m\"\u001b[39m\u001b[38;5;124mzarr\u001b[39m\u001b[38;5;124m\"\u001b[39m:\n\u001b[0;32m-> 1280\u001b[0m     \u001b[43mxds\u001b[49m\u001b[38;5;241;43m.\u001b[39;49m\u001b[43mto_zarr\u001b[49m\u001b[43m(\u001b[49m\u001b[43mstore\u001b[49m\u001b[38;5;241;43m=\u001b[39;49m\u001b[43mos\u001b[49m\u001b[38;5;241;43m.\u001b[39;49m\u001b[43mpath\u001b[49m\u001b[38;5;241;43m.\u001b[39;49m\u001b[43mjoin\u001b[49m\u001b[43m(\u001b[49m\u001b[43mfile_name\u001b[49m\u001b[43m,\u001b[49m\u001b[43m \u001b[49m\u001b[38;5;124;43m\"\u001b[39;49m\u001b[38;5;124;43mcorrelated_xds\u001b[39;49m\u001b[38;5;124;43m\"\u001b[39;49m\u001b[43m)\u001b[49m\u001b[43m,\u001b[49m\u001b[43m \u001b[49m\u001b[43mmode\u001b[49m\u001b[38;5;241;43m=\u001b[39;49m\u001b[43mmode\u001b[49m\u001b[43m)\u001b[49m\n\u001b[1;32m   1281\u001b[0m     ant_xds\u001b[38;5;241m.\u001b[39mto_zarr(store\u001b[38;5;241m=\u001b[39mos\u001b[38;5;241m.\u001b[39mpath\u001b[38;5;241m.\u001b[39mjoin(file_name, \u001b[38;5;124m\"\u001b[39m\u001b[38;5;124mantenna_xds\u001b[39m\u001b[38;5;124m\"\u001b[39m), mode\u001b[38;5;241m=\u001b[39mmode)\n\u001b[1;32m   1282\u001b[0m     \u001b[38;5;28;01mfor\u001b[39;00m group_name \u001b[38;5;129;01min\u001b[39;00m xds\u001b[38;5;241m.\u001b[39mattrs[\u001b[38;5;124m\"\u001b[39m\u001b[38;5;124mdata_groups\u001b[39m\u001b[38;5;124m\"\u001b[39m]:\n",
      "File \u001b[0;32m~/miniforge3/envs/zinc/lib/python3.12/site-packages/xarray/core/dataset.py:2622\u001b[0m, in \u001b[0;36mDataset.to_zarr\u001b[0;34m(self, store, chunk_store, mode, synchronizer, group, encoding, compute, consolidated, append_dim, region, safe_chunks, storage_options, zarr_version, zarr_format, write_empty_chunks, chunkmanager_store_kwargs)\u001b[0m\n\u001b[1;32m   2454\u001b[0m \u001b[38;5;250m\u001b[39m\u001b[38;5;124;03m\"\"\"Write dataset contents to a zarr group.\u001b[39;00m\n\u001b[1;32m   2455\u001b[0m \n\u001b[1;32m   2456\u001b[0m \u001b[38;5;124;03mZarr chunks are determined in the following way:\u001b[39;00m\n\u001b[0;32m   (...)\u001b[0m\n\u001b[1;32m   2618\u001b[0m \u001b[38;5;124;03m    The I/O user guide, with more details and examples.\u001b[39;00m\n\u001b[1;32m   2619\u001b[0m \u001b[38;5;124;03m\"\"\"\u001b[39;00m\n\u001b[1;32m   2620\u001b[0m \u001b[38;5;28;01mfrom\u001b[39;00m\u001b[38;5;250m \u001b[39m\u001b[38;5;21;01mxarray\u001b[39;00m\u001b[38;5;21;01m.\u001b[39;00m\u001b[38;5;21;01mbackends\u001b[39;00m\u001b[38;5;21;01m.\u001b[39;00m\u001b[38;5;21;01mapi\u001b[39;00m\u001b[38;5;250m \u001b[39m\u001b[38;5;28;01mimport\u001b[39;00m to_zarr\n\u001b[0;32m-> 2622\u001b[0m \u001b[38;5;28;01mreturn\u001b[39;00m \u001b[43mto_zarr\u001b[49m\u001b[43m(\u001b[49m\u001b[43m  \u001b[49m\u001b[38;5;66;43;03m# type: ignore[call-overload,misc]\u001b[39;49;00m\n\u001b[1;32m   2623\u001b[0m \u001b[43m    \u001b[49m\u001b[38;5;28;43mself\u001b[39;49m\u001b[43m,\u001b[49m\n\u001b[1;32m   2624\u001b[0m \u001b[43m    \u001b[49m\u001b[43mstore\u001b[49m\u001b[38;5;241;43m=\u001b[39;49m\u001b[43mstore\u001b[49m\u001b[43m,\u001b[49m\n\u001b[1;32m   2625\u001b[0m \u001b[43m    \u001b[49m\u001b[43mchunk_store\u001b[49m\u001b[38;5;241;43m=\u001b[39;49m\u001b[43mchunk_store\u001b[49m\u001b[43m,\u001b[49m\n\u001b[1;32m   2626\u001b[0m \u001b[43m    \u001b[49m\u001b[43mstorage_options\u001b[49m\u001b[38;5;241;43m=\u001b[39;49m\u001b[43mstorage_options\u001b[49m\u001b[43m,\u001b[49m\n\u001b[1;32m   2627\u001b[0m \u001b[43m    \u001b[49m\u001b[43mmode\u001b[49m\u001b[38;5;241;43m=\u001b[39;49m\u001b[43mmode\u001b[49m\u001b[43m,\u001b[49m\n\u001b[1;32m   2628\u001b[0m \u001b[43m    \u001b[49m\u001b[43msynchronizer\u001b[49m\u001b[38;5;241;43m=\u001b[39;49m\u001b[43msynchronizer\u001b[49m\u001b[43m,\u001b[49m\n\u001b[1;32m   2629\u001b[0m \u001b[43m    \u001b[49m\u001b[43mgroup\u001b[49m\u001b[38;5;241;43m=\u001b[39;49m\u001b[43mgroup\u001b[49m\u001b[43m,\u001b[49m\n\u001b[1;32m   2630\u001b[0m \u001b[43m    \u001b[49m\u001b[43mencoding\u001b[49m\u001b[38;5;241;43m=\u001b[39;49m\u001b[43mencoding\u001b[49m\u001b[43m,\u001b[49m\n\u001b[1;32m   2631\u001b[0m \u001b[43m    \u001b[49m\u001b[43mcompute\u001b[49m\u001b[38;5;241;43m=\u001b[39;49m\u001b[43mcompute\u001b[49m\u001b[43m,\u001b[49m\n\u001b[1;32m   2632\u001b[0m \u001b[43m    \u001b[49m\u001b[43mconsolidated\u001b[49m\u001b[38;5;241;43m=\u001b[39;49m\u001b[43mconsolidated\u001b[49m\u001b[43m,\u001b[49m\n\u001b[1;32m   2633\u001b[0m \u001b[43m    \u001b[49m\u001b[43mappend_dim\u001b[49m\u001b[38;5;241;43m=\u001b[39;49m\u001b[43mappend_dim\u001b[49m\u001b[43m,\u001b[49m\n\u001b[1;32m   2634\u001b[0m \u001b[43m    \u001b[49m\u001b[43mregion\u001b[49m\u001b[38;5;241;43m=\u001b[39;49m\u001b[43mregion\u001b[49m\u001b[43m,\u001b[49m\n\u001b[1;32m   2635\u001b[0m \u001b[43m    \u001b[49m\u001b[43msafe_chunks\u001b[49m\u001b[38;5;241;43m=\u001b[39;49m\u001b[43msafe_chunks\u001b[49m\u001b[43m,\u001b[49m\n\u001b[1;32m   2636\u001b[0m \u001b[43m    \u001b[49m\u001b[43mzarr_version\u001b[49m\u001b[38;5;241;43m=\u001b[39;49m\u001b[43mzarr_version\u001b[49m\u001b[43m,\u001b[49m\n\u001b[1;32m   2637\u001b[0m \u001b[43m    \u001b[49m\u001b[43mzarr_format\u001b[49m\u001b[38;5;241;43m=\u001b[39;49m\u001b[43mzarr_format\u001b[49m\u001b[43m,\u001b[49m\n\u001b[1;32m   2638\u001b[0m \u001b[43m    \u001b[49m\u001b[43mwrite_empty_chunks\u001b[49m\u001b[38;5;241;43m=\u001b[39;49m\u001b[43mwrite_empty_chunks\u001b[49m\u001b[43m,\u001b[49m\n\u001b[1;32m   2639\u001b[0m \u001b[43m    \u001b[49m\u001b[43mchunkmanager_store_kwargs\u001b[49m\u001b[38;5;241;43m=\u001b[39;49m\u001b[43mchunkmanager_store_kwargs\u001b[49m\u001b[43m,\u001b[49m\n\u001b[1;32m   2640\u001b[0m \u001b[43m\u001b[49m\u001b[43m)\u001b[49m\n",
      "File \u001b[0;32m~/miniforge3/envs/zinc/lib/python3.12/site-packages/xarray/backends/api.py:2216\u001b[0m, in \u001b[0;36mto_zarr\u001b[0;34m(dataset, store, chunk_store, mode, synchronizer, group, encoding, compute, consolidated, append_dim, region, safe_chunks, storage_options, zarr_version, zarr_format, write_empty_chunks, chunkmanager_store_kwargs)\u001b[0m\n\u001b[1;32m   2214\u001b[0m writer \u001b[38;5;241m=\u001b[39m ArrayWriter()\n\u001b[1;32m   2215\u001b[0m \u001b[38;5;66;03m# TODO: figure out how to properly handle unlimited_dims\u001b[39;00m\n\u001b[0;32m-> 2216\u001b[0m \u001b[43mdump_to_store\u001b[49m\u001b[43m(\u001b[49m\u001b[43mdataset\u001b[49m\u001b[43m,\u001b[49m\u001b[43m \u001b[49m\u001b[43mzstore\u001b[49m\u001b[43m,\u001b[49m\u001b[43m \u001b[49m\u001b[43mwriter\u001b[49m\u001b[43m,\u001b[49m\u001b[43m \u001b[49m\u001b[43mencoding\u001b[49m\u001b[38;5;241;43m=\u001b[39;49m\u001b[43mencoding\u001b[49m\u001b[43m)\u001b[49m\n\u001b[1;32m   2217\u001b[0m writes \u001b[38;5;241m=\u001b[39m writer\u001b[38;5;241m.\u001b[39msync(\n\u001b[1;32m   2218\u001b[0m     compute\u001b[38;5;241m=\u001b[39mcompute, chunkmanager_store_kwargs\u001b[38;5;241m=\u001b[39mchunkmanager_store_kwargs\n\u001b[1;32m   2219\u001b[0m )\n\u001b[1;32m   2221\u001b[0m \u001b[38;5;28;01mif\u001b[39;00m compute:\n",
      "File \u001b[0;32m~/miniforge3/envs/zinc/lib/python3.12/site-packages/xarray/backends/api.py:1952\u001b[0m, in \u001b[0;36mdump_to_store\u001b[0;34m(dataset, store, writer, encoder, encoding, unlimited_dims)\u001b[0m\n\u001b[1;32m   1949\u001b[0m \u001b[38;5;28;01mif\u001b[39;00m encoder:\n\u001b[1;32m   1950\u001b[0m     variables, attrs \u001b[38;5;241m=\u001b[39m encoder(variables, attrs)\n\u001b[0;32m-> 1952\u001b[0m \u001b[43mstore\u001b[49m\u001b[38;5;241;43m.\u001b[39;49m\u001b[43mstore\u001b[49m\u001b[43m(\u001b[49m\u001b[43mvariables\u001b[49m\u001b[43m,\u001b[49m\u001b[43m \u001b[49m\u001b[43mattrs\u001b[49m\u001b[43m,\u001b[49m\u001b[43m \u001b[49m\u001b[43mcheck_encoding\u001b[49m\u001b[43m,\u001b[49m\u001b[43m \u001b[49m\u001b[43mwriter\u001b[49m\u001b[43m,\u001b[49m\u001b[43m \u001b[49m\u001b[43munlimited_dims\u001b[49m\u001b[38;5;241;43m=\u001b[39;49m\u001b[43munlimited_dims\u001b[49m\u001b[43m)\u001b[49m\n",
      "File \u001b[0;32m~/miniforge3/envs/zinc/lib/python3.12/site-packages/xarray/backends/zarr.py:1022\u001b[0m, in \u001b[0;36mZarrStore.store\u001b[0;34m(self, variables, attributes, check_encoding_set, writer, unlimited_dims)\u001b[0m\n\u001b[1;32m   1019\u001b[0m \u001b[38;5;28;01melse\u001b[39;00m:\n\u001b[1;32m   1020\u001b[0m     variables_to_set \u001b[38;5;241m=\u001b[39m variables_encoded\n\u001b[0;32m-> 1022\u001b[0m \u001b[38;5;28;43mself\u001b[39;49m\u001b[38;5;241;43m.\u001b[39;49m\u001b[43mset_variables\u001b[49m\u001b[43m(\u001b[49m\n\u001b[1;32m   1023\u001b[0m \u001b[43m    \u001b[49m\u001b[43mvariables_to_set\u001b[49m\u001b[43m,\u001b[49m\u001b[43m \u001b[49m\u001b[43mcheck_encoding_set\u001b[49m\u001b[43m,\u001b[49m\u001b[43m \u001b[49m\u001b[43mwriter\u001b[49m\u001b[43m,\u001b[49m\u001b[43m \u001b[49m\u001b[43munlimited_dims\u001b[49m\u001b[38;5;241;43m=\u001b[39;49m\u001b[43munlimited_dims\u001b[49m\n\u001b[1;32m   1024\u001b[0m \u001b[43m\u001b[49m\u001b[43m)\u001b[49m\n\u001b[1;32m   1025\u001b[0m \u001b[38;5;28;01mif\u001b[39;00m \u001b[38;5;28mself\u001b[39m\u001b[38;5;241m.\u001b[39m_consolidate_on_close:\n\u001b[1;32m   1026\u001b[0m     kwargs \u001b[38;5;241m=\u001b[39m {}\n",
      "File \u001b[0;32m~/miniforge3/envs/zinc/lib/python3.12/site-packages/xarray/backends/zarr.py:1194\u001b[0m, in \u001b[0;36mZarrStore.set_variables\u001b[0;34m(self, variables, check_encoding_set, writer, unlimited_dims)\u001b[0m\n\u001b[1;32m   1190\u001b[0m         encoded_attrs[DIMENSION_KEY] \u001b[38;5;241m=\u001b[39m dims\n\u001b[1;32m   1192\u001b[0m     encoding[\u001b[38;5;124m\"\u001b[39m\u001b[38;5;124moverwrite\u001b[39m\u001b[38;5;124m\"\u001b[39m] \u001b[38;5;241m=\u001b[39m \u001b[38;5;28;01mTrue\u001b[39;00m \u001b[38;5;28;01mif\u001b[39;00m \u001b[38;5;28mself\u001b[39m\u001b[38;5;241m.\u001b[39m_mode \u001b[38;5;241m==\u001b[39m \u001b[38;5;124m\"\u001b[39m\u001b[38;5;124mw\u001b[39m\u001b[38;5;124m\"\u001b[39m \u001b[38;5;28;01melse\u001b[39;00m \u001b[38;5;28;01mFalse\u001b[39;00m\n\u001b[0;32m-> 1194\u001b[0m     zarr_array \u001b[38;5;241m=\u001b[39m \u001b[38;5;28;43mself\u001b[39;49m\u001b[38;5;241;43m.\u001b[39;49m\u001b[43m_create_new_array\u001b[49m\u001b[43m(\u001b[49m\n\u001b[1;32m   1195\u001b[0m \u001b[43m        \u001b[49m\u001b[43mname\u001b[49m\u001b[38;5;241;43m=\u001b[39;49m\u001b[43mname\u001b[49m\u001b[43m,\u001b[49m\n\u001b[1;32m   1196\u001b[0m \u001b[43m        \u001b[49m\u001b[43mdtype\u001b[49m\u001b[38;5;241;43m=\u001b[39;49m\u001b[43mdtype\u001b[49m\u001b[43m,\u001b[49m\n\u001b[1;32m   1197\u001b[0m \u001b[43m        \u001b[49m\u001b[43mshape\u001b[49m\u001b[38;5;241;43m=\u001b[39;49m\u001b[43mshape\u001b[49m\u001b[43m,\u001b[49m\n\u001b[1;32m   1198\u001b[0m \u001b[43m        \u001b[49m\u001b[43mfill_value\u001b[49m\u001b[38;5;241;43m=\u001b[39;49m\u001b[43mfill_value\u001b[49m\u001b[43m,\u001b[49m\n\u001b[1;32m   1199\u001b[0m \u001b[43m        \u001b[49m\u001b[43mencoding\u001b[49m\u001b[38;5;241;43m=\u001b[39;49m\u001b[43mencoding\u001b[49m\u001b[43m,\u001b[49m\n\u001b[1;32m   1200\u001b[0m \u001b[43m        \u001b[49m\u001b[43mattrs\u001b[49m\u001b[38;5;241;43m=\u001b[39;49m\u001b[43mencoded_attrs\u001b[49m\u001b[43m,\u001b[49m\n\u001b[1;32m   1201\u001b[0m \u001b[43m    \u001b[49m\u001b[43m)\u001b[49m\n\u001b[1;32m   1203\u001b[0m writer\u001b[38;5;241m.\u001b[39madd(v\u001b[38;5;241m.\u001b[39mdata, zarr_array, region)\n",
      "File \u001b[0;32m~/miniforge3/envs/zinc/lib/python3.12/site-packages/xarray/backends/zarr.py:1089\u001b[0m, in \u001b[0;36mZarrStore._create_new_array\u001b[0;34m(self, name, shape, dtype, fill_value, encoding, attrs)\u001b[0m\n\u001b[1;32m   1086\u001b[0m     \u001b[38;5;28;01melse\u001b[39;00m:\n\u001b[1;32m   1087\u001b[0m         encoding[\u001b[38;5;124m\"\u001b[39m\u001b[38;5;124mwrite_empty_chunks\u001b[39m\u001b[38;5;124m\"\u001b[39m] \u001b[38;5;241m=\u001b[39m \u001b[38;5;28mself\u001b[39m\u001b[38;5;241m.\u001b[39m_write_empty\n\u001b[0;32m-> 1089\u001b[0m zarr_array \u001b[38;5;241m=\u001b[39m \u001b[38;5;28;43mself\u001b[39;49m\u001b[38;5;241;43m.\u001b[39;49m\u001b[43mzarr_group\u001b[49m\u001b[38;5;241;43m.\u001b[39;49m\u001b[43mcreate\u001b[49m\u001b[43m(\u001b[49m\n\u001b[1;32m   1090\u001b[0m \u001b[43m    \u001b[49m\u001b[43mname\u001b[49m\u001b[43m,\u001b[49m\n\u001b[1;32m   1091\u001b[0m \u001b[43m    \u001b[49m\u001b[43mshape\u001b[49m\u001b[38;5;241;43m=\u001b[39;49m\u001b[43mshape\u001b[49m\u001b[43m,\u001b[49m\n\u001b[1;32m   1092\u001b[0m \u001b[43m    \u001b[49m\u001b[43mdtype\u001b[49m\u001b[38;5;241;43m=\u001b[39;49m\u001b[43mdtype\u001b[49m\u001b[43m,\u001b[49m\n\u001b[1;32m   1093\u001b[0m \u001b[43m    \u001b[49m\u001b[43mfill_value\u001b[49m\u001b[38;5;241;43m=\u001b[39;49m\u001b[43mfill_value\u001b[49m\u001b[43m,\u001b[49m\n\u001b[1;32m   1094\u001b[0m \u001b[43m    \u001b[49m\u001b[38;5;241;43m*\u001b[39;49m\u001b[38;5;241;43m*\u001b[39;49m\u001b[43mencoding\u001b[49m\u001b[43m,\u001b[49m\n\u001b[1;32m   1095\u001b[0m \u001b[43m\u001b[49m\u001b[43m)\u001b[49m\n\u001b[1;32m   1096\u001b[0m zarr_array \u001b[38;5;241m=\u001b[39m _put_attrs(zarr_array, attrs)\n\u001b[1;32m   1097\u001b[0m \u001b[38;5;28;01mreturn\u001b[39;00m zarr_array\n",
      "File \u001b[0;32m~/miniforge3/envs/zinc/lib/python3.12/site-packages/zarr/core/group.py:2234\u001b[0m, in \u001b[0;36mGroup.create\u001b[0;34m(self, *args, **kwargs)\u001b[0m\n\u001b[1;32m   2232\u001b[0m \u001b[38;5;28;01mdef\u001b[39;00m\u001b[38;5;250m \u001b[39m\u001b[38;5;21mcreate\u001b[39m(\u001b[38;5;28mself\u001b[39m, \u001b[38;5;241m*\u001b[39margs: Any, \u001b[38;5;241m*\u001b[39m\u001b[38;5;241m*\u001b[39mkwargs: Any) \u001b[38;5;241m-\u001b[39m\u001b[38;5;241m>\u001b[39m Array:\n\u001b[1;32m   2233\u001b[0m     \u001b[38;5;66;03m# Backwards compatibility for 2.x\u001b[39;00m\n\u001b[0;32m-> 2234\u001b[0m     \u001b[38;5;28;01mreturn\u001b[39;00m \u001b[38;5;28;43mself\u001b[39;49m\u001b[38;5;241;43m.\u001b[39;49m\u001b[43mcreate_array\u001b[49m\u001b[43m(\u001b[49m\u001b[38;5;241;43m*\u001b[39;49m\u001b[43margs\u001b[49m\u001b[43m,\u001b[49m\u001b[43m \u001b[49m\u001b[38;5;241;43m*\u001b[39;49m\u001b[38;5;241;43m*\u001b[39;49m\u001b[43mkwargs\u001b[49m\u001b[43m)\u001b[49m\n",
      "File \u001b[0;32m~/miniforge3/envs/zinc/lib/python3.12/site-packages/zarr/_compat.py:43\u001b[0m, in \u001b[0;36m_deprecate_positional_args.<locals>._inner_deprecate_positional_args.<locals>.inner_f\u001b[0;34m(*args, **kwargs)\u001b[0m\n\u001b[1;32m     41\u001b[0m extra_args \u001b[38;5;241m=\u001b[39m \u001b[38;5;28mlen\u001b[39m(args) \u001b[38;5;241m-\u001b[39m \u001b[38;5;28mlen\u001b[39m(all_args)\n\u001b[1;32m     42\u001b[0m \u001b[38;5;28;01mif\u001b[39;00m extra_args \u001b[38;5;241m<\u001b[39m\u001b[38;5;241m=\u001b[39m \u001b[38;5;241m0\u001b[39m:\n\u001b[0;32m---> 43\u001b[0m     \u001b[38;5;28;01mreturn\u001b[39;00m \u001b[43mf\u001b[49m\u001b[43m(\u001b[49m\u001b[38;5;241;43m*\u001b[39;49m\u001b[43margs\u001b[49m\u001b[43m,\u001b[49m\u001b[43m \u001b[49m\u001b[38;5;241;43m*\u001b[39;49m\u001b[38;5;241;43m*\u001b[39;49m\u001b[43mkwargs\u001b[49m\u001b[43m)\u001b[49m\n\u001b[1;32m     45\u001b[0m \u001b[38;5;66;03m# extra_args > 0\u001b[39;00m\n\u001b[1;32m     46\u001b[0m args_msg \u001b[38;5;241m=\u001b[39m [\n\u001b[1;32m     47\u001b[0m     \u001b[38;5;124mf\u001b[39m\u001b[38;5;124m\"\u001b[39m\u001b[38;5;132;01m{\u001b[39;00mname\u001b[38;5;132;01m}\u001b[39;00m\u001b[38;5;124m=\u001b[39m\u001b[38;5;132;01m{\u001b[39;00marg\u001b[38;5;132;01m}\u001b[39;00m\u001b[38;5;124m\"\u001b[39m\n\u001b[1;32m     48\u001b[0m     \u001b[38;5;28;01mfor\u001b[39;00m name, arg \u001b[38;5;129;01min\u001b[39;00m \u001b[38;5;28mzip\u001b[39m(kwonly_args[:extra_args], args[\u001b[38;5;241m-\u001b[39mextra_args:], strict\u001b[38;5;241m=\u001b[39m\u001b[38;5;28;01mFalse\u001b[39;00m)\n\u001b[1;32m     49\u001b[0m ]\n",
      "File \u001b[0;32m~/miniforge3/envs/zinc/lib/python3.12/site-packages/zarr/core/group.py:2351\u001b[0m, in \u001b[0;36mGroup.create_array\u001b[0;34m(self, name, shape, dtype, chunks, shards, filters, compressors, compressor, serializer, fill_value, order, attributes, chunk_key_encoding, dimension_names, storage_options, overwrite, config)\u001b[0m\n\u001b[1;32m   2258\u001b[0m \u001b[38;5;250m\u001b[39m\u001b[38;5;124;03m\"\"\"Create an array within this group.\u001b[39;00m\n\u001b[1;32m   2259\u001b[0m \n\u001b[1;32m   2260\u001b[0m \u001b[38;5;124;03mThis method lightly wraps :func:`zarr.core.array.create_array`.\u001b[39;00m\n\u001b[0;32m   (...)\u001b[0m\n\u001b[1;32m   2347\u001b[0m \u001b[38;5;124;03mAsyncArray\u001b[39;00m\n\u001b[1;32m   2348\u001b[0m \u001b[38;5;124;03m\"\"\"\u001b[39;00m\n\u001b[1;32m   2349\u001b[0m compressors \u001b[38;5;241m=\u001b[39m _parse_deprecated_compressor(compressor, compressors)\n\u001b[1;32m   2350\u001b[0m \u001b[38;5;28;01mreturn\u001b[39;00m Array(\n\u001b[0;32m-> 2351\u001b[0m     \u001b[38;5;28;43mself\u001b[39;49m\u001b[38;5;241;43m.\u001b[39;49m\u001b[43m_sync\u001b[49m\u001b[43m(\u001b[49m\n\u001b[1;32m   2352\u001b[0m \u001b[43m        \u001b[49m\u001b[38;5;28;43mself\u001b[39;49m\u001b[38;5;241;43m.\u001b[39;49m\u001b[43m_async_group\u001b[49m\u001b[38;5;241;43m.\u001b[39;49m\u001b[43mcreate_array\u001b[49m\u001b[43m(\u001b[49m\n\u001b[1;32m   2353\u001b[0m \u001b[43m            \u001b[49m\u001b[43mname\u001b[49m\u001b[38;5;241;43m=\u001b[39;49m\u001b[43mname\u001b[49m\u001b[43m,\u001b[49m\n\u001b[1;32m   2354\u001b[0m \u001b[43m            \u001b[49m\u001b[43mshape\u001b[49m\u001b[38;5;241;43m=\u001b[39;49m\u001b[43mshape\u001b[49m\u001b[43m,\u001b[49m\n\u001b[1;32m   2355\u001b[0m \u001b[43m            \u001b[49m\u001b[43mdtype\u001b[49m\u001b[38;5;241;43m=\u001b[39;49m\u001b[43mdtype\u001b[49m\u001b[43m,\u001b[49m\n\u001b[1;32m   2356\u001b[0m \u001b[43m            \u001b[49m\u001b[43mchunks\u001b[49m\u001b[38;5;241;43m=\u001b[39;49m\u001b[43mchunks\u001b[49m\u001b[43m,\u001b[49m\n\u001b[1;32m   2357\u001b[0m \u001b[43m            \u001b[49m\u001b[43mshards\u001b[49m\u001b[38;5;241;43m=\u001b[39;49m\u001b[43mshards\u001b[49m\u001b[43m,\u001b[49m\n\u001b[1;32m   2358\u001b[0m \u001b[43m            \u001b[49m\u001b[43mfill_value\u001b[49m\u001b[38;5;241;43m=\u001b[39;49m\u001b[43mfill_value\u001b[49m\u001b[43m,\u001b[49m\n\u001b[1;32m   2359\u001b[0m \u001b[43m            \u001b[49m\u001b[43mattributes\u001b[49m\u001b[38;5;241;43m=\u001b[39;49m\u001b[43mattributes\u001b[49m\u001b[43m,\u001b[49m\n\u001b[1;32m   2360\u001b[0m \u001b[43m            \u001b[49m\u001b[43mchunk_key_encoding\u001b[49m\u001b[38;5;241;43m=\u001b[39;49m\u001b[43mchunk_key_encoding\u001b[49m\u001b[43m,\u001b[49m\n\u001b[1;32m   2361\u001b[0m \u001b[43m            \u001b[49m\u001b[43mcompressors\u001b[49m\u001b[38;5;241;43m=\u001b[39;49m\u001b[43mcompressors\u001b[49m\u001b[43m,\u001b[49m\n\u001b[1;32m   2362\u001b[0m \u001b[43m            \u001b[49m\u001b[43mserializer\u001b[49m\u001b[38;5;241;43m=\u001b[39;49m\u001b[43mserializer\u001b[49m\u001b[43m,\u001b[49m\n\u001b[1;32m   2363\u001b[0m \u001b[43m            \u001b[49m\u001b[43mdimension_names\u001b[49m\u001b[38;5;241;43m=\u001b[39;49m\u001b[43mdimension_names\u001b[49m\u001b[43m,\u001b[49m\n\u001b[1;32m   2364\u001b[0m \u001b[43m            \u001b[49m\u001b[43morder\u001b[49m\u001b[38;5;241;43m=\u001b[39;49m\u001b[43morder\u001b[49m\u001b[43m,\u001b[49m\n\u001b[1;32m   2365\u001b[0m \u001b[43m            \u001b[49m\u001b[43mfilters\u001b[49m\u001b[38;5;241;43m=\u001b[39;49m\u001b[43mfilters\u001b[49m\u001b[43m,\u001b[49m\n\u001b[1;32m   2366\u001b[0m \u001b[43m            \u001b[49m\u001b[43moverwrite\u001b[49m\u001b[38;5;241;43m=\u001b[39;49m\u001b[43moverwrite\u001b[49m\u001b[43m,\u001b[49m\n\u001b[1;32m   2367\u001b[0m \u001b[43m            \u001b[49m\u001b[43mstorage_options\u001b[49m\u001b[38;5;241;43m=\u001b[39;49m\u001b[43mstorage_options\u001b[49m\u001b[43m,\u001b[49m\n\u001b[1;32m   2368\u001b[0m \u001b[43m            \u001b[49m\u001b[43mconfig\u001b[49m\u001b[38;5;241;43m=\u001b[39;49m\u001b[43mconfig\u001b[49m\u001b[43m,\u001b[49m\n\u001b[1;32m   2369\u001b[0m \u001b[43m        \u001b[49m\u001b[43m)\u001b[49m\n\u001b[1;32m   2370\u001b[0m \u001b[43m    \u001b[49m\u001b[43m)\u001b[49m\n\u001b[1;32m   2371\u001b[0m )\n",
      "File \u001b[0;32m~/miniforge3/envs/zinc/lib/python3.12/site-packages/zarr/core/sync.py:187\u001b[0m, in \u001b[0;36mSyncMixin._sync\u001b[0;34m(self, coroutine)\u001b[0m\n\u001b[1;32m    184\u001b[0m \u001b[38;5;28;01mdef\u001b[39;00m\u001b[38;5;250m \u001b[39m\u001b[38;5;21m_sync\u001b[39m(\u001b[38;5;28mself\u001b[39m, coroutine: Coroutine[Any, Any, T]) \u001b[38;5;241m-\u001b[39m\u001b[38;5;241m>\u001b[39m T:\n\u001b[1;32m    185\u001b[0m     \u001b[38;5;66;03m# TODO: refactor this to to take *args and **kwargs and pass those to the method\u001b[39;00m\n\u001b[1;32m    186\u001b[0m     \u001b[38;5;66;03m# this should allow us to better type the sync wrapper\u001b[39;00m\n\u001b[0;32m--> 187\u001b[0m     \u001b[38;5;28;01mreturn\u001b[39;00m \u001b[43msync\u001b[49m\u001b[43m(\u001b[49m\n\u001b[1;32m    188\u001b[0m \u001b[43m        \u001b[49m\u001b[43mcoroutine\u001b[49m\u001b[43m,\u001b[49m\n\u001b[1;32m    189\u001b[0m \u001b[43m        \u001b[49m\u001b[43mtimeout\u001b[49m\u001b[38;5;241;43m=\u001b[39;49m\u001b[43mconfig\u001b[49m\u001b[38;5;241;43m.\u001b[39;49m\u001b[43mget\u001b[49m\u001b[43m(\u001b[49m\u001b[38;5;124;43m\"\u001b[39;49m\u001b[38;5;124;43masync.timeout\u001b[39;49m\u001b[38;5;124;43m\"\u001b[39;49m\u001b[43m)\u001b[49m\u001b[43m,\u001b[49m\n\u001b[1;32m    190\u001b[0m \u001b[43m    \u001b[49m\u001b[43m)\u001b[49m\n",
      "File \u001b[0;32m~/miniforge3/envs/zinc/lib/python3.12/site-packages/zarr/core/sync.py:142\u001b[0m, in \u001b[0;36msync\u001b[0;34m(coro, loop, timeout)\u001b[0m\n\u001b[1;32m    139\u001b[0m return_result \u001b[38;5;241m=\u001b[39m \u001b[38;5;28mnext\u001b[39m(\u001b[38;5;28miter\u001b[39m(finished))\u001b[38;5;241m.\u001b[39mresult()\n\u001b[1;32m    141\u001b[0m \u001b[38;5;28;01mif\u001b[39;00m \u001b[38;5;28misinstance\u001b[39m(return_result, \u001b[38;5;167;01mBaseException\u001b[39;00m):\n\u001b[0;32m--> 142\u001b[0m     \u001b[38;5;28;01mraise\u001b[39;00m return_result\n\u001b[1;32m    143\u001b[0m \u001b[38;5;28;01melse\u001b[39;00m:\n\u001b[1;32m    144\u001b[0m     \u001b[38;5;28;01mreturn\u001b[39;00m return_result\n",
      "File \u001b[0;32m~/miniforge3/envs/zinc/lib/python3.12/site-packages/zarr/core/sync.py:98\u001b[0m, in \u001b[0;36m_runner\u001b[0;34m(coro)\u001b[0m\n\u001b[1;32m     93\u001b[0m \u001b[38;5;250m\u001b[39m\u001b[38;5;124;03m\"\"\"\u001b[39;00m\n\u001b[1;32m     94\u001b[0m \u001b[38;5;124;03mAwait a coroutine and return the result of running it. If awaiting the coroutine raises an\u001b[39;00m\n\u001b[1;32m     95\u001b[0m \u001b[38;5;124;03mexception, the exception will be returned.\u001b[39;00m\n\u001b[1;32m     96\u001b[0m \u001b[38;5;124;03m\"\"\"\u001b[39;00m\n\u001b[1;32m     97\u001b[0m \u001b[38;5;28;01mtry\u001b[39;00m:\n\u001b[0;32m---> 98\u001b[0m     \u001b[38;5;28;01mreturn\u001b[39;00m \u001b[38;5;28;01mawait\u001b[39;00m coro\n\u001b[1;32m     99\u001b[0m \u001b[38;5;28;01mexcept\u001b[39;00m \u001b[38;5;167;01mException\u001b[39;00m \u001b[38;5;28;01mas\u001b[39;00m ex:\n\u001b[1;32m    100\u001b[0m     \u001b[38;5;28;01mreturn\u001b[39;00m ex\n",
      "File \u001b[0;32m~/miniforge3/envs/zinc/lib/python3.12/site-packages/zarr/core/group.py:1119\u001b[0m, in \u001b[0;36mAsyncGroup.create_array\u001b[0;34m(self, name, shape, dtype, chunks, shards, filters, compressors, compressor, serializer, fill_value, order, attributes, chunk_key_encoding, dimension_names, storage_options, overwrite, config)\u001b[0m\n\u001b[1;32m   1025\u001b[0m \u001b[38;5;250m\u001b[39m\u001b[38;5;124;03m\"\"\"Create an array within this group.\u001b[39;00m\n\u001b[1;32m   1026\u001b[0m \n\u001b[1;32m   1027\u001b[0m \u001b[38;5;124;03mThis method lightly wraps :func:`zarr.core.array.create_array`.\u001b[39;00m\n\u001b[0;32m   (...)\u001b[0m\n\u001b[1;32m   1115\u001b[0m \n\u001b[1;32m   1116\u001b[0m \u001b[38;5;124;03m\"\"\"\u001b[39;00m\n\u001b[1;32m   1118\u001b[0m compressors \u001b[38;5;241m=\u001b[39m _parse_deprecated_compressor(compressor, compressors)\n\u001b[0;32m-> 1119\u001b[0m \u001b[38;5;28;01mreturn\u001b[39;00m \u001b[38;5;28;01mawait\u001b[39;00m create_array(\n\u001b[1;32m   1120\u001b[0m     store\u001b[38;5;241m=\u001b[39m\u001b[38;5;28mself\u001b[39m\u001b[38;5;241m.\u001b[39mstore_path,\n\u001b[1;32m   1121\u001b[0m     name\u001b[38;5;241m=\u001b[39mname,\n\u001b[1;32m   1122\u001b[0m     shape\u001b[38;5;241m=\u001b[39mshape,\n\u001b[1;32m   1123\u001b[0m     dtype\u001b[38;5;241m=\u001b[39mdtype,\n\u001b[1;32m   1124\u001b[0m     chunks\u001b[38;5;241m=\u001b[39mchunks,\n\u001b[1;32m   1125\u001b[0m     shards\u001b[38;5;241m=\u001b[39mshards,\n\u001b[1;32m   1126\u001b[0m     filters\u001b[38;5;241m=\u001b[39mfilters,\n\u001b[1;32m   1127\u001b[0m     compressors\u001b[38;5;241m=\u001b[39mcompressors,\n\u001b[1;32m   1128\u001b[0m     serializer\u001b[38;5;241m=\u001b[39mserializer,\n\u001b[1;32m   1129\u001b[0m     fill_value\u001b[38;5;241m=\u001b[39mfill_value,\n\u001b[1;32m   1130\u001b[0m     order\u001b[38;5;241m=\u001b[39morder,\n\u001b[1;32m   1131\u001b[0m     zarr_format\u001b[38;5;241m=\u001b[39m\u001b[38;5;28mself\u001b[39m\u001b[38;5;241m.\u001b[39mmetadata\u001b[38;5;241m.\u001b[39mzarr_format,\n\u001b[1;32m   1132\u001b[0m     attributes\u001b[38;5;241m=\u001b[39mattributes,\n\u001b[1;32m   1133\u001b[0m     chunk_key_encoding\u001b[38;5;241m=\u001b[39mchunk_key_encoding,\n\u001b[1;32m   1134\u001b[0m     dimension_names\u001b[38;5;241m=\u001b[39mdimension_names,\n\u001b[1;32m   1135\u001b[0m     storage_options\u001b[38;5;241m=\u001b[39mstorage_options,\n\u001b[1;32m   1136\u001b[0m     overwrite\u001b[38;5;241m=\u001b[39moverwrite,\n\u001b[1;32m   1137\u001b[0m     config\u001b[38;5;241m=\u001b[39mconfig,\n\u001b[1;32m   1138\u001b[0m )\n",
      "File \u001b[0;32m~/miniforge3/envs/zinc/lib/python3.12/site-packages/zarr/core/array.py:3919\u001b[0m, in \u001b[0;36mcreate_array\u001b[0;34m(store, name, shape, dtype, chunks, shards, filters, compressors, serializer, fill_value, order, zarr_format, attributes, chunk_key_encoding, dimension_names, storage_options, overwrite, config)\u001b[0m\n\u001b[1;32m   3904\u001b[0m     result \u001b[38;5;241m=\u001b[39m \u001b[38;5;28;01mawait\u001b[39;00m AsyncArray\u001b[38;5;241m.\u001b[39m_create_v2(\n\u001b[1;32m   3905\u001b[0m         store_path\u001b[38;5;241m=\u001b[39mstore_path,\n\u001b[1;32m   3906\u001b[0m         shape\u001b[38;5;241m=\u001b[39mshape_parsed,\n\u001b[0;32m   (...)\u001b[0m\n\u001b[1;32m   3916\u001b[0m         config\u001b[38;5;241m=\u001b[39mconfig_parsed,\n\u001b[1;32m   3917\u001b[0m     )\n\u001b[1;32m   3918\u001b[0m \u001b[38;5;28;01melse\u001b[39;00m:\n\u001b[0;32m-> 3919\u001b[0m     array_array, array_bytes, bytes_bytes \u001b[38;5;241m=\u001b[39m \u001b[43m_parse_chunk_encoding_v3\u001b[49m\u001b[43m(\u001b[49m\n\u001b[1;32m   3920\u001b[0m \u001b[43m        \u001b[49m\u001b[43mcompressors\u001b[49m\u001b[38;5;241;43m=\u001b[39;49m\u001b[43mcompressors\u001b[49m\u001b[43m,\u001b[49m\n\u001b[1;32m   3921\u001b[0m \u001b[43m        \u001b[49m\u001b[43mfilters\u001b[49m\u001b[38;5;241;43m=\u001b[39;49m\u001b[43mfilters\u001b[49m\u001b[43m,\u001b[49m\n\u001b[1;32m   3922\u001b[0m \u001b[43m        \u001b[49m\u001b[43mserializer\u001b[49m\u001b[38;5;241;43m=\u001b[39;49m\u001b[43mserializer\u001b[49m\u001b[43m,\u001b[49m\n\u001b[1;32m   3923\u001b[0m \u001b[43m        \u001b[49m\u001b[43mdtype\u001b[49m\u001b[38;5;241;43m=\u001b[39;49m\u001b[43mdtype_parsed\u001b[49m\u001b[43m,\u001b[49m\n\u001b[1;32m   3924\u001b[0m \u001b[43m    \u001b[49m\u001b[43m)\u001b[49m\n\u001b[1;32m   3925\u001b[0m     sub_codecs \u001b[38;5;241m=\u001b[39m cast(\u001b[38;5;28mtuple\u001b[39m[Codec, \u001b[38;5;241m.\u001b[39m\u001b[38;5;241m.\u001b[39m\u001b[38;5;241m.\u001b[39m], (\u001b[38;5;241m*\u001b[39marray_array, array_bytes, \u001b[38;5;241m*\u001b[39mbytes_bytes))\n\u001b[1;32m   3926\u001b[0m     codecs_out: \u001b[38;5;28mtuple\u001b[39m[Codec, \u001b[38;5;241m.\u001b[39m\u001b[38;5;241m.\u001b[39m\u001b[38;5;241m.\u001b[39m]\n",
      "File \u001b[0;32m~/miniforge3/envs/zinc/lib/python3.12/site-packages/zarr/core/array.py:4120\u001b[0m, in \u001b[0;36m_parse_chunk_encoding_v3\u001b[0;34m(compressors, filters, serializer, dtype)\u001b[0m\n\u001b[1;32m   4117\u001b[0m     \u001b[38;5;28;01melse\u001b[39;00m:\n\u001b[1;32m   4118\u001b[0m         maybe_bytes_bytes \u001b[38;5;241m=\u001b[39m cast(Iterable[Codec \u001b[38;5;241m|\u001b[39m \u001b[38;5;28mdict\u001b[39m[\u001b[38;5;28mstr\u001b[39m, JSON]], compressors)\n\u001b[0;32m-> 4120\u001b[0m     out_bytes_bytes \u001b[38;5;241m=\u001b[39m \u001b[38;5;28;43mtuple\u001b[39;49m\u001b[43m(\u001b[49m\u001b[43m_parse_bytes_bytes_codec\u001b[49m\u001b[43m(\u001b[49m\u001b[43mc\u001b[49m\u001b[43m)\u001b[49m\u001b[43m \u001b[49m\u001b[38;5;28;43;01mfor\u001b[39;49;00m\u001b[43m \u001b[49m\u001b[43mc\u001b[49m\u001b[43m \u001b[49m\u001b[38;5;129;43;01min\u001b[39;49;00m\u001b[43m \u001b[49m\u001b[43mmaybe_bytes_bytes\u001b[49m\u001b[43m)\u001b[49m\n\u001b[1;32m   4122\u001b[0m \u001b[38;5;28;01mreturn\u001b[39;00m out_array_array, out_array_bytes, out_bytes_bytes\n",
      "File \u001b[0;32m~/miniforge3/envs/zinc/lib/python3.12/site-packages/zarr/core/array.py:4120\u001b[0m, in \u001b[0;36m<genexpr>\u001b[0;34m(.0)\u001b[0m\n\u001b[1;32m   4117\u001b[0m     \u001b[38;5;28;01melse\u001b[39;00m:\n\u001b[1;32m   4118\u001b[0m         maybe_bytes_bytes \u001b[38;5;241m=\u001b[39m cast(Iterable[Codec \u001b[38;5;241m|\u001b[39m \u001b[38;5;28mdict\u001b[39m[\u001b[38;5;28mstr\u001b[39m, JSON]], compressors)\n\u001b[0;32m-> 4120\u001b[0m     out_bytes_bytes \u001b[38;5;241m=\u001b[39m \u001b[38;5;28mtuple\u001b[39m(\u001b[43m_parse_bytes_bytes_codec\u001b[49m\u001b[43m(\u001b[49m\u001b[43mc\u001b[49m\u001b[43m)\u001b[49m \u001b[38;5;28;01mfor\u001b[39;00m c \u001b[38;5;129;01min\u001b[39;00m maybe_bytes_bytes)\n\u001b[1;32m   4122\u001b[0m \u001b[38;5;28;01mreturn\u001b[39;00m out_array_array, out_array_bytes, out_bytes_bytes\n",
      "File \u001b[0;32m~/miniforge3/envs/zinc/lib/python3.12/site-packages/zarr/registry.py:184\u001b[0m, in \u001b[0;36m_parse_bytes_bytes_codec\u001b[0;34m(data)\u001b[0m\n\u001b[1;32m    182\u001b[0m \u001b[38;5;28;01melse\u001b[39;00m:\n\u001b[1;32m    183\u001b[0m     \u001b[38;5;28;01mif\u001b[39;00m \u001b[38;5;129;01mnot\u001b[39;00m \u001b[38;5;28misinstance\u001b[39m(data, BytesBytesCodec):\n\u001b[0;32m--> 184\u001b[0m         \u001b[38;5;28;01mraise\u001b[39;00m \u001b[38;5;167;01mTypeError\u001b[39;00m(\u001b[38;5;124mf\u001b[39m\u001b[38;5;124m\"\u001b[39m\u001b[38;5;124mExpected a BytesBytesCodec. Got \u001b[39m\u001b[38;5;132;01m{\u001b[39;00m\u001b[38;5;28mtype\u001b[39m(data)\u001b[38;5;132;01m}\u001b[39;00m\u001b[38;5;124m instead.\u001b[39m\u001b[38;5;124m\"\u001b[39m)\n\u001b[1;32m    185\u001b[0m     result \u001b[38;5;241m=\u001b[39m data\n\u001b[1;32m    186\u001b[0m \u001b[38;5;28;01mreturn\u001b[39;00m result\n",
      "\u001b[0;31mTypeError\u001b[0m: Expected a BytesBytesCodec. Got <class 'numcodecs.zstd.Zstd'> instead."
     ]
    }
   ],
   "source": [
    "from xradio.measurement_set import convert_msv2_to_processing_set\n",
    "\n",
    "\n",
    "main_chunksize = {\"frequency\": 1, \"time\": 20}  # baseline, polarization\n",
    "outfile = \"venus_ephem_test.vis.zarr\"\n",
    "convert_msv2_to_processing_set(\n",
    "    in_file=ms_file,\n",
    "    out_file=outfile,\n",
    "    parallel=False,\n",
    "    overwrite=True,\n",
    "    main_chunksize=main_chunksize,\n",
    ")"
   ]
  },
  {
   "cell_type": "markdown",
   "id": "fbd02679-0df8-4fa5-8036-6f22f534e386",
   "metadata": {},
   "source": [
    "## Processing Set"
   ]
  },
  {
   "cell_type": "code",
   "execution_count": null,
   "id": "dab986ca-55f8-4a4a-ba59-9c97fcc2ca84",
   "metadata": {},
   "outputs": [],
   "source": [
    "ps_name = outfile\n",
    "\n",
    "from xradio.measurement_set import open_processing_set\n",
    "\n",
    "ps = open_processing_set(ps_store=outfile)\n",
    "ps.summary()"
   ]
  },
  {
   "cell_type": "code",
   "execution_count": null,
   "id": "d3d0ac93",
   "metadata": {},
   "outputs": [],
   "source": [
    "ps.keys()"
   ]
  },
  {
   "cell_type": "code",
   "execution_count": null,
   "id": "259aa56b",
   "metadata": {},
   "outputs": [],
   "source": [
    "ps[\"venus_ephem_test_0\"]"
   ]
  },
  {
   "cell_type": "code",
   "execution_count": null,
   "id": "079098b0-f78e-4ace-907a-5c63f157b107",
   "metadata": {},
   "outputs": [],
   "source": [
    "main_xds = ps[\"venus_ephem_test_0\"]\n",
    "main_xds.observation_info"
   ]
  },
  {
   "cell_type": "code",
   "execution_count": null,
   "id": "ba761deb-b7a9-4b2b-8163-3050413fe59c",
   "metadata": {},
   "outputs": [],
   "source": [
    "ps[\"venus_ephem_test_0\"].attrs[\n",
    "    \"antenna_xds\"\n",
    "]"
   ]
  },
  {
   "cell_type": "code",
   "execution_count": null,
   "id": "24e79ab8",
   "metadata": {},
   "outputs": [],
   "source": [
    "ps[\"venus_ephem_test_0\"].VISIBILITY.attrs[\n",
    "    \"field_and_source_xds\"\n",
    "]"
   ]
  },
  {
   "cell_type": "code",
   "execution_count": null,
   "id": "500a2998",
   "metadata": {},
   "outputs": [],
   "source": [
    "ps[\"venus_ephem_test_5\"].VISIBILITY.attrs[\n",
    "    \"field_and_source_xds\"\n",
    "].FIELD_PHASE_CENTER.values"
   ]
  },
  {
   "cell_type": "code",
   "execution_count": null,
   "id": "23704913",
   "metadata": {},
   "outputs": [],
   "source": [
    "ps.plot_antenna_positions()"
   ]
  },
  {
   "cell_type": "code",
   "execution_count": null,
   "id": "535915a6",
   "metadata": {},
   "outputs": [],
   "source": [
    "ps.plot_phase_centers()"
   ]
  }
 ],
 "metadata": {
  "kernelspec": {
   "display_name": "Python 3 (ipykernel)",
   "language": "python",
   "name": "python3"
  },
  "language_info": {
   "codemirror_mode": {
    "name": "ipython",
    "version": 3
   },
   "file_extension": ".py",
   "mimetype": "text/x-python",
   "name": "python",
   "nbconvert_exporter": "python",
   "pygments_lexer": "ipython3",
   "version": "3.12.8"
  },
  "widgets": {
   "application/vnd.jupyter.widget-state+json": {
    "state": {
     "0ee749ee40c14579b5ce4c327d1c929e": {
      "model_module": "@jupyter-widgets/base",
      "model_module_version": "2.0.0",
      "model_name": "LayoutModel",
      "state": {}
     },
     "1e4dbac64a01425cb9c1b8ea63aa8731": {
      "model_module": "@jupyter-widgets/base",
      "model_module_version": "2.0.0",
      "model_name": "LayoutModel",
      "state": {}
     },
     "28911e79a61d445eb76a0e6260580c45": {
      "model_module": "@jupyter-widgets/base",
      "model_module_version": "2.0.0",
      "model_name": "LayoutModel",
      "state": {}
     },
     "2b794430278e4a44825b024bb09f2425": {
      "model_module": "@jupyter-widgets/base",
      "model_module_version": "2.0.0",
      "model_name": "LayoutModel",
      "state": {}
     },
     "2facd01885c048fda3526a0afbd238f7": {
      "model_module": "@jupyter-widgets/controls",
      "model_module_version": "2.0.0",
      "model_name": "HTMLStyleModel",
      "state": {
       "description_width": "",
       "font_size": null,
       "text_color": null
      }
     },
     "526d12673b524402abd5d29bcbc9d411": {
      "model_module": "@jupyter-widgets/controls",
      "model_module_version": "2.0.0",
      "model_name": "HTMLModel",
      "state": {
       "layout": "IPY_MODEL_2b794430278e4a44825b024bb09f2425",
       "style": "IPY_MODEL_2facd01885c048fda3526a0afbd238f7",
       "value": "venus_ephem_test.ms.zip: 100%"
      }
     },
     "a2682e0fdd444608946d56eecf51b6e3": {
      "model_module": "@jupyter-widgets/controls",
      "model_module_version": "2.0.0",
      "model_name": "FloatProgressModel",
      "state": {
       "bar_style": "success",
       "layout": "IPY_MODEL_28911e79a61d445eb76a0e6260580c45",
       "max": 16758430,
       "style": "IPY_MODEL_cac3418a062f47f9b164155b4c7362e6",
       "value": 16758430
      }
     },
     "b26b157ec2e34919b7559f62dc19164d": {
      "model_module": "@jupyter-widgets/controls",
      "model_module_version": "2.0.0",
      "model_name": "HTMLStyleModel",
      "state": {
       "description_width": "",
       "font_size": null,
       "text_color": null
      }
     },
     "b5176279a1cd4b95b3f6cccfe698fcf9": {
      "model_module": "@jupyter-widgets/controls",
      "model_module_version": "2.0.0",
      "model_name": "HBoxModel",
      "state": {
       "children": [
        "IPY_MODEL_526d12673b524402abd5d29bcbc9d411",
        "IPY_MODEL_a2682e0fdd444608946d56eecf51b6e3",
        "IPY_MODEL_cf85eaa692d343bba4ddd7d6fc5f2db6"
       ],
       "layout": "IPY_MODEL_0ee749ee40c14579b5ce4c327d1c929e"
      }
     },
     "cac3418a062f47f9b164155b4c7362e6": {
      "model_module": "@jupyter-widgets/controls",
      "model_module_version": "2.0.0",
      "model_name": "ProgressStyleModel",
      "state": {
       "description_width": ""
      }
     },
     "cf85eaa692d343bba4ddd7d6fc5f2db6": {
      "model_module": "@jupyter-widgets/controls",
      "model_module_version": "2.0.0",
      "model_name": "HTMLModel",
      "state": {
       "layout": "IPY_MODEL_1e4dbac64a01425cb9c1b8ea63aa8731",
       "style": "IPY_MODEL_b26b157ec2e34919b7559f62dc19164d",
       "value": " 16.0M/16.0M [00:02&lt;00:00, 6.75MiB/s]"
      }
     }
    },
    "version_major": 2,
    "version_minor": 0
   }
  }
 },
 "nbformat": 4,
 "nbformat_minor": 5
}
