{
 "cells": [
  {
   "cell_type": "markdown",
   "id": "17f99679-6680-4b96-a978-af765635b0d8",
   "metadata": {},
   "source": [
    "# Processing Set Visibility Tutorial\n",
    "\n",
    "This tutorial can be run on Google Colaboratory via this [link](https://colab.research.google.com/github/casangi/xradio/blob/main/docs/source/measurement_set/tutorials/ps_vis.ipynb)\n",
    "\n"
   ]
  },
  {
   "cell_type": "markdown",
   "id": "dc536ba0-5317-4ef1-b3be-1b92a50be58e",
   "metadata": {},
   "source": [
    "# Preparation"
   ]
  },
  {
   "cell_type": "markdown",
   "id": "604007db-1708-487d-99b5-bff82bf3d28b",
   "metadata": {},
   "source": [
    "## Import xradio"
   ]
  },
  {
   "cell_type": "code",
   "execution_count": 1,
   "id": "b83acc82-3f3d-4c92-aa5d-f25bb01ff8f7",
   "metadata": {
    "scrolled": true
   },
   "outputs": [
    {
     "name": "stdout",
     "output_type": "stream",
     "text": [
      "Requirement already satisfied: xradio in /home/fedemp/ws_xradio_dev/venv_xradio_python312/lib/python3.12/site-packages (0.0.43)\n",
      "Collecting xradio\n",
      "  Downloading xradio-0.0.44-py3-none-any.whl.metadata (4.5 kB)\n",
      "Requirement already satisfied: astropy in /home/fedemp/ws_xradio_dev/venv_xradio_python312/lib/python3.12/site-packages (from xradio) (6.1.3)\n",
      "Requirement already satisfied: dask in /home/fedemp/ws_xradio_dev/venv_xradio_python312/lib/python3.12/site-packages (from xradio) (2024.9.0)\n",
      "Requirement already satisfied: distributed in /home/fedemp/ws_xradio_dev/venv_xradio_python312/lib/python3.12/site-packages (from xradio) (2024.9.0)\n",
      "Requirement already satisfied: toolviper in /home/fedemp/ws_xradio_dev/venv_xradio_python312/lib/python3.12/site-packages (from xradio) (0.0.1)\n",
      "Requirement already satisfied: numba>=0.57.0 in /home/fedemp/ws_xradio_dev/venv_xradio_python312/lib/python3.12/site-packages (from xradio) (0.60.0)\n",
      "Requirement already satisfied: numpy in /home/fedemp/ws_xradio_dev/venv_xradio_python312/lib/python3.12/site-packages (from xradio) (2.0.2)\n",
      "Requirement already satisfied: pytest in /home/fedemp/ws_xradio_dev/venv_xradio_python312/lib/python3.12/site-packages (from xradio) (8.3.3)\n",
      "Requirement already satisfied: pytest-cov in /home/fedemp/ws_xradio_dev/venv_xradio_python312/lib/python3.12/site-packages (from xradio) (5.0.0)\n",
      "Requirement already satisfied: pytest-html in /home/fedemp/ws_xradio_dev/venv_xradio_python312/lib/python3.12/site-packages (from xradio) (4.1.1)\n",
      "Requirement already satisfied: s3fs in /home/fedemp/ws_xradio_dev/venv_xradio_python312/lib/python3.12/site-packages (from xradio) (2024.9.0)\n",
      "Requirement already satisfied: scipy in /home/fedemp/ws_xradio_dev/venv_xradio_python312/lib/python3.12/site-packages (from xradio) (1.14.1)\n",
      "Requirement already satisfied: xarray in /home/fedemp/ws_xradio_dev/venv_xradio_python312/lib/python3.12/site-packages (from xradio) (2024.9.0)\n",
      "Requirement already satisfied: zarr in /home/fedemp/ws_xradio_dev/venv_xradio_python312/lib/python3.12/site-packages (from xradio) (2.18.3)\n",
      "Requirement already satisfied: pyarrow in /home/fedemp/ws_xradio_dev/venv_xradio_python312/lib/python3.12/site-packages (from xradio) (17.0.0)\n",
      "Requirement already satisfied: typeguard in /home/fedemp/ws_xradio_dev/venv_xradio_python312/lib/python3.12/site-packages (from xradio) (4.3.0)\n",
      "Requirement already satisfied: python-casacore>=3.6.1 in /home/fedemp/ws_xradio_dev/venv_xradio_python312/lib/python3.12/site-packages (from xradio) (3.6.1)\n",
      "Requirement already satisfied: llvmlite<0.44,>=0.43.0dev0 in /home/fedemp/ws_xradio_dev/venv_xradio_python312/lib/python3.12/site-packages (from numba>=0.57.0->xradio) (0.43.0)\n",
      "Requirement already satisfied: six in /home/fedemp/ws_xradio_dev/venv_xradio_python312/lib/python3.12/site-packages (from python-casacore>=3.6.1->xradio) (1.16.0)\n",
      "Requirement already satisfied: pyerfa>=2.0.1.1 in /home/fedemp/ws_xradio_dev/venv_xradio_python312/lib/python3.12/site-packages (from astropy->xradio) (2.0.1.4)\n",
      "Requirement already satisfied: astropy-iers-data>=0.2024.7.29.0.32.7 in /home/fedemp/ws_xradio_dev/venv_xradio_python312/lib/python3.12/site-packages (from astropy->xradio) (0.2024.9.16.0.32.21)\n",
      "Requirement already satisfied: PyYAML>=3.13 in /home/fedemp/ws_xradio_dev/venv_xradio_python312/lib/python3.12/site-packages (from astropy->xradio) (6.0.2)\n",
      "Requirement already satisfied: packaging>=19.0 in /home/fedemp/ws_xradio_dev/venv_xradio_python312/lib/python3.12/site-packages (from astropy->xradio) (24.1)\n",
      "Requirement already satisfied: click>=8.1 in /home/fedemp/ws_xradio_dev/venv_xradio_python312/lib/python3.12/site-packages (from dask->xradio) (8.1.7)\n",
      "Requirement already satisfied: cloudpickle>=3.0.0 in /home/fedemp/ws_xradio_dev/venv_xradio_python312/lib/python3.12/site-packages (from dask->xradio) (3.0.0)\n",
      "Requirement already satisfied: fsspec>=2021.09.0 in /home/fedemp/ws_xradio_dev/venv_xradio_python312/lib/python3.12/site-packages (from dask->xradio) (2024.9.0)\n",
      "Requirement already satisfied: partd>=1.4.0 in /home/fedemp/ws_xradio_dev/venv_xradio_python312/lib/python3.12/site-packages (from dask->xradio) (1.4.2)\n",
      "Requirement already satisfied: toolz>=0.10.0 in /home/fedemp/ws_xradio_dev/venv_xradio_python312/lib/python3.12/site-packages (from dask->xradio) (0.12.1)\n",
      "Requirement already satisfied: jinja2>=2.10.3 in /home/fedemp/ws_xradio_dev/venv_xradio_python312/lib/python3.12/site-packages (from distributed->xradio) (3.1.4)\n",
      "Requirement already satisfied: locket>=1.0.0 in /home/fedemp/ws_xradio_dev/venv_xradio_python312/lib/python3.12/site-packages (from distributed->xradio) (1.0.0)\n",
      "Requirement already satisfied: msgpack>=1.0.2 in /home/fedemp/ws_xradio_dev/venv_xradio_python312/lib/python3.12/site-packages (from distributed->xradio) (1.1.0)\n",
      "Requirement already satisfied: psutil>=5.8.0 in /home/fedemp/ws_xradio_dev/venv_xradio_python312/lib/python3.12/site-packages (from distributed->xradio) (6.0.0)\n",
      "Requirement already satisfied: sortedcontainers>=2.0.5 in /home/fedemp/ws_xradio_dev/venv_xradio_python312/lib/python3.12/site-packages (from distributed->xradio) (2.4.0)\n",
      "Requirement already satisfied: tblib>=1.6.0 in /home/fedemp/ws_xradio_dev/venv_xradio_python312/lib/python3.12/site-packages (from distributed->xradio) (3.0.0)\n",
      "Requirement already satisfied: tornado>=6.2.0 in /home/fedemp/ws_xradio_dev/venv_xradio_python312/lib/python3.12/site-packages (from distributed->xradio) (6.4.1)\n",
      "Requirement already satisfied: urllib3>=1.26.5 in /home/fedemp/ws_xradio_dev/venv_xradio_python312/lib/python3.12/site-packages (from distributed->xradio) (2.2.3)\n",
      "Requirement already satisfied: zict>=3.0.0 in /home/fedemp/ws_xradio_dev/venv_xradio_python312/lib/python3.12/site-packages (from distributed->xradio) (3.0.0)\n",
      "Requirement already satisfied: iniconfig in /home/fedemp/ws_xradio_dev/venv_xradio_python312/lib/python3.12/site-packages (from pytest->xradio) (2.0.0)\n",
      "Requirement already satisfied: pluggy<2,>=1.5 in /home/fedemp/ws_xradio_dev/venv_xradio_python312/lib/python3.12/site-packages (from pytest->xradio) (1.5.0)\n",
      "Requirement already satisfied: coverage>=5.2.1 in /home/fedemp/ws_xradio_dev/venv_xradio_python312/lib/python3.12/site-packages (from coverage[toml]>=5.2.1->pytest-cov->xradio) (7.6.1)\n",
      "Requirement already satisfied: pytest-metadata>=2.0.0 in /home/fedemp/ws_xradio_dev/venv_xradio_python312/lib/python3.12/site-packages (from pytest-html->xradio) (3.1.1)\n",
      "Requirement already satisfied: aiobotocore<3.0.0,>=2.5.4 in /home/fedemp/ws_xradio_dev/venv_xradio_python312/lib/python3.12/site-packages (from s3fs->xradio) (2.15.0)\n",
      "Requirement already satisfied: aiohttp!=4.0.0a0,!=4.0.0a1 in /home/fedemp/ws_xradio_dev/venv_xradio_python312/lib/python3.12/site-packages (from s3fs->xradio) (3.10.5)\n",
      "Requirement already satisfied: cerberus in /home/fedemp/ws_xradio_dev/venv_xradio_python312/lib/python3.12/site-packages (from toolviper->xradio) (1.3.5)\n",
      "Requirement already satisfied: dask-jobqueue in /home/fedemp/ws_xradio_dev/venv_xradio_python312/lib/python3.12/site-packages (from toolviper->xradio) (0.9.0)\n",
      "Requirement already satisfied: ipywidgets in /home/fedemp/ws_xradio_dev/venv_xradio_python312/lib/python3.12/site-packages (from toolviper->xradio) (8.1.5)\n",
      "Requirement already satisfied: rich in /home/fedemp/ws_xradio_dev/venv_xradio_python312/lib/python3.12/site-packages (from toolviper->xradio) (13.8.1)\n",
      "Requirement already satisfied: tqdm in /home/fedemp/ws_xradio_dev/venv_xradio_python312/lib/python3.12/site-packages (from toolviper->xradio) (4.66.5)\n",
      "Requirement already satisfied: bokeh in /home/fedemp/ws_xradio_dev/venv_xradio_python312/lib/python3.12/site-packages (from toolviper->xradio) (3.5.2)\n",
      "Requirement already satisfied: jupyterlab in /home/fedemp/ws_xradio_dev/venv_xradio_python312/lib/python3.12/site-packages (from toolviper->xradio) (4.2.5)\n",
      "Requirement already satisfied: graphviz in /home/fedemp/ws_xradio_dev/venv_xradio_python312/lib/python3.12/site-packages (from toolviper->xradio) (0.20.3)\n",
      "Requirement already satisfied: typing-extensions>=4.10.0 in /home/fedemp/ws_xradio_dev/venv_xradio_python312/lib/python3.12/site-packages (from typeguard->xradio) (4.12.2)\n",
      "Requirement already satisfied: pandas>=2.1 in /home/fedemp/ws_xradio_dev/venv_xradio_python312/lib/python3.12/site-packages (from xarray->xradio) (2.2.2)\n",
      "Requirement already satisfied: asciitree in /home/fedemp/ws_xradio_dev/venv_xradio_python312/lib/python3.12/site-packages (from zarr->xradio) (0.3.3)\n",
      "Requirement already satisfied: numcodecs>=0.10.0 in /home/fedemp/ws_xradio_dev/venv_xradio_python312/lib/python3.12/site-packages (from zarr->xradio) (0.13.0)\n",
      "Requirement already satisfied: fasteners in /home/fedemp/ws_xradio_dev/venv_xradio_python312/lib/python3.12/site-packages (from zarr->xradio) (0.19)\n",
      "Requirement already satisfied: botocore<1.35.17,>=1.35.16 in /home/fedemp/ws_xradio_dev/venv_xradio_python312/lib/python3.12/site-packages (from aiobotocore<3.0.0,>=2.5.4->s3fs->xradio) (1.35.16)\n",
      "Requirement already satisfied: wrapt<2.0.0,>=1.10.10 in /home/fedemp/ws_xradio_dev/venv_xradio_python312/lib/python3.12/site-packages (from aiobotocore<3.0.0,>=2.5.4->s3fs->xradio) (1.16.0)\n",
      "Requirement already satisfied: aioitertools<1.0.0,>=0.5.1 in /home/fedemp/ws_xradio_dev/venv_xradio_python312/lib/python3.12/site-packages (from aiobotocore<3.0.0,>=2.5.4->s3fs->xradio) (0.12.0)\n",
      "Requirement already satisfied: aiohappyeyeballs>=2.3.0 in /home/fedemp/ws_xradio_dev/venv_xradio_python312/lib/python3.12/site-packages (from aiohttp!=4.0.0a0,!=4.0.0a1->s3fs->xradio) (2.4.0)\n",
      "Requirement already satisfied: aiosignal>=1.1.2 in /home/fedemp/ws_xradio_dev/venv_xradio_python312/lib/python3.12/site-packages (from aiohttp!=4.0.0a0,!=4.0.0a1->s3fs->xradio) (1.3.1)\n",
      "Requirement already satisfied: attrs>=17.3.0 in /home/fedemp/ws_xradio_dev/venv_xradio_python312/lib/python3.12/site-packages (from aiohttp!=4.0.0a0,!=4.0.0a1->s3fs->xradio) (24.2.0)\n",
      "Requirement already satisfied: frozenlist>=1.1.1 in /home/fedemp/ws_xradio_dev/venv_xradio_python312/lib/python3.12/site-packages (from aiohttp!=4.0.0a0,!=4.0.0a1->s3fs->xradio) (1.4.1)\n",
      "Requirement already satisfied: multidict<7.0,>=4.5 in /home/fedemp/ws_xradio_dev/venv_xradio_python312/lib/python3.12/site-packages (from aiohttp!=4.0.0a0,!=4.0.0a1->s3fs->xradio) (6.1.0)\n",
      "Requirement already satisfied: yarl<2.0,>=1.0 in /home/fedemp/ws_xradio_dev/venv_xradio_python312/lib/python3.12/site-packages (from aiohttp!=4.0.0a0,!=4.0.0a1->s3fs->xradio) (1.11.1)\n",
      "Requirement already satisfied: MarkupSafe>=2.0 in /home/fedemp/ws_xradio_dev/venv_xradio_python312/lib/python3.12/site-packages (from jinja2>=2.10.3->distributed->xradio) (2.1.5)\n",
      "Requirement already satisfied: python-dateutil>=2.8.2 in /home/fedemp/ws_xradio_dev/venv_xradio_python312/lib/python3.12/site-packages (from pandas>=2.1->xarray->xradio) (2.9.0.post0)\n",
      "Requirement already satisfied: pytz>=2020.1 in /home/fedemp/ws_xradio_dev/venv_xradio_python312/lib/python3.12/site-packages (from pandas>=2.1->xarray->xradio) (2024.2)\n",
      "Requirement already satisfied: tzdata>=2022.7 in /home/fedemp/ws_xradio_dev/venv_xradio_python312/lib/python3.12/site-packages (from pandas>=2.1->xarray->xradio) (2024.1)\n",
      "Requirement already satisfied: contourpy>=1.2 in /home/fedemp/ws_xradio_dev/venv_xradio_python312/lib/python3.12/site-packages (from bokeh->toolviper->xradio) (1.3.0)\n",
      "Requirement already satisfied: pillow>=7.1.0 in /home/fedemp/ws_xradio_dev/venv_xradio_python312/lib/python3.12/site-packages (from bokeh->toolviper->xradio) (10.4.0)\n",
      "Requirement already satisfied: xyzservices>=2021.09.1 in /home/fedemp/ws_xradio_dev/venv_xradio_python312/lib/python3.12/site-packages (from bokeh->toolviper->xradio) (2024.9.0)\n",
      "Requirement already satisfied: comm>=0.1.3 in /home/fedemp/ws_xradio_dev/venv_xradio_python312/lib/python3.12/site-packages (from ipywidgets->toolviper->xradio) (0.2.2)\n",
      "Requirement already satisfied: ipython>=6.1.0 in /home/fedemp/ws_xradio_dev/venv_xradio_python312/lib/python3.12/site-packages (from ipywidgets->toolviper->xradio) (8.27.0)\n",
      "Requirement already satisfied: traitlets>=4.3.1 in /home/fedemp/ws_xradio_dev/venv_xradio_python312/lib/python3.12/site-packages (from ipywidgets->toolviper->xradio) (5.14.3)\n",
      "Requirement already satisfied: widgetsnbextension~=4.0.12 in /home/fedemp/ws_xradio_dev/venv_xradio_python312/lib/python3.12/site-packages (from ipywidgets->toolviper->xradio) (4.0.13)\n",
      "Requirement already satisfied: jupyterlab-widgets~=3.0.12 in /home/fedemp/ws_xradio_dev/venv_xradio_python312/lib/python3.12/site-packages (from ipywidgets->toolviper->xradio) (3.0.13)\n",
      "Requirement already satisfied: async-lru>=1.0.0 in /home/fedemp/ws_xradio_dev/venv_xradio_python312/lib/python3.12/site-packages (from jupyterlab->toolviper->xradio) (2.0.4)\n",
      "Requirement already satisfied: httpx>=0.25.0 in /home/fedemp/ws_xradio_dev/venv_xradio_python312/lib/python3.12/site-packages (from jupyterlab->toolviper->xradio) (0.27.2)\n",
      "Requirement already satisfied: ipykernel>=6.5.0 in /home/fedemp/ws_xradio_dev/venv_xradio_python312/lib/python3.12/site-packages (from jupyterlab->toolviper->xradio) (6.29.5)\n",
      "Requirement already satisfied: jupyter-core in /home/fedemp/ws_xradio_dev/venv_xradio_python312/lib/python3.12/site-packages (from jupyterlab->toolviper->xradio) (5.7.2)\n",
      "Requirement already satisfied: jupyter-lsp>=2.0.0 in /home/fedemp/ws_xradio_dev/venv_xradio_python312/lib/python3.12/site-packages (from jupyterlab->toolviper->xradio) (2.2.5)\n",
      "Requirement already satisfied: jupyter-server<3,>=2.4.0 in /home/fedemp/ws_xradio_dev/venv_xradio_python312/lib/python3.12/site-packages (from jupyterlab->toolviper->xradio) (2.14.2)\n",
      "Requirement already satisfied: jupyterlab-server<3,>=2.27.1 in /home/fedemp/ws_xradio_dev/venv_xradio_python312/lib/python3.12/site-packages (from jupyterlab->toolviper->xradio) (2.27.3)\n",
      "Requirement already satisfied: notebook-shim>=0.2 in /home/fedemp/ws_xradio_dev/venv_xradio_python312/lib/python3.12/site-packages (from jupyterlab->toolviper->xradio) (0.2.4)\n",
      "Requirement already satisfied: setuptools>=40.1.0 in /home/fedemp/ws_xradio_dev/venv_xradio_python312/lib/python3.12/site-packages (from jupyterlab->toolviper->xradio) (75.1.0)\n",
      "Requirement already satisfied: markdown-it-py>=2.2.0 in /home/fedemp/ws_xradio_dev/venv_xradio_python312/lib/python3.12/site-packages (from rich->toolviper->xradio) (3.0.0)\n",
      "Requirement already satisfied: pygments<3.0.0,>=2.13.0 in /home/fedemp/ws_xradio_dev/venv_xradio_python312/lib/python3.12/site-packages (from rich->toolviper->xradio) (2.18.0)\n",
      "Requirement already satisfied: jmespath<2.0.0,>=0.7.1 in /home/fedemp/ws_xradio_dev/venv_xradio_python312/lib/python3.12/site-packages (from botocore<1.35.17,>=1.35.16->aiobotocore<3.0.0,>=2.5.4->s3fs->xradio) (1.0.1)\n",
      "Requirement already satisfied: anyio in /home/fedemp/ws_xradio_dev/venv_xradio_python312/lib/python3.12/site-packages (from httpx>=0.25.0->jupyterlab->toolviper->xradio) (4.4.0)\n",
      "Requirement already satisfied: certifi in /home/fedemp/ws_xradio_dev/venv_xradio_python312/lib/python3.12/site-packages (from httpx>=0.25.0->jupyterlab->toolviper->xradio) (2024.8.30)\n",
      "Requirement already satisfied: httpcore==1.* in /home/fedemp/ws_xradio_dev/venv_xradio_python312/lib/python3.12/site-packages (from httpx>=0.25.0->jupyterlab->toolviper->xradio) (1.0.5)\n",
      "Requirement already satisfied: idna in /home/fedemp/ws_xradio_dev/venv_xradio_python312/lib/python3.12/site-packages (from httpx>=0.25.0->jupyterlab->toolviper->xradio) (3.10)\n",
      "Requirement already satisfied: sniffio in /home/fedemp/ws_xradio_dev/venv_xradio_python312/lib/python3.12/site-packages (from httpx>=0.25.0->jupyterlab->toolviper->xradio) (1.3.1)\n",
      "Requirement already satisfied: h11<0.15,>=0.13 in /home/fedemp/ws_xradio_dev/venv_xradio_python312/lib/python3.12/site-packages (from httpcore==1.*->httpx>=0.25.0->jupyterlab->toolviper->xradio) (0.14.0)\n",
      "Requirement already satisfied: debugpy>=1.6.5 in /home/fedemp/ws_xradio_dev/venv_xradio_python312/lib/python3.12/site-packages (from ipykernel>=6.5.0->jupyterlab->toolviper->xradio) (1.8.5)\n",
      "Requirement already satisfied: jupyter-client>=6.1.12 in /home/fedemp/ws_xradio_dev/venv_xradio_python312/lib/python3.12/site-packages (from ipykernel>=6.5.0->jupyterlab->toolviper->xradio) (8.6.3)\n",
      "Requirement already satisfied: matplotlib-inline>=0.1 in /home/fedemp/ws_xradio_dev/venv_xradio_python312/lib/python3.12/site-packages (from ipykernel>=6.5.0->jupyterlab->toolviper->xradio) (0.1.7)\n",
      "Requirement already satisfied: nest-asyncio in /home/fedemp/ws_xradio_dev/venv_xradio_python312/lib/python3.12/site-packages (from ipykernel>=6.5.0->jupyterlab->toolviper->xradio) (1.6.0)\n",
      "Requirement already satisfied: pyzmq>=24 in /home/fedemp/ws_xradio_dev/venv_xradio_python312/lib/python3.12/site-packages (from ipykernel>=6.5.0->jupyterlab->toolviper->xradio) (26.2.0)\n",
      "Requirement already satisfied: decorator in /home/fedemp/ws_xradio_dev/venv_xradio_python312/lib/python3.12/site-packages (from ipython>=6.1.0->ipywidgets->toolviper->xradio) (5.1.1)\n",
      "Requirement already satisfied: jedi>=0.16 in /home/fedemp/ws_xradio_dev/venv_xradio_python312/lib/python3.12/site-packages (from ipython>=6.1.0->ipywidgets->toolviper->xradio) (0.19.1)\n",
      "Requirement already satisfied: prompt-toolkit<3.1.0,>=3.0.41 in /home/fedemp/ws_xradio_dev/venv_xradio_python312/lib/python3.12/site-packages (from ipython>=6.1.0->ipywidgets->toolviper->xradio) (3.0.47)\n",
      "Requirement already satisfied: stack-data in /home/fedemp/ws_xradio_dev/venv_xradio_python312/lib/python3.12/site-packages (from ipython>=6.1.0->ipywidgets->toolviper->xradio) (0.6.3)\n",
      "Requirement already satisfied: pexpect>4.3 in /home/fedemp/ws_xradio_dev/venv_xradio_python312/lib/python3.12/site-packages (from ipython>=6.1.0->ipywidgets->toolviper->xradio) (4.9.0)\n",
      "Requirement already satisfied: platformdirs>=2.5 in /home/fedemp/ws_xradio_dev/venv_xradio_python312/lib/python3.12/site-packages (from jupyter-core->jupyterlab->toolviper->xradio) (4.3.6)\n",
      "Requirement already satisfied: argon2-cffi>=21.1 in /home/fedemp/ws_xradio_dev/venv_xradio_python312/lib/python3.12/site-packages (from jupyter-server<3,>=2.4.0->jupyterlab->toolviper->xradio) (23.1.0)\n",
      "Requirement already satisfied: jupyter-events>=0.9.0 in /home/fedemp/ws_xradio_dev/venv_xradio_python312/lib/python3.12/site-packages (from jupyter-server<3,>=2.4.0->jupyterlab->toolviper->xradio) (0.10.0)\n",
      "Requirement already satisfied: jupyter-server-terminals>=0.4.4 in /home/fedemp/ws_xradio_dev/venv_xradio_python312/lib/python3.12/site-packages (from jupyter-server<3,>=2.4.0->jupyterlab->toolviper->xradio) (0.5.3)\n",
      "Requirement already satisfied: nbconvert>=6.4.4 in /home/fedemp/ws_xradio_dev/venv_xradio_python312/lib/python3.12/site-packages (from jupyter-server<3,>=2.4.0->jupyterlab->toolviper->xradio) (7.16.4)\n",
      "Requirement already satisfied: nbformat>=5.3.0 in /home/fedemp/ws_xradio_dev/venv_xradio_python312/lib/python3.12/site-packages (from jupyter-server<3,>=2.4.0->jupyterlab->toolviper->xradio) (5.10.4)\n",
      "Requirement already satisfied: overrides>=5.0 in /home/fedemp/ws_xradio_dev/venv_xradio_python312/lib/python3.12/site-packages (from jupyter-server<3,>=2.4.0->jupyterlab->toolviper->xradio) (7.7.0)\n",
      "Requirement already satisfied: prometheus-client>=0.9 in /home/fedemp/ws_xradio_dev/venv_xradio_python312/lib/python3.12/site-packages (from jupyter-server<3,>=2.4.0->jupyterlab->toolviper->xradio) (0.20.0)\n",
      "Requirement already satisfied: send2trash>=1.8.2 in /home/fedemp/ws_xradio_dev/venv_xradio_python312/lib/python3.12/site-packages (from jupyter-server<3,>=2.4.0->jupyterlab->toolviper->xradio) (1.8.3)\n",
      "Requirement already satisfied: terminado>=0.8.3 in /home/fedemp/ws_xradio_dev/venv_xradio_python312/lib/python3.12/site-packages (from jupyter-server<3,>=2.4.0->jupyterlab->toolviper->xradio) (0.18.1)\n",
      "Requirement already satisfied: websocket-client>=1.7 in /home/fedemp/ws_xradio_dev/venv_xradio_python312/lib/python3.12/site-packages (from jupyter-server<3,>=2.4.0->jupyterlab->toolviper->xradio) (1.8.0)\n",
      "Requirement already satisfied: babel>=2.10 in /home/fedemp/ws_xradio_dev/venv_xradio_python312/lib/python3.12/site-packages (from jupyterlab-server<3,>=2.27.1->jupyterlab->toolviper->xradio) (2.16.0)\n",
      "Requirement already satisfied: json5>=0.9.0 in /home/fedemp/ws_xradio_dev/venv_xradio_python312/lib/python3.12/site-packages (from jupyterlab-server<3,>=2.27.1->jupyterlab->toolviper->xradio) (0.9.25)\n",
      "Requirement already satisfied: jsonschema>=4.18.0 in /home/fedemp/ws_xradio_dev/venv_xradio_python312/lib/python3.12/site-packages (from jupyterlab-server<3,>=2.27.1->jupyterlab->toolviper->xradio) (4.23.0)\n",
      "Requirement already satisfied: requests>=2.31 in /home/fedemp/ws_xradio_dev/venv_xradio_python312/lib/python3.12/site-packages (from jupyterlab-server<3,>=2.27.1->jupyterlab->toolviper->xradio) (2.32.3)\n",
      "Requirement already satisfied: mdurl~=0.1 in /home/fedemp/ws_xradio_dev/venv_xradio_python312/lib/python3.12/site-packages (from markdown-it-py>=2.2.0->rich->toolviper->xradio) (0.1.2)\n",
      "Requirement already satisfied: argon2-cffi-bindings in /home/fedemp/ws_xradio_dev/venv_xradio_python312/lib/python3.12/site-packages (from argon2-cffi>=21.1->jupyter-server<3,>=2.4.0->jupyterlab->toolviper->xradio) (21.2.0)\n",
      "Requirement already satisfied: parso<0.9.0,>=0.8.3 in /home/fedemp/ws_xradio_dev/venv_xradio_python312/lib/python3.12/site-packages (from jedi>=0.16->ipython>=6.1.0->ipywidgets->toolviper->xradio) (0.8.4)\n",
      "Requirement already satisfied: jsonschema-specifications>=2023.03.6 in /home/fedemp/ws_xradio_dev/venv_xradio_python312/lib/python3.12/site-packages (from jsonschema>=4.18.0->jupyterlab-server<3,>=2.27.1->jupyterlab->toolviper->xradio) (2023.12.1)\n",
      "Requirement already satisfied: referencing>=0.28.4 in /home/fedemp/ws_xradio_dev/venv_xradio_python312/lib/python3.12/site-packages (from jsonschema>=4.18.0->jupyterlab-server<3,>=2.27.1->jupyterlab->toolviper->xradio) (0.35.1)\n",
      "Requirement already satisfied: rpds-py>=0.7.1 in /home/fedemp/ws_xradio_dev/venv_xradio_python312/lib/python3.12/site-packages (from jsonschema>=4.18.0->jupyterlab-server<3,>=2.27.1->jupyterlab->toolviper->xradio) (0.20.0)\n",
      "Requirement already satisfied: python-json-logger>=2.0.4 in /home/fedemp/ws_xradio_dev/venv_xradio_python312/lib/python3.12/site-packages (from jupyter-events>=0.9.0->jupyter-server<3,>=2.4.0->jupyterlab->toolviper->xradio) (2.0.7)\n",
      "Requirement already satisfied: rfc3339-validator in /home/fedemp/ws_xradio_dev/venv_xradio_python312/lib/python3.12/site-packages (from jupyter-events>=0.9.0->jupyter-server<3,>=2.4.0->jupyterlab->toolviper->xradio) (0.1.4)\n",
      "Requirement already satisfied: rfc3986-validator>=0.1.1 in /home/fedemp/ws_xradio_dev/venv_xradio_python312/lib/python3.12/site-packages (from jupyter-events>=0.9.0->jupyter-server<3,>=2.4.0->jupyterlab->toolviper->xradio) (0.1.1)\n",
      "Requirement already satisfied: beautifulsoup4 in /home/fedemp/ws_xradio_dev/venv_xradio_python312/lib/python3.12/site-packages (from nbconvert>=6.4.4->jupyter-server<3,>=2.4.0->jupyterlab->toolviper->xradio) (4.12.3)\n",
      "Requirement already satisfied: bleach!=5.0.0 in /home/fedemp/ws_xradio_dev/venv_xradio_python312/lib/python3.12/site-packages (from nbconvert>=6.4.4->jupyter-server<3,>=2.4.0->jupyterlab->toolviper->xradio) (6.1.0)\n",
      "Requirement already satisfied: defusedxml in /home/fedemp/ws_xradio_dev/venv_xradio_python312/lib/python3.12/site-packages (from nbconvert>=6.4.4->jupyter-server<3,>=2.4.0->jupyterlab->toolviper->xradio) (0.7.1)\n",
      "Requirement already satisfied: jupyterlab-pygments in /home/fedemp/ws_xradio_dev/venv_xradio_python312/lib/python3.12/site-packages (from nbconvert>=6.4.4->jupyter-server<3,>=2.4.0->jupyterlab->toolviper->xradio) (0.3.0)\n",
      "Requirement already satisfied: mistune<4,>=2.0.3 in /home/fedemp/ws_xradio_dev/venv_xradio_python312/lib/python3.12/site-packages (from nbconvert>=6.4.4->jupyter-server<3,>=2.4.0->jupyterlab->toolviper->xradio) (3.0.2)\n",
      "Requirement already satisfied: nbclient>=0.5.0 in /home/fedemp/ws_xradio_dev/venv_xradio_python312/lib/python3.12/site-packages (from nbconvert>=6.4.4->jupyter-server<3,>=2.4.0->jupyterlab->toolviper->xradio) (0.10.0)\n",
      "Requirement already satisfied: pandocfilters>=1.4.1 in /home/fedemp/ws_xradio_dev/venv_xradio_python312/lib/python3.12/site-packages (from nbconvert>=6.4.4->jupyter-server<3,>=2.4.0->jupyterlab->toolviper->xradio) (1.5.1)\n",
      "Requirement already satisfied: tinycss2 in /home/fedemp/ws_xradio_dev/venv_xradio_python312/lib/python3.12/site-packages (from nbconvert>=6.4.4->jupyter-server<3,>=2.4.0->jupyterlab->toolviper->xradio) (1.3.0)\n",
      "Requirement already satisfied: fastjsonschema>=2.15 in /home/fedemp/ws_xradio_dev/venv_xradio_python312/lib/python3.12/site-packages (from nbformat>=5.3.0->jupyter-server<3,>=2.4.0->jupyterlab->toolviper->xradio) (2.20.0)\n",
      "Requirement already satisfied: ptyprocess>=0.5 in /home/fedemp/ws_xradio_dev/venv_xradio_python312/lib/python3.12/site-packages (from pexpect>4.3->ipython>=6.1.0->ipywidgets->toolviper->xradio) (0.7.0)\n",
      "Requirement already satisfied: wcwidth in /home/fedemp/ws_xradio_dev/venv_xradio_python312/lib/python3.12/site-packages (from prompt-toolkit<3.1.0,>=3.0.41->ipython>=6.1.0->ipywidgets->toolviper->xradio) (0.2.13)\n",
      "Requirement already satisfied: charset-normalizer<4,>=2 in /home/fedemp/ws_xradio_dev/venv_xradio_python312/lib/python3.12/site-packages (from requests>=2.31->jupyterlab-server<3,>=2.27.1->jupyterlab->toolviper->xradio) (3.3.2)\n",
      "Requirement already satisfied: executing>=1.2.0 in /home/fedemp/ws_xradio_dev/venv_xradio_python312/lib/python3.12/site-packages (from stack-data->ipython>=6.1.0->ipywidgets->toolviper->xradio) (2.1.0)\n",
      "Requirement already satisfied: asttokens>=2.1.0 in /home/fedemp/ws_xradio_dev/venv_xradio_python312/lib/python3.12/site-packages (from stack-data->ipython>=6.1.0->ipywidgets->toolviper->xradio) (2.4.1)\n",
      "Requirement already satisfied: pure-eval in /home/fedemp/ws_xradio_dev/venv_xradio_python312/lib/python3.12/site-packages (from stack-data->ipython>=6.1.0->ipywidgets->toolviper->xradio) (0.2.3)\n",
      "Requirement already satisfied: webencodings in /home/fedemp/ws_xradio_dev/venv_xradio_python312/lib/python3.12/site-packages (from bleach!=5.0.0->nbconvert>=6.4.4->jupyter-server<3,>=2.4.0->jupyterlab->toolviper->xradio) (0.5.1)\n",
      "Requirement already satisfied: fqdn in /home/fedemp/ws_xradio_dev/venv_xradio_python312/lib/python3.12/site-packages (from jsonschema[format-nongpl]>=4.18.0->jupyter-events>=0.9.0->jupyter-server<3,>=2.4.0->jupyterlab->toolviper->xradio) (1.5.1)\n",
      "Requirement already satisfied: isoduration in /home/fedemp/ws_xradio_dev/venv_xradio_python312/lib/python3.12/site-packages (from jsonschema[format-nongpl]>=4.18.0->jupyter-events>=0.9.0->jupyter-server<3,>=2.4.0->jupyterlab->toolviper->xradio) (20.11.0)\n",
      "Requirement already satisfied: jsonpointer>1.13 in /home/fedemp/ws_xradio_dev/venv_xradio_python312/lib/python3.12/site-packages (from jsonschema[format-nongpl]>=4.18.0->jupyter-events>=0.9.0->jupyter-server<3,>=2.4.0->jupyterlab->toolviper->xradio) (3.0.0)\n",
      "Requirement already satisfied: uri-template in /home/fedemp/ws_xradio_dev/venv_xradio_python312/lib/python3.12/site-packages (from jsonschema[format-nongpl]>=4.18.0->jupyter-events>=0.9.0->jupyter-server<3,>=2.4.0->jupyterlab->toolviper->xradio) (1.3.0)\n",
      "Requirement already satisfied: webcolors>=24.6.0 in /home/fedemp/ws_xradio_dev/venv_xradio_python312/lib/python3.12/site-packages (from jsonschema[format-nongpl]>=4.18.0->jupyter-events>=0.9.0->jupyter-server<3,>=2.4.0->jupyterlab->toolviper->xradio) (24.8.0)\n",
      "Requirement already satisfied: cffi>=1.0.1 in /home/fedemp/ws_xradio_dev/venv_xradio_python312/lib/python3.12/site-packages (from argon2-cffi-bindings->argon2-cffi>=21.1->jupyter-server<3,>=2.4.0->jupyterlab->toolviper->xradio) (1.17.1)\n",
      "Requirement already satisfied: soupsieve>1.2 in /home/fedemp/ws_xradio_dev/venv_xradio_python312/lib/python3.12/site-packages (from beautifulsoup4->nbconvert>=6.4.4->jupyter-server<3,>=2.4.0->jupyterlab->toolviper->xradio) (2.6)\n",
      "Requirement already satisfied: pycparser in /home/fedemp/ws_xradio_dev/venv_xradio_python312/lib/python3.12/site-packages (from cffi>=1.0.1->argon2-cffi-bindings->argon2-cffi>=21.1->jupyter-server<3,>=2.4.0->jupyterlab->toolviper->xradio) (2.22)\n",
      "Requirement already satisfied: arrow>=0.15.0 in /home/fedemp/ws_xradio_dev/venv_xradio_python312/lib/python3.12/site-packages (from isoduration->jsonschema[format-nongpl]>=4.18.0->jupyter-events>=0.9.0->jupyter-server<3,>=2.4.0->jupyterlab->toolviper->xradio) (1.3.0)\n",
      "Requirement already satisfied: types-python-dateutil>=2.8.10 in /home/fedemp/ws_xradio_dev/venv_xradio_python312/lib/python3.12/site-packages (from arrow>=0.15.0->isoduration->jsonschema[format-nongpl]>=4.18.0->jupyter-events>=0.9.0->jupyter-server<3,>=2.4.0->jupyterlab->toolviper->xradio) (2.9.0.20240906)\n",
      "Downloading xradio-0.0.44-py3-none-any.whl (202 kB)\n",
      "Installing collected packages: xradio\n",
      "  Attempting uninstall: xradio\n",
      "    Found existing installation: xradio 0.0.43\n",
      "    Uninstalling xradio-0.0.43:\n",
      "      Successfully uninstalled xradio-0.0.43\n",
      "Successfully installed xradio-0.0.44\n",
      "Using xradio version 0.0.44\n"
     ]
    }
   ],
   "source": [
    "import os, pprint\n",
    "from importlib.metadata import version\n",
    "\n",
    "try:\n",
    "    os.system(\"pip install --upgrade xradio\")\n",
    "\n",
    "    import xradio\n",
    "\n",
    "    print(\"Using xradio version\", version(\"xradio\"))\n",
    "\n",
    "except ImportError as exc:\n",
    "    print(f\"Could not import xradio: {exc}\")"
   ]
  },
  {
   "cell_type": "markdown",
   "id": "f1466b69-66a5-429b-a3d0-f19c7bdd3bfb",
   "metadata": {},
   "source": [
    "## Download example MSv2"
   ]
  },
  {
   "cell_type": "code",
   "execution_count": 2,
   "id": "27022146-6bc9-47fd-be7d-b3dc71b1b7ca",
   "metadata": {},
   "outputs": [
    {
     "name": "stdout",
     "output_type": "stream",
     "text": [
      "[\u001b[38;2;128;05;128m2024-11-19 11:28:03,996\u001b[0m] \u001b[38;2;255;160;0m WARNING\u001b[0m\u001b[38;2;112;128;144m   toolviper: \u001b[0m File exists: \u001b[38;2;50;50;205m/home/fedemp/ws_xradio_dev/venv_xradio_python312/lib/python3.12/site-packages/toolviper/utils/data/.dropbox\u001b[0m \n",
      "[\u001b[38;2;128;05;128m2024-11-19 11:28:03,997\u001b[0m] \u001b[38;2;50;50;205m    INFO\u001b[0m\u001b[38;2;112;128;144m   toolviper: \u001b[0m Updating file metadata information ...  \n",
      " "
     ]
    },
    {
     "data": {
      "text/html": [
       "<pre style=\"white-space:pre;overflow-x:auto;line-height:normal;font-family:Menlo,'DejaVu Sans Mono',consolas,'Courier New',monospace\">                                    \n",
       " <span style=\"font-weight: bold\"> Download List                    </span> \n",
       " ────────────────────────────────── \n",
       "  <span style=\"color: #800080; text-decoration-color: #800080\">Antennae_North.cal.lsrk.split.ms</span>  \n",
       "                                    \n",
       "</pre>\n"
      ],
      "text/plain": [
       "                                    \n",
       " \u001b[1m \u001b[0m\u001b[1mDownload List                   \u001b[0m\u001b[1m \u001b[0m \n",
       " ────────────────────────────────── \n",
       "  \u001b[35mAntennae_North.cal.lsrk.split.ms\u001b[0m  \n",
       "                                    \n"
      ]
     },
     "metadata": {},
     "output_type": "display_data"
    },
    {
     "name": "stdout",
     "output_type": "stream",
     "text": [
      " "
     ]
    },
    {
     "data": {
      "application/vnd.jupyter.widget-view+json": {
       "model_id": "5099ae95369c46c09b8d84cf50ccb903",
       "version_major": 2,
       "version_minor": 0
      },
      "text/plain": [
       "Antennae_North.cal.lsrk.split.ms.zip:   0%|          | 0.00/1.49M [00:00<?, ?iB/s]"
      ]
     },
     "metadata": {},
     "output_type": "display_data"
    }
   ],
   "source": [
    "import toolviper\n",
    "\n",
    "toolviper.utils.data.download(file=\"Antennae_North.cal.lsrk.split.ms\")"
   ]
  },
  {
   "cell_type": "markdown",
   "id": "1fda9e81-c44f-4fd3-a582-82580f3b3133",
   "metadata": {},
   "source": [
    "# Processing Set"
   ]
  },
  {
   "cell_type": "markdown",
   "id": "63473e60-615c-4249-b40d-f6068790b47e",
   "metadata": {},
   "source": [
    "## Convert MSv2 => Processing Set (PS)"
   ]
  },
  {
   "cell_type": "markdown",
   "id": "d0576106-11d2-44bc-a588-d55b0357afa7",
   "metadata": {},
   "source": [
    "Before running the conversion function we can get an estimate of the resources that will be needed:"
   ]
  },
  {
   "cell_type": "code",
   "execution_count": 3,
   "id": "85c49f92-da66-4ad5-8c85-d3a75a5902ff",
   "metadata": {},
   "outputs": [
    {
     "ename": "ImportError",
     "evalue": "cannot import name 'estimate_conversion_memory_and_cores' from 'xradio.measurement_set' (/home/fedemp/ws_xradio_dev/venv_xradio_python312/lib/python3.12/site-packages/xradio/measurement_set/__init__.py)",
     "output_type": "error",
     "traceback": [
      "\u001b[0;31m---------------------------------------------------------------------------\u001b[0m",
      "\u001b[0;31mImportError\u001b[0m                               Traceback (most recent call last)",
      "Cell \u001b[0;32mIn[3], line 1\u001b[0m\n\u001b[0;32m----> 1\u001b[0m \u001b[38;5;28;01mfrom\u001b[39;00m \u001b[38;5;21;01mxradio\u001b[39;00m\u001b[38;5;21;01m.\u001b[39;00m\u001b[38;5;21;01mmeasurement_set\u001b[39;00m \u001b[38;5;28;01mimport\u001b[39;00m estimate_conversion_memory_and_cores\n\u001b[1;32m      3\u001b[0m msv2_name \u001b[38;5;241m=\u001b[39m \u001b[38;5;124m\"\u001b[39m\u001b[38;5;124mAntennae_North.cal.lsrk.split.ms\u001b[39m\u001b[38;5;124m\"\u001b[39m\n\u001b[1;32m      4\u001b[0m mem_estimate, max_reasonable_cores, suggested_cores \u001b[38;5;241m=\u001b[39m estimate_conversion_memory_and_cores(msv2_name)\n",
      "\u001b[0;31mImportError\u001b[0m: cannot import name 'estimate_conversion_memory_and_cores' from 'xradio.measurement_set' (/home/fedemp/ws_xradio_dev/venv_xradio_python312/lib/python3.12/site-packages/xradio/measurement_set/__init__.py)"
     ]
    }
   ],
   "source": [
    "from xradio.measurement_set import estimate_conversion_memory_and_cores\n",
    "\n",
    "msv2_name = \"Antennae_North.cal.lsrk.split.ms\"\n",
    "mem_estimate, max_reasonable_cores, suggested_cores = estimate_conversion_memory_and_cores(msv2_name)\n",
    "mem_estimate, max_reasonable_cores, suggested_cores"
   ]
  },
  {
   "cell_type": "markdown",
   "id": "6eba83b6-5d53-46d7-8e84-bf94759fb60e",
   "metadata": {},
   "source": [
    "The function used to estimate resources gives:\n",
    "- an estimate of memory required in GiB,\n",
    "- a maximum \"reasonable\" number of cores to use when converting in parallel, which is the number of partitions or MSv4s in the output processing set,\n",
    "- and a suggested number of cores to use, as a rule of thumb the maximum / 4.\n",
    "\n",
    "If we want to run the conversion in parallel, using Dask, we can initialize a \"VIPER\" client. In this example we use a local Dask client with the suggested number of cores = Dask workers:"
   ]
  },
  {
   "cell_type": "code",
   "execution_count": null,
   "id": "7febe111-0000-4c51-bb8c-33efe13fd934",
   "metadata": {},
   "outputs": [],
   "source": [
    "do_parallel = True\n",
    "if do_parallel:\n",
    "    from toolviper import dask\n",
    "    viper_client = toolviper.dask.local_client(cores=suggested_cores)\n",
    "    viper_client"
   ]
  },
  {
   "cell_type": "markdown",
   "id": "e87e00a3-c04d-4e5c-a9f7-b5e2ad1c9b6b",
   "metadata": {},
   "source": [
    "Convert the example MeasurementSet v2 to Processing Set:"
   ]
  },
  {
   "cell_type": "code",
   "execution_count": null,
   "id": "fcd710fb-c2e0-4ff6-8e03-6c11673eec09",
   "metadata": {},
   "outputs": [],
   "source": [
    "from xradio.measurement_set import convert_msv2_to_processing_set\n",
    "\n",
    "convert_out = \"Antennae_North.cal.lsrk.split.vis.zarr\"\n",
    "convert_msv2_to_processing_set(\n",
    "    in_file=msv2_name,\n",
    "    out_file=convert_out,\n",
    "    overwrite=True,\n",
    ")"
   ]
  },
  {
   "cell_type": "markdown",
   "id": "e69936df-63bd-4a49-adeb-8fba6bc572ff",
   "metadata": {},
   "source": [
    "## Lazy open PS"
   ]
  },
  {
   "cell_type": "code",
   "execution_count": null,
   "id": "02d150f5-f513-4ab8-a2e2-9051d6c79d25",
   "metadata": {},
   "outputs": [],
   "source": [
    "from xradio.measurement_set import open_processing_set\n",
    "convert_out = \"Antennae_North.cal.lsrk.split.vis.zarr\"\n",
    "\n",
    "ps = open_processing_set(convert_out, intents=[\"OBSERVE_TARGET#ON_SOURCE\"])"
   ]
  },
  {
   "cell_type": "code",
   "execution_count": null,
   "id": "6edcafb6-d5e9-48cd-a4a5-4d3c37a894f3",
   "metadata": {},
   "outputs": [],
   "source": [
    "ps.summary()"
   ]
  },
  {
   "cell_type": "markdown",
   "id": "f36b2fa7-a02d-4cb4-8e20-e7e8dbf312ce",
   "metadata": {},
   "source": [
    "## PS Structure"
   ]
  },
  {
   "cell_type": "markdown",
   "id": "ce8e4195-cb86-4545-8cbd-8c1772c15a92",
   "metadata": {},
   "source": [
    "A processing set is simply a dictionary of MSv4s (one per observation, field, intent, spectral window - polarization...):"
   ]
  },
  {
   "cell_type": "code",
   "execution_count": null,
   "id": "c8291914-d494-4a40-8ff6-5280e9faaf34",
   "metadata": {},
   "outputs": [],
   "source": [
    "len(ps)"
   ]
  },
  {
   "cell_type": "code",
   "execution_count": null,
   "id": "e2b57b60-62bc-41e2-964a-2169700501f4",
   "metadata": {},
   "outputs": [],
   "source": [
    "ps.keys()"
   ]
  },
  {
   "cell_type": "code",
   "execution_count": null,
   "id": "56b57471",
   "metadata": {},
   "outputs": [],
   "source": [
    "ps.plot_phase_centers()"
   ]
  },
  {
   "cell_type": "code",
   "execution_count": null,
   "id": "66bafbbc",
   "metadata": {},
   "outputs": [],
   "source": [
    "ps.plot_antenna_positions()"
   ]
  },
  {
   "cell_type": "markdown",
   "id": "0653e557-c381-4a4d-b864-a7fef8c2c44c",
   "metadata": {},
   "source": [
    "## MSv4\n"
   ]
  },
  {
   "cell_type": "markdown",
   "id": "e9873379-b84b-40e3-bc51-9a25a1a99c28",
   "metadata": {},
   "source": [
    "## Main dataset"
   ]
  },
  {
   "cell_type": "markdown",
   "id": "d4d770e0-5698-40d7-9e10-c9da09b2d5db",
   "metadata": {},
   "source": [
    "We can take one of the items of the Processing Set to look into the contents of that MSv4. Every MSv4 represents the data as an xarray dataset, similarly as in earlier CNGI prototypes. The data variables (visibilities, weights, flags, etc.) can be manipulated and used in computations using the xarray API."
   ]
  },
  {
   "cell_type": "code",
   "execution_count": null,
   "id": "151d53f9-783f-4203-a104-e143763dcee0",
   "metadata": {},
   "outputs": [],
   "source": [
    "main_xds = ps[\n",
    "    \"Antennae_North.cal.lsrk.split_00\"\n",
    "]"
   ]
  },
  {
   "cell_type": "markdown",
   "id": "c3569dbe-537a-4095-8393-07727c93649b",
   "metadata": {},
   "source": [
    "### Coordinates"
   ]
  },
  {
   "cell_type": "code",
   "execution_count": null,
   "id": "2d65e3dd-c3c7-4b44-9850-da55f503ce7f",
   "metadata": {},
   "outputs": [],
   "source": [
    "main_xds"
   ]
  },
  {
   "cell_type": "code",
   "execution_count": null,
   "id": "0f9d1a44-9b35-4cab-aa5e-91ce20b4605b",
   "metadata": {},
   "outputs": [],
   "source": [
    "main_xds.polarization"
   ]
  },
  {
   "cell_type": "code",
   "execution_count": null,
   "id": "5e1fc4ca-60c2-46f1-b6da-ce44d02d8f1a",
   "metadata": {},
   "outputs": [],
   "source": [
    "main_xds.uvw_label"
   ]
  },
  {
   "cell_type": "code",
   "execution_count": null,
   "id": "48d97cd5-e52b-4a82-ac50-7e4c8bc132c6",
   "metadata": {},
   "outputs": [],
   "source": [
    "main_xds.coords[\"baseline_id\"]"
   ]
  },
  {
   "cell_type": "code",
   "execution_count": null,
   "id": "9bfe697e-c66b-4b55-a745-99a9a5c06231",
   "metadata": {},
   "outputs": [],
   "source": [
    "main_xds.time"
   ]
  },
  {
   "cell_type": "markdown",
   "id": "669cfca1-1a74-4e1d-88f7-501e4a8e1003",
   "metadata": {},
   "source": [
    "### Data vars"
   ]
  },
  {
   "cell_type": "code",
   "execution_count": null,
   "id": "f32db76f-8db3-4b7a-a092-77702250413e",
   "metadata": {},
   "outputs": [],
   "source": [
    "main_xds.VISIBILITY"
   ]
  },
  {
   "cell_type": "code",
   "execution_count": null,
   "id": "2c727364-e394-44ab-bd93-9c4a65cfb150",
   "metadata": {},
   "outputs": [],
   "source": [
    "main_xds.FLAG"
   ]
  },
  {
   "cell_type": "code",
   "execution_count": null,
   "id": "b5a66055-53f7-4f22-9554-681a81f612ef",
   "metadata": {},
   "outputs": [],
   "source": [
    "main_xds.VISIBILITY.max()"
   ]
  },
  {
   "cell_type": "code",
   "execution_count": null,
   "id": "70946745-4ae3-4190-a603-c11fb198c0db",
   "metadata": {},
   "outputs": [],
   "source": [
    "main_xds.VISIBILITY.max().compute()\n",
    "# main_xds.VISIBILITY.max().values"
   ]
  },
  {
   "cell_type": "markdown",
   "id": "b3693545-f26a-44a2-93d4-6cfb547cd05c",
   "metadata": {},
   "source": [
    "## Metadata"
   ]
  },
  {
   "cell_type": "markdown",
   "id": "d00df667-65e0-44f3-adce-91b2358bf828",
   "metadata": {},
   "source": [
    "The MS metadata can be found in the attributes of the `main_xds`. Metadata is stored in differente ways:\n",
    "- in additional xarray sub-datasets, \"sub-xds\"\n",
    "- in attributes of coordinates and data variables\n",
    "- in Python dictionaries.\n",
    "\n",
    "Most sub-xds are found in the attributes of the `main_xds`, but there are also sub-xds in the attributes of some data variables.\n",
    "An example of sub-xds of the `main_xds` is the antenna dataset (`antenna_xds`). An example of dictionary is the `partition_info` dict."
   ]
  },
  {
   "cell_type": "markdown",
   "id": "40240edd-b150-4488-9453-6293f2240b15",
   "metadata": {},
   "source": [
    "### Metadata in sub-xds. Antenna dataset"
   ]
  },
  {
   "cell_type": "markdown",
   "id": "0aabb04e-a448-4393-9e10-28c46d865d6e",
   "metadata": {},
   "source": [
    "The MSv4 has xarray datasets in its attributes that represent metadata where n-dimensional arrays is included. Some examples are the `antenna_xds`, `weather_xds` and `pointing_xds`. This would be the equivalent to some subtables of the MSv2. Let's look into the antenna sub-xds:\n"
   ]
  },
  {
   "cell_type": "code",
   "execution_count": null,
   "id": "c6ca5dbd-dd9c-4057-ac32-cafac4364404",
   "metadata": {},
   "outputs": [],
   "source": [
    "ant_xds = main_xds.attrs[\"antenna_xds\"]"
   ]
  },
  {
   "cell_type": "code",
   "execution_count": null,
   "id": "31e5e8f6-1c77-4828-95b2-1efe67fe2e4b",
   "metadata": {},
   "outputs": [],
   "source": [
    "ant_xds"
   ]
  },
  {
   "cell_type": "markdown",
   "id": "df218563-4526-4d9c-a017-9ee3544c1e8e",
   "metadata": {},
   "source": [
    "As an xarray dataset, the antenna sub-xds can be used via the same API as the main xds."
   ]
  },
  {
   "cell_type": "code",
   "execution_count": null,
   "id": "ae5a8311-6749-4b1c-82ae-f87ad32c7d7b",
   "metadata": {
    "scrolled": true
   },
   "outputs": [],
   "source": [
    "ant_xds.ANTENNA_POSITION  # .values to load and see them"
   ]
  },
  {
   "cell_type": "code",
   "execution_count": null,
   "id": "e9de0d7d",
   "metadata": {},
   "outputs": [],
   "source": [
    "ant_xds.antenna_name.values"
   ]
  },
  {
   "cell_type": "code",
   "execution_count": null,
   "id": "1291a08b-57d2-4f05-a66f-05b06bc1c87b",
   "metadata": {},
   "outputs": [],
   "source": [
    "ant_xds.ANTENNA_DISH_DIAMETER"
   ]
  },
  {
   "cell_type": "code",
   "execution_count": null,
   "id": "3cc7b08b-eed4-4214-8042-0bb0681a73b7",
   "metadata": {},
   "outputs": [],
   "source": [
    "ant_xds.ANTENNA_RECEPTOR_ANGLE"
   ]
  },
  {
   "cell_type": "markdown",
   "id": "b6a9317e-8f7d-4e7d-9650-96190a92e46f",
   "metadata": {},
   "source": [
    "### Attributes of Data Arrays and Coordinates. Quantities and Measures\n",
    "\n",
    "Data variables and coordinates can have quantity and measures information in their attributes section along with other relevant metadata. These measures are specified as dictionaries in the attribute of the data variable or coordinate, with keys `units` and `type` in addition to other keys depending on the type of measure. The naming conventions are based on `astropy`. For example a quantity of casacore/`position` type, such as the antenna positions, is a measure with `type: \"location\"`\n",
    "\n",
    "For reference, this is the list of measures in the current Processing Set/MSv4 spec:\n",
    "https://docs.google.com/spreadsheets/d/1KIaYp6Qru1appToleyVqRdOEy9hmPhirpg0yR3ovAx0/edit?gid=1504318014#gid=1504318014, with naming conventions based on astropy. For example, a casacore `direction` is a `sky_coord`.\n",
    "\n"
   ]
  },
  {
   "cell_type": "markdown",
   "id": "a733ac0d-18ac-4abe-b985-e291595523ab",
   "metadata": {},
   "source": [
    "#### Time coordinate\n",
    "The time coordinate is a time measure (keys: `type`, `units`, `time_scale`, `format`) but also contains for example `integration_time` which is a quantity."
   ]
  },
  {
   "cell_type": "code",
   "execution_count": null,
   "id": "c8b23eeb-5524-4d1c-85f8-cf98b978084d",
   "metadata": {},
   "outputs": [],
   "source": [
    "main_xds.time"
   ]
  },
  {
   "cell_type": "markdown",
   "id": "68299f4a-e473-4cbb-8906-674139beb7b7",
   "metadata": {},
   "source": [
    "##### Quantities and measures that are not xarray"
   ]
  },
  {
   "cell_type": "markdown",
   "id": "664873cf-ee69-4bfb-87e8-fdd687f60ae5",
   "metadata": {},
   "source": [
    "When a quantity or a measure is not an xarray, it is specificed as a dictionary with a format based on xarray's [xarray.DataArray.from_dict()](https://docs.xarray.dev/en/stable/generated/xarray.DataArray.from_dict.html) and it has the following keys:\n",
    "`{\"dims\": ..., \"data\": ..., \"attrs\": quantity/measures_dict}`. The `integration_time` attribute included in the  attributes of the time coordinate is an example where we can see the metadata of a time measure:"
   ]
  },
  {
   "cell_type": "code",
   "execution_count": null,
   "id": "ec82997f-9fdd-4547-a256-281c2d848f49",
   "metadata": {},
   "outputs": [],
   "source": [
    "pprint.pprint(main_xds.time.attrs)"
   ]
  },
  {
   "cell_type": "markdown",
   "id": "d7bd57b1-60c2-49e6-99cc-6dd0350a39dc",
   "metadata": {},
   "source": [
    "#### Frequency coordinate\n",
    "\n",
    "The `frequency` coordinate is a `spectral_coord` measure and as such has the following keys in its attributes: `type`, `units`, and `observer`. In addition, the attributes contain fields such as `channel_width`, `spectral_window_name`, and `reference_frequency`.\n",
    "\n",
    "Any metadata that is a quantity or measure (non-id numbers) is placed in the relevant measures or quantity dictionary."
   ]
  },
  {
   "cell_type": "code",
   "execution_count": null,
   "id": "65d79eff-57fa-4fe0-bfe9-6f0c5adcc77b",
   "metadata": {},
   "outputs": [],
   "source": [
    "main_xds.frequency"
   ]
  },
  {
   "cell_type": "markdown",
   "id": "0dc866fc-01c0-4e7f-ab42-6fd63b2a7fae",
   "metadata": {},
   "source": [
    "In the frequency coordinate we have example of:\n",
    "- quantity given as a dict: `channel_width`\n",
    "- measure given as a dict: `reference_frequency` (a `spectral_coord` ~= casacore/frequency)"
   ]
  },
  {
   "cell_type": "code",
   "execution_count": null,
   "id": "01ed6e85-d6dc-40d4-8154-88fb3dc05ab5",
   "metadata": {},
   "outputs": [],
   "source": [
    "pprint.pprint(main_xds.frequency.attrs)"
   ]
  },
  {
   "cell_type": "markdown",
   "id": "55e5e1cf-ca02-4e66-878d-82f3a405e8c4",
   "metadata": {},
   "source": [
    "### Metadata in dicts. Observation, processor and partition info."
   ]
  },
  {
   "cell_type": "markdown",
   "id": "32524972-24da-47c5-abfe-721cdbdec9af",
   "metadata": {},
   "source": [
    "The MSv4 also allows for info dictionaries in the attribute section of the dataset. This is used when no n-dimensional data is required. The relevant measures metadata is included, similarly as with coordinates and data variables (when non-id) in xarray datasets.\n",
    "\n",
    "An MSv4 has observation and processor info dicts, for example:"
   ]
  },
  {
   "cell_type": "code",
   "execution_count": null,
   "id": "441dcb4a-6aa3-4cf4-9717-caa27691c846",
   "metadata": {},
   "outputs": [],
   "source": [
    "main_xds.observation_info"
   ]
  },
  {
   "cell_type": "code",
   "execution_count": null,
   "id": "ec44b4e6-5443-4e0b-843c-3b980a8a6829",
   "metadata": {},
   "outputs": [],
   "source": [
    "main_xds.processor_info"
   ]
  },
  {
   "cell_type": "markdown",
   "id": "fe9c4e05-73cc-45de-baac-8c974ce1ce6e",
   "metadata": {},
   "source": [
    "Another example is the `partition_info` dict, which describes the partition of the original MSv2 that is included in the `main_xds`:"
   ]
  },
  {
   "cell_type": "code",
   "execution_count": null,
   "id": "1d792596-ad61-434f-89f6-2d511af14859",
   "metadata": {},
   "outputs": [],
   "source": [
    "main_xds.partition_info"
   ]
  },
  {
   "cell_type": "markdown",
   "id": "878d9129-2aa2-4004-ad9c-2d00939dfa57",
   "metadata": {},
   "source": [
    "### Metadata in sub-xds of data variables. Field_and_source sub-dataset."
   ]
  },
  {
   "cell_type": "markdown",
   "id": "d702cedf-7334-485d-ac32-74b7c46e6323",
   "metadata": {},
   "source": [
    "A special example of sub-xds is the `xds` which is included in the attributes of the VISIBILITY data variable. This way, transformations applied on the visibilities can be reflected in variables such as the field phase center or the source direction. Here data variables such as `FIELD_PHASE_CENTER` or `SOURCE_DIRECTION` are stored as `sky_coord` measures (their attributes contain the following keys: `type`, `units`, `frame`)."
   ]
  },
  {
   "cell_type": "code",
   "execution_count": null,
   "id": "b6425b49-15b9-48c1-8cfd-d8e7f4ebfb69",
   "metadata": {},
   "outputs": [],
   "source": [
    "field_and_source_xds = main_xds.VISIBILITY.field_and_source_xds"
   ]
  },
  {
   "cell_type": "code",
   "execution_count": null,
   "id": "988a77a6-77aa-48ea-8181-f472c5d8889e",
   "metadata": {},
   "outputs": [],
   "source": [
    "field_and_source_xds"
   ]
  },
  {
   "cell_type": "code",
   "execution_count": null,
   "id": "d20b4d22-3a62-43c9-a29b-039c3199b3a5",
   "metadata": {},
   "outputs": [],
   "source": [
    "field_and_source_xds.FIELD_PHASE_CENTER"
   ]
  },
  {
   "cell_type": "code",
   "execution_count": null,
   "id": "1406e077-c800-4102-9185-93b5edb8e912",
   "metadata": {},
   "outputs": [],
   "source": [
    "field_and_source_xds.SOURCE_LOCATION"
   ]
  },
  {
   "cell_type": "markdown",
   "id": "074d518c-9a3a-42c1-9dae-a8f12a04ea3c",
   "metadata": {},
   "source": [
    "## Selection examples"
   ]
  },
  {
   "cell_type": "markdown",
   "id": "f941abaf-cfca-4de0-b843-01859e5d209b",
   "metadata": {},
   "source": [
    "One can use the usual selection functionality of xarray with all arrays, the main dataset and all sub datasets. For example, selection by labels, `sel()`:"
   ]
  },
  {
   "cell_type": "code",
   "execution_count": null,
   "id": "b3cf0dae-e447-4ba9-b015-80476c86cab0",
   "metadata": {},
   "outputs": [],
   "source": [
    "sel_xds = main_xds.sel(frequency=slice(3.43939e11, 3.4397e11))\n",
    "sel_xds.frequency"
   ]
  },
  {
   "cell_type": "markdown",
   "id": "0099ee48-bbd0-4863-8159-c5103ec2c6fc",
   "metadata": {},
   "source": [
    "Or selection by indices, `isel()`"
   ]
  },
  {
   "cell_type": "code",
   "execution_count": null,
   "id": "49702c97-e726-4aff-b3cf-694b61b00869",
   "metadata": {},
   "outputs": [],
   "source": [
    "isel_xds = main_xds.isel(frequency=slice(1, 4))\n",
    "isel_xds.frequency"
   ]
  },
  {
   "cell_type": "code",
   "execution_count": null,
   "id": "8090b7ef-f91e-4b1d-b143-8c3093992761",
   "metadata": {},
   "outputs": [],
   "source": [
    "sel_xds.equals(isel_xds)"
   ]
  },
  {
   "cell_type": "code",
   "execution_count": null,
   "id": "12b8db37-1782-4c5a-9e57-d8a49d8580aa",
   "metadata": {},
   "outputs": [],
   "source": [
    "sel_xds.identical(isel_xds)"
   ]
  }
 ],
 "metadata": {
  "kernelspec": {
   "display_name": "Python 3 (ipykernel)",
   "language": "python",
   "name": "python3"
  },
  "language_info": {
   "codemirror_mode": {
    "name": "ipython",
    "version": 3
   },
   "file_extension": ".py",
   "mimetype": "text/x-python",
   "name": "python",
   "nbconvert_exporter": "python",
   "pygments_lexer": "ipython3",
   "version": "3.12.3"
  },
  "widgets": {
   "application/vnd.jupyter.widget-state+json": {
    "state": {
     "3405a9137b344697b97904738ddf860c": {
      "model_module": "@jupyter-widgets/controls",
      "model_module_version": "2.0.0",
      "model_name": "FloatProgressModel",
      "state": {
       "bar_style": "success",
       "layout": "IPY_MODEL_fdca7fbdc3d6466fb461705b4e4b3a21",
       "max": 1560578,
       "style": "IPY_MODEL_fd89e0f7b23e477db39ab44dcc28be72",
       "value": 1560578
      }
     },
     "35b84388a135447b8bca44722d5296ec": {
      "model_module": "@jupyter-widgets/base",
      "model_module_version": "2.0.0",
      "model_name": "LayoutModel",
      "state": {}
     },
     "45b682d601e94aacb245daeef0be46c4": {
      "model_module": "@jupyter-widgets/base",
      "model_module_version": "2.0.0",
      "model_name": "LayoutModel",
      "state": {}
     },
     "5099ae95369c46c09b8d84cf50ccb903": {
      "model_module": "@jupyter-widgets/controls",
      "model_module_version": "2.0.0",
      "model_name": "HBoxModel",
      "state": {
       "children": [
        "IPY_MODEL_bbf19dca54c1408bafde4d5d599ec50c",
        "IPY_MODEL_3405a9137b344697b97904738ddf860c",
        "IPY_MODEL_8464f4cce4214d3bab6fd986570bf4dc"
       ],
       "layout": "IPY_MODEL_45b682d601e94aacb245daeef0be46c4"
      }
     },
     "8464f4cce4214d3bab6fd986570bf4dc": {
      "model_module": "@jupyter-widgets/controls",
      "model_module_version": "2.0.0",
      "model_name": "HTMLModel",
      "state": {
       "layout": "IPY_MODEL_35b84388a135447b8bca44722d5296ec",
       "style": "IPY_MODEL_a2effbccb9974bdb83070a42faccbc6f",
       "value": " 1.49M/1.49M [00:01&lt;00:00, 1.39MiB/s]"
      }
     },
     "94918165a2fa42aab7db8480e7018216": {
      "model_module": "@jupyter-widgets/base",
      "model_module_version": "2.0.0",
      "model_name": "LayoutModel",
      "state": {}
     },
     "a2effbccb9974bdb83070a42faccbc6f": {
      "model_module": "@jupyter-widgets/controls",
      "model_module_version": "2.0.0",
      "model_name": "HTMLStyleModel",
      "state": {
       "description_width": "",
       "font_size": null,
       "text_color": null
      }
     },
     "bbf19dca54c1408bafde4d5d599ec50c": {
      "model_module": "@jupyter-widgets/controls",
      "model_module_version": "2.0.0",
      "model_name": "HTMLModel",
      "state": {
       "layout": "IPY_MODEL_94918165a2fa42aab7db8480e7018216",
       "style": "IPY_MODEL_d0616e17fce349ae8418aa9181c2b962",
       "value": "Antennae_North.cal.lsrk.split.ms.zip: 100%"
      }
     },
     "d0616e17fce349ae8418aa9181c2b962": {
      "model_module": "@jupyter-widgets/controls",
      "model_module_version": "2.0.0",
      "model_name": "HTMLStyleModel",
      "state": {
       "description_width": "",
       "font_size": null,
       "text_color": null
      }
     },
     "fd89e0f7b23e477db39ab44dcc28be72": {
      "model_module": "@jupyter-widgets/controls",
      "model_module_version": "2.0.0",
      "model_name": "ProgressStyleModel",
      "state": {
       "description_width": ""
      }
     },
     "fdca7fbdc3d6466fb461705b4e4b3a21": {
      "model_module": "@jupyter-widgets/base",
      "model_module_version": "2.0.0",
      "model_name": "LayoutModel",
      "state": {}
     }
    },
    "version_major": 2,
    "version_minor": 0
   }
  }
 },
 "nbformat": 4,
 "nbformat_minor": 5
}
