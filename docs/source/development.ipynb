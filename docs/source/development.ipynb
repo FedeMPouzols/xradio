{
 "cells": [
  {
   "cell_type": "markdown",
   "metadata": {},
   "source": [
    "## Architecture\n",
    "\n",
    "<!--Link to google drawing: https://docs.google.com/drawings/d/1afPe5oro26NMTkAKpK9iif0adNA0B4R9otLookOixvI/edit?usp=sharing -->\n",
    "\n",
    "Will eventually replace Python-casacore.\n",
    "Asdm library does not exist yet.\n",
    "\n",
    "<img src=\"https://docs.google.com/drawings/d/1afPe5oro26NMTkAKpK9iif0adNA0B4R9otLookOixvI/pub?w=943&amp;h=732\">"
   ]
  },
  {
   "cell_type": "markdown",
   "metadata": {},
   "source": [
    "## Software Framework\n",
    "\n",
    "- ```xarray```\n",
    "- ```astropy```\n",
    "- ```dask and distrabuted```"
   ]
  },
  {
   "cell_type": "markdown",
   "metadata": {},
   "source": [
    "## Key Concepts"
   ]
  },
  {
   "cell_type": "markdown",
   "metadata": {},
   "source": [
    "### Coordinates and Data Variables\n",
    "\n",
    "Refer to foundational reading\n",
    "\n",
    "- Information that could be plotted are data variables (these are “always” numbers).\n",
    "- Information that would be used to label these plots are coordinates (these can be numbers or strings). "
   ]
  },
  {
   "cell_type": "markdown",
   "metadata": {},
   "source": [
    "### Measures\n",
    "\n",
    "Data arrays, coordinates and non-id numbers can have measures infromation. The measures_dict is stored in the attrs key  {\"dims\":..., \"data\":..., \"attrs\":measures_dict}.\n",
    "\n",
    "<iframe src=\"https://docs.google.com/spreadsheets/d/e/2PACX-1vQRZyrmK41kXbeaq1V7UFK8IDO5u-zIt5I-4xUbxjOX7oK5muw0vFufreSLMn23KOqtawWjkgtGyfTR/pubhtml?gid=1504318014&single=true\" \n",
    "        width=\"80%\" \n",
    "        height=\"600\" \n",
    "        frameborder=\"0\" \n",
    "        scrolling=\"no\">\n",
    "</iframe>\n"
   ]
  },
  {
   "cell_type": "markdown",
   "metadata": {},
   "source": [
    "### Coordinate Labels\n",
    "\n",
    "\n",
    "\n",
    "<iframe src=\"https://docs.google.com/spreadsheets/d/e/2PACX-1vQRZyrmK41kXbeaq1V7UFK8IDO5u-zIt5I-4xUbxjOX7oK5muw0vFufreSLMn23KOqtawWjkgtGyfTR/pubhtml?gid=1901188197&single=true\"\n",
    "        width=\"100%\" \n",
    "        height=\"600\" \n",
    "        frameborder=\"0\" \n",
    "        scrolling=\"no\">\n",
    "</iframe>\n"
   ]
  },
  {
   "cell_type": "code",
   "execution_count": 8,
   "metadata": {},
   "outputs": [
    {
     "ename": "ValueError",
     "evalue": "conflicting sizes for dimension 'time': length 2 on the data but length 4 on coordinate 'time'",
     "output_type": "error",
     "traceback": [
      "\u001b[0;31m---------------------------------------------------------------------------\u001b[0m",
      "\u001b[0;31mValueError\u001b[0m                                Traceback (most recent call last)",
      "Cell \u001b[0;32mIn[8], line 13\u001b[0m\n\u001b[1;32m      8\u001b[0m data \u001b[38;5;241m=\u001b[39m np\u001b[38;5;241m.\u001b[39marray([[\u001b[38;5;241m-\u001b[39m\u001b[38;5;241m2.10546176\u001b[39m, \u001b[38;5;241m-\u001b[39m\u001b[38;5;241m0.29611873\u001b[39m],\n\u001b[1;32m      9\u001b[0m        [\u001b[38;5;241m-\u001b[39m\u001b[38;5;241m2.10521098\u001b[39m, \u001b[38;5;241m-\u001b[39m\u001b[38;5;241m0.29617315\u001b[39m]])\n\u001b[1;32m     10\u001b[0m coords \u001b[38;5;241m=\u001b[39m {\u001b[38;5;124m'\u001b[39m\u001b[38;5;124mtime\u001b[39m\u001b[38;5;124m'\u001b[39m: pd\u001b[38;5;241m.\u001b[39mdate_range(\u001b[38;5;124m'\u001b[39m\u001b[38;5;124m2000-01-01\u001b[39m\u001b[38;5;124m'\u001b[39m, periods\u001b[38;5;241m=\u001b[39m\u001b[38;5;241m4\u001b[39m),\n\u001b[1;32m     11\u001b[0m           \u001b[38;5;124m'\u001b[39m\u001b[38;5;124msky_dir_label\u001b[39m\u001b[38;5;124m'\u001b[39m: [\u001b[38;5;124m'\u001b[39m\u001b[38;5;124mra\u001b[39m\u001b[38;5;124m'\u001b[39m, \u001b[38;5;124m'\u001b[39m\u001b[38;5;124mdec\u001b[39m\u001b[38;5;124m'\u001b[39m]}\n\u001b[0;32m---> 13\u001b[0m FIELD_PHASE_CENTER \u001b[38;5;241m=\u001b[39m \u001b[43mxr\u001b[49m\u001b[38;5;241;43m.\u001b[39;49m\u001b[43mDataArray\u001b[49m\u001b[43m(\u001b[49m\u001b[43mdata\u001b[49m\u001b[43m,\u001b[49m\u001b[43m \u001b[49m\u001b[43mcoords\u001b[49m\u001b[38;5;241;43m=\u001b[39;49m\u001b[43mcoords\u001b[49m\u001b[43m)\u001b[49m\n\u001b[1;32m     15\u001b[0m FIELD_PHASE_CENTER\u001b[38;5;241m.\u001b[39mattrs \u001b[38;5;241m=\u001b[39m {\n\u001b[1;32m     16\u001b[0m     \u001b[38;5;124m\"\u001b[39m\u001b[38;5;124mtype\u001b[39m\u001b[38;5;124m\"\u001b[39m: \u001b[38;5;124m\"\u001b[39m\u001b[38;5;124msky_coord\u001b[39m\u001b[38;5;124m\"\u001b[39m,\n\u001b[1;32m     17\u001b[0m     \u001b[38;5;124m\"\u001b[39m\u001b[38;5;124munits\u001b[39m\u001b[38;5;124m\"\u001b[39m: [\u001b[38;5;124m\"\u001b[39m\u001b[38;5;124mrad\u001b[39m\u001b[38;5;124m\"\u001b[39m, \u001b[38;5;124m\"\u001b[39m\u001b[38;5;124mrad\u001b[39m\u001b[38;5;124m\"\u001b[39m],\n\u001b[1;32m     18\u001b[0m     \u001b[38;5;124m\"\u001b[39m\u001b[38;5;124mframe\u001b[39m\u001b[38;5;124m\"\u001b[39m: \u001b[38;5;124m\"\u001b[39m\u001b[38;5;124mICRS\u001b[39m\u001b[38;5;124m\"\u001b[39m,\n\u001b[1;32m     19\u001b[0m }\n\u001b[1;32m     21\u001b[0m FIELD_PHASE_CENTER\n",
      "File \u001b[0;32m~/miniforge3/envs/zinc/lib/python3.12/site-packages/xarray/core/dataarray.py:479\u001b[0m, in \u001b[0;36mDataArray.__init__\u001b[0;34m(self, data, coords, dims, name, attrs, indexes, fastpath)\u001b[0m\n\u001b[1;32m    477\u001b[0m data \u001b[38;5;241m=\u001b[39m _check_data_shape(data, coords, dims)\n\u001b[1;32m    478\u001b[0m data \u001b[38;5;241m=\u001b[39m as_compatible_data(data)\n\u001b[0;32m--> 479\u001b[0m coords, dims \u001b[38;5;241m=\u001b[39m \u001b[43m_infer_coords_and_dims\u001b[49m\u001b[43m(\u001b[49m\u001b[43mdata\u001b[49m\u001b[38;5;241;43m.\u001b[39;49m\u001b[43mshape\u001b[49m\u001b[43m,\u001b[49m\u001b[43m \u001b[49m\u001b[43mcoords\u001b[49m\u001b[43m,\u001b[49m\u001b[43m \u001b[49m\u001b[43mdims\u001b[49m\u001b[43m)\u001b[49m\n\u001b[1;32m    480\u001b[0m variable \u001b[38;5;241m=\u001b[39m Variable(dims, data, attrs, fastpath\u001b[38;5;241m=\u001b[39m\u001b[38;5;28;01mTrue\u001b[39;00m)\n\u001b[1;32m    482\u001b[0m \u001b[38;5;28;01mif\u001b[39;00m \u001b[38;5;129;01mnot\u001b[39;00m \u001b[38;5;28misinstance\u001b[39m(coords, Coordinates):\n",
      "File \u001b[0;32m~/miniforge3/envs/zinc/lib/python3.12/site-packages/xarray/core/dataarray.py:210\u001b[0m, in \u001b[0;36m_infer_coords_and_dims\u001b[0;34m(shape, coords, dims)\u001b[0m\n\u001b[1;32m    207\u001b[0m             var\u001b[38;5;241m.\u001b[39mdims \u001b[38;5;241m=\u001b[39m (dim,)\n\u001b[1;32m    208\u001b[0m             new_coords[dim] \u001b[38;5;241m=\u001b[39m var\u001b[38;5;241m.\u001b[39mto_index_variable()\n\u001b[0;32m--> 210\u001b[0m \u001b[43m_check_coords_dims\u001b[49m\u001b[43m(\u001b[49m\u001b[43mshape\u001b[49m\u001b[43m,\u001b[49m\u001b[43m \u001b[49m\u001b[43mnew_coords\u001b[49m\u001b[43m,\u001b[49m\u001b[43m \u001b[49m\u001b[43mdims_tuple\u001b[49m\u001b[43m)\u001b[49m\n\u001b[1;32m    212\u001b[0m \u001b[38;5;28;01mreturn\u001b[39;00m new_coords, dims_tuple\n",
      "File \u001b[0;32m~/miniforge3/envs/zinc/lib/python3.12/site-packages/xarray/core/dataarray.py:140\u001b[0m, in \u001b[0;36m_check_coords_dims\u001b[0;34m(shape, coords, dim)\u001b[0m\n\u001b[1;32m    138\u001b[0m \u001b[38;5;28;01mfor\u001b[39;00m d, s \u001b[38;5;129;01min\u001b[39;00m v\u001b[38;5;241m.\u001b[39msizes\u001b[38;5;241m.\u001b[39mitems():\n\u001b[1;32m    139\u001b[0m     \u001b[38;5;28;01mif\u001b[39;00m s \u001b[38;5;241m!=\u001b[39m sizes[d]:\n\u001b[0;32m--> 140\u001b[0m         \u001b[38;5;28;01mraise\u001b[39;00m \u001b[38;5;167;01mValueError\u001b[39;00m(\n\u001b[1;32m    141\u001b[0m             \u001b[38;5;124mf\u001b[39m\u001b[38;5;124m\"\u001b[39m\u001b[38;5;124mconflicting sizes for dimension \u001b[39m\u001b[38;5;132;01m{\u001b[39;00md\u001b[38;5;132;01m!r}\u001b[39;00m\u001b[38;5;124m: \u001b[39m\u001b[38;5;124m\"\u001b[39m\n\u001b[1;32m    142\u001b[0m             \u001b[38;5;124mf\u001b[39m\u001b[38;5;124m\"\u001b[39m\u001b[38;5;124mlength \u001b[39m\u001b[38;5;132;01m{\u001b[39;00msizes[d]\u001b[38;5;132;01m}\u001b[39;00m\u001b[38;5;124m on the data but length \u001b[39m\u001b[38;5;132;01m{\u001b[39;00ms\u001b[38;5;132;01m}\u001b[39;00m\u001b[38;5;124m on \u001b[39m\u001b[38;5;124m\"\u001b[39m\n\u001b[1;32m    143\u001b[0m             \u001b[38;5;124mf\u001b[39m\u001b[38;5;124m\"\u001b[39m\u001b[38;5;124mcoordinate \u001b[39m\u001b[38;5;132;01m{\u001b[39;00mk\u001b[38;5;132;01m!r}\u001b[39;00m\u001b[38;5;124m\"\u001b[39m\n\u001b[1;32m    144\u001b[0m         )\n",
      "\u001b[0;31mValueError\u001b[0m: conflicting sizes for dimension 'time': length 2 on the data but length 4 on coordinate 'time'"
     ]
    }
   ],
   "source": [
    "import xarray as xr\n",
    "phase_center = xr.DataArray()\n",
    "\n",
    "import numpy as np\n",
    "import xarray as xr\n",
    "import pandas as pd\n",
    "\n",
    "data = np.array([[-2.10546176, -0.29611873],\n",
    "       [-2.10521098, -0.29617315],\n",
    "       [-2.1050196, -0.2961987]])\n",
    "coords = {'time': pd.date_range('2000-01-01', periods=4),\n",
    "          'sky_dir_label': ['ra', 'dec']}\n",
    "\n",
    "FIELD_PHASE_CENTER = xr.DataArray(data, coords=coords)\n",
    "\n",
    "FIELD_PHASE_CENTER.attrs = {\n",
    "    \"type\": \"sky_coord\",\n",
    "    \"units\": [\"rad\", \"rad\"],\n",
    "    \"frame\": \"ICRS\",\n",
    "}\n",
    "\n",
    "FIELD_PHASE_CENTER"
   ]
  },
  {
   "cell_type": "markdown",
   "metadata": {},
   "source": []
  }
 ],
 "metadata": {
  "kernelspec": {
   "display_name": "zinc",
   "language": "python",
   "name": "python3"
  },
  "language_info": {
   "codemirror_mode": {
    "name": "ipython",
    "version": 3
   },
   "file_extension": ".py",
   "mimetype": "text/x-python",
   "name": "python",
   "nbconvert_exporter": "python",
   "pygments_lexer": "ipython3",
   "version": "3.12.6"
  }
 },
 "nbformat": 4,
 "nbformat_minor": 2
}
