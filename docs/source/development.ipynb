{
 "cells": [
  {
   "cell_type": "markdown",
   "metadata": {},
   "source": [
    "## Architecture\n",
    "\n",
    "<!--Link to google drawing: https://docs.google.com/drawings/d/1afPe5oro26NMTkAKpK9iif0adNA0B4R9otLookOixvI/edit?usp=sharing -->\n",
    "\n",
    "Will eventually replace Python-casacore.\n",
    "Asdm library does not exist yet.\n",
    "\n",
    "<img src=\"https://docs.google.com/drawings/d/1afPe5oro26NMTkAKpK9iif0adNA0B4R9otLookOixvI/pub?w=943&amp;h=732\">"
   ]
  },
  {
   "cell_type": "markdown",
   "metadata": {},
   "source": [
    "## Software Framework\n",
    "\n",
    "- ```xarray```\n",
    "- ```astropy```\n",
    "- ```dask and distrabuted```"
   ]
  },
  {
   "cell_type": "markdown",
   "metadata": {},
   "source": [
    "## Key Concepts"
   ]
  },
  {
   "cell_type": "markdown",
   "metadata": {},
   "source": [
    "### Coordinates and Data Variables\n",
    "\n",
    "Refer to foundational reading\n",
    "\n",
    "- Information that could be plotted are data variables (these are “always” numbers).\n",
    "- Information that would be used to label these plots are coordinates (these can be numbers or strings). "
   ]
  },
  {
   "cell_type": "markdown",
   "metadata": {},
   "source": [
    "### Measures\n",
    "\n",
    "Data arrays, coordinates and non-id numbers can have measures infromation. The measures_dict is stored in the attrs key  {\"dims\":..., \"data\":..., \"attrs\":measures_dict}.\n",
    "\n",
    "<iframe src=\"https://docs.google.com/spreadsheets/d/e/2PACX-1vQRZyrmK41kXbeaq1V7UFK8IDO5u-zIt5I-4xUbxjOX7oK5muw0vFufreSLMn23KOqtawWjkgtGyfTR/pubhtml?gid=1504318014&single=true\" \n",
    "        width=\"80%\" \n",
    "        height=\"600\" \n",
    "        frameborder=\"0\" \n",
    "        scrolling=\"no\">\n",
    "</iframe>\n"
   ]
  },
  {
   "cell_type": "markdown",
   "metadata": {},
   "source": [
    "### Coordinate Labels\n",
    "\n",
    "\n",
    "\n",
    "<iframe src=\"https://docs.google.com/spreadsheets/d/e/2PACX-1vQRZyrmK41kXbeaq1V7UFK8IDO5u-zIt5I-4xUbxjOX7oK5muw0vFufreSLMn23KOqtawWjkgtGyfTR/pubhtml?gid=1901188197&single=true\"\n",
    "        width=\"100%\" \n",
    "        height=\"600\" \n",
    "        frameborder=\"0\" \n",
    "        scrolling=\"no\">\n",
    "</iframe>\n"
   ]
  },
  {
   "cell_type": "code",
   "execution_count": 13,
   "metadata": {},
   "outputs": [
    {
     "ename": "ValueError",
     "evalue": "Coordinate frame name \"ICRS\" is not a known coordinate frame (['altaz', 'barycentricmeanecliptic', 'barycentrictrueecliptic', 'cirs', 'custombarycentricecliptic', 'fk4', 'fk4noeterms', 'fk5', 'galactic', 'galacticlsr', 'galactocentric', 'gcrs', 'geocentricmeanecliptic', 'geocentrictrueecliptic', 'hadec', 'hcrs', 'heliocentriceclipticiau76', 'heliocentricmeanecliptic', 'heliocentrictrueecliptic', 'icrs', 'itrs', 'lsr', 'lsrd', 'lsrk', 'precessedgeocentric', 'supergalactic', 'teme', 'tete'])",
     "output_type": "error",
     "traceback": [
      "\u001b[0;31m---------------------------------------------------------------------------\u001b[0m",
      "\u001b[0;31mValueError\u001b[0m                                Traceback (most recent call last)",
      "Cell \u001b[0;32mIn[13], line 25\u001b[0m\n\u001b[1;32m     22\u001b[0m FIELD_PHASE_CENTER\n\u001b[1;32m     24\u001b[0m \u001b[38;5;28;01mfrom\u001b[39;00m \u001b[38;5;21;01mastropy\u001b[39;00m\u001b[38;5;21;01m.\u001b[39;00m\u001b[38;5;21;01mcoordinates\u001b[39;00m \u001b[38;5;28;01mimport\u001b[39;00m SkyCoord\n\u001b[0;32m---> 25\u001b[0m c \u001b[38;5;241m=\u001b[39m \u001b[43mSkyCoord\u001b[49m\u001b[43m(\u001b[49m\u001b[43mra\u001b[49m\u001b[38;5;241;43m=\u001b[39;49m\u001b[43mFIELD_PHASE_CENTER\u001b[49m\u001b[38;5;241;43m.\u001b[39;49m\u001b[43msel\u001b[49m\u001b[43m(\u001b[49m\u001b[43msky_dir_label\u001b[49m\u001b[38;5;241;43m=\u001b[39;49m\u001b[38;5;124;43m'\u001b[39;49m\u001b[38;5;124;43mra\u001b[39;49m\u001b[38;5;124;43m'\u001b[39;49m\u001b[43m)\u001b[49m\u001b[38;5;241;43m.\u001b[39;49m\u001b[43mvalues\u001b[49m\u001b[43m,\u001b[49m\u001b[43mdec\u001b[49m\u001b[38;5;241;43m=\u001b[39;49m\u001b[43mFIELD_PHASE_CENTER\u001b[49m\u001b[38;5;241;43m.\u001b[39;49m\u001b[43msel\u001b[49m\u001b[43m(\u001b[49m\u001b[43msky_dir_label\u001b[49m\u001b[38;5;241;43m=\u001b[39;49m\u001b[38;5;124;43m'\u001b[39;49m\u001b[38;5;124;43mdec\u001b[39;49m\u001b[38;5;124;43m'\u001b[39;49m\u001b[43m)\u001b[49m\u001b[38;5;241;43m.\u001b[39;49m\u001b[43mvalues\u001b[49m\u001b[43m,\u001b[49m\u001b[43munit\u001b[49m\u001b[38;5;241;43m=\u001b[39;49m\u001b[38;5;124;43m'\u001b[39;49m\u001b[38;5;124;43mrad\u001b[39;49m\u001b[38;5;124;43m'\u001b[39;49m\u001b[43m,\u001b[49m\u001b[43mframe\u001b[49m\u001b[38;5;241;43m=\u001b[39;49m\u001b[43mFIELD_PHASE_CENTER\u001b[49m\u001b[38;5;241;43m.\u001b[39;49m\u001b[43mattrs\u001b[49m\u001b[43m[\u001b[49m\u001b[38;5;124;43m'\u001b[39;49m\u001b[38;5;124;43mframe\u001b[39;49m\u001b[38;5;124;43m'\u001b[39;49m\u001b[43m]\u001b[49m\u001b[43m)\u001b[49m\n\u001b[1;32m     26\u001b[0m c\n",
      "File \u001b[0;32m~/miniforge3/envs/zinc/lib/python3.12/site-packages/astropy/coordinates/sky_coordinate.py:345\u001b[0m, in \u001b[0;36mSkyCoord.__init__\u001b[0;34m(self, copy, *args, **kwargs)\u001b[0m\n\u001b[1;32m    339\u001b[0m         \u001b[38;5;28mself\u001b[39m\u001b[38;5;241m.\u001b[39m_sky_coord_frame \u001b[38;5;241m=\u001b[39m coords\n\u001b[1;32m    341\u001b[0m \u001b[38;5;28;01melse\u001b[39;00m:\n\u001b[1;32m    342\u001b[0m     \u001b[38;5;66;03m# Get the frame instance without coordinate data but with all frame\u001b[39;00m\n\u001b[1;32m    343\u001b[0m     \u001b[38;5;66;03m# attributes set - these could either have been passed in with the\u001b[39;00m\n\u001b[1;32m    344\u001b[0m     \u001b[38;5;66;03m# frame as an instance, or passed in as kwargs here\u001b[39;00m\n\u001b[0;32m--> 345\u001b[0m     frame_cls, frame_kwargs \u001b[38;5;241m=\u001b[39m \u001b[43m_get_frame_without_data\u001b[49m\u001b[43m(\u001b[49m\u001b[43margs\u001b[49m\u001b[43m,\u001b[49m\u001b[43m \u001b[49m\u001b[43mkwargs\u001b[49m\u001b[43m)\u001b[49m\n\u001b[1;32m    347\u001b[0m     \u001b[38;5;66;03m# Parse the args and kwargs to assemble a sanitized and validated\u001b[39;00m\n\u001b[1;32m    348\u001b[0m     \u001b[38;5;66;03m# kwargs dict for initializing attributes for this object and for\u001b[39;00m\n\u001b[1;32m    349\u001b[0m     \u001b[38;5;66;03m# creating the internal self._sky_coord_frame object\u001b[39;00m\n\u001b[1;32m    350\u001b[0m     args \u001b[38;5;241m=\u001b[39m \u001b[38;5;28mlist\u001b[39m(args)  \u001b[38;5;66;03m# Make it mutable\u001b[39;00m\n",
      "File \u001b[0;32m~/miniforge3/envs/zinc/lib/python3.12/site-packages/astropy/coordinates/sky_coordinate_parsers.py:137\u001b[0m, in \u001b[0;36m_get_frame_without_data\u001b[0;34m(args, kwargs)\u001b[0m\n\u001b[1;32m    134\u001b[0m     kwargs\u001b[38;5;241m.\u001b[39msetdefault(\u001b[38;5;124m\"\u001b[39m\u001b[38;5;124mdifferential_type\u001b[39m\u001b[38;5;124m\"\u001b[39m, frame\u001b[38;5;241m.\u001b[39mdifferential_type)\n\u001b[1;32m    136\u001b[0m \u001b[38;5;28;01melif\u001b[39;00m frame_cls \u001b[38;5;129;01mis\u001b[39;00m \u001b[38;5;28;01mNone\u001b[39;00m \u001b[38;5;129;01mand\u001b[39;00m frame \u001b[38;5;129;01mis\u001b[39;00m \u001b[38;5;129;01mnot\u001b[39;00m \u001b[38;5;28;01mNone\u001b[39;00m:  \u001b[38;5;66;03m# frame probably a string\u001b[39;00m\n\u001b[0;32m--> 137\u001b[0m     frame_cls \u001b[38;5;241m=\u001b[39m \u001b[43m_get_frame_class\u001b[49m\u001b[43m(\u001b[49m\u001b[43mframe\u001b[49m\u001b[43m)\u001b[49m\n\u001b[1;32m    139\u001b[0m \u001b[38;5;66;03m# Check that the new frame doesn't conflict with existing coordinate frame\u001b[39;00m\n\u001b[1;32m    140\u001b[0m \u001b[38;5;66;03m# if a coordinate is supplied in the args list.  If the frame still had not\u001b[39;00m\n\u001b[1;32m    141\u001b[0m \u001b[38;5;66;03m# been set by this point and a coordinate was supplied, then use that frame.\u001b[39;00m\n\u001b[1;32m    142\u001b[0m \u001b[38;5;28;01mfor\u001b[39;00m arg \u001b[38;5;129;01min\u001b[39;00m args:\n\u001b[1;32m    143\u001b[0m     \u001b[38;5;66;03m# this catches the \"single list passed in\" case.  For that case we want\u001b[39;00m\n\u001b[1;32m    144\u001b[0m     \u001b[38;5;66;03m# to allow the first argument to set the class.  That's OK because\u001b[39;00m\n\u001b[1;32m    145\u001b[0m     \u001b[38;5;66;03m# _parse_coordinate_arg goes and checks that the frames match between\u001b[39;00m\n\u001b[1;32m    146\u001b[0m     \u001b[38;5;66;03m# the first and all the others\u001b[39;00m\n",
      "File \u001b[0;32m~/miniforge3/envs/zinc/lib/python3.12/site-packages/astropy/coordinates/sky_coordinate_parsers.py:48\u001b[0m, in \u001b[0;36m_get_frame_class\u001b[0;34m(frame)\u001b[0m\n\u001b[1;32m     46\u001b[0m     frame_names \u001b[38;5;241m=\u001b[39m frame_transform_graph\u001b[38;5;241m.\u001b[39mget_names()\n\u001b[1;32m     47\u001b[0m     \u001b[38;5;28;01mif\u001b[39;00m frame \u001b[38;5;129;01mnot\u001b[39;00m \u001b[38;5;129;01min\u001b[39;00m frame_names:\n\u001b[0;32m---> 48\u001b[0m         \u001b[38;5;28;01mraise\u001b[39;00m \u001b[38;5;167;01mValueError\u001b[39;00m(\n\u001b[1;32m     49\u001b[0m             \u001b[38;5;124mf\u001b[39m\u001b[38;5;124m'\u001b[39m\u001b[38;5;124mCoordinate frame name \u001b[39m\u001b[38;5;124m\"\u001b[39m\u001b[38;5;132;01m{\u001b[39;00mframe\u001b[38;5;132;01m}\u001b[39;00m\u001b[38;5;124m\"\u001b[39m\u001b[38;5;124m is not a known \u001b[39m\u001b[38;5;124m'\u001b[39m\n\u001b[1;32m     50\u001b[0m             \u001b[38;5;124mf\u001b[39m\u001b[38;5;124m\"\u001b[39m\u001b[38;5;124mcoordinate frame (\u001b[39m\u001b[38;5;132;01m{\u001b[39;00m\u001b[38;5;28msorted\u001b[39m(frame_names)\u001b[38;5;132;01m}\u001b[39;00m\u001b[38;5;124m)\u001b[39m\u001b[38;5;124m\"\u001b[39m\n\u001b[1;32m     51\u001b[0m         )\n\u001b[1;32m     52\u001b[0m     frame_cls \u001b[38;5;241m=\u001b[39m frame_transform_graph\u001b[38;5;241m.\u001b[39mlookup_name(frame)\n\u001b[1;32m     54\u001b[0m \u001b[38;5;28;01melif\u001b[39;00m \u001b[38;5;28misinstance\u001b[39m(frame, \u001b[38;5;28mtype\u001b[39m) \u001b[38;5;129;01mand\u001b[39;00m \u001b[38;5;28missubclass\u001b[39m(frame, BaseCoordinateFrame):\n",
      "\u001b[0;31mValueError\u001b[0m: Coordinate frame name \"ICRS\" is not a known coordinate frame (['altaz', 'barycentricmeanecliptic', 'barycentrictrueecliptic', 'cirs', 'custombarycentricecliptic', 'fk4', 'fk4noeterms', 'fk5', 'galactic', 'galacticlsr', 'galactocentric', 'gcrs', 'geocentricmeanecliptic', 'geocentrictrueecliptic', 'hadec', 'hcrs', 'heliocentriceclipticiau76', 'heliocentricmeanecliptic', 'heliocentrictrueecliptic', 'icrs', 'itrs', 'lsr', 'lsrd', 'lsrk', 'precessedgeocentric', 'supergalactic', 'teme', 'tete'])"
     ]
    }
   ],
   "source": [
    "import xarray as xr\n",
    "phase_center = xr.DataArray()\n",
    "\n",
    "import numpy as np\n",
    "import xarray as xr\n",
    "import pandas as pd\n",
    "\n",
    "data = np.array([[-2.10546176, -0.29611873],\n",
    "       [-2.10521098, -0.29617315],\n",
    "       [-2.1050196, -0.2961987]])\n",
    "coords = {'time': pd.date_range('2000-01-01', periods=3),\n",
    "          'sky_dir_label': ['ra', 'dec']}\n",
    "\n",
    "FIELD_PHASE_CENTER = xr.DataArray(data, coords=coords)\n",
    "\n",
    "FIELD_PHASE_CENTER.attrs = {\n",
    "    \"type\": \"sky_coord\",\n",
    "    \"units\": [\"rad\", \"rad\"],\n",
    "    \"frame\": \"ICRS\",\n",
    "}\n",
    "\n",
    "FIELD_PHASE_CENTER\n",
    "\n",
    "from astropy.coordinates import SkyCoord\n",
    "c = SkyCoord(ra=FIELD_PHASE_CENTER.sel(sky_dir_label='ra').values,dec=FIELD_PHASE_CENTER.sel(sky_dir_label='dec').values,unit='rad',frame=FIELD_PHASE_CENTER.attrs['frame'])\n",
    "c"
   ]
  },
  {
   "cell_type": "markdown",
   "metadata": {},
   "source": []
  }
 ],
 "metadata": {
  "kernelspec": {
   "display_name": "zinc",
   "language": "python",
   "name": "python3"
  },
  "language_info": {
   "codemirror_mode": {
    "name": "ipython",
    "version": 3
   },
   "file_extension": ".py",
   "mimetype": "text/x-python",
   "name": "python",
   "nbconvert_exporter": "python",
   "pygments_lexer": "ipython3",
   "version": "3.12.6"
  }
 },
 "nbformat": 4,
 "nbformat_minor": 2
}
