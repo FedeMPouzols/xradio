{
 "cells": [
  {
   "cell_type": "markdown",
   "metadata": {},
   "source": [
    "## Architecture\n",
    "\n",
    "<!--Link to google drawing: https://docs.google.com/drawings/d/1afPe5oro26NMTkAKpK9iif0adNA0B4R9otLookOixvI/edit?usp=sharing -->\n",
    "\n",
    "Will eventually replace Python-casacore.\n",
    "Asdm library does not exist yet.\n",
    "\n",
    "<img src=\"https://docs.google.com/drawings/d/1afPe5oro26NMTkAKpK9iif0adNA0B4R9otLookOixvI/pub?w=943&amp;h=732\">"
   ]
  },
  {
   "cell_type": "markdown",
   "metadata": {},
   "source": [
    "## Software Framework\n",
    "\n",
    "- ```xarray```\n",
    "- ```astropy```\n",
    "- ```dask and distrabuted```"
   ]
  },
  {
   "cell_type": "markdown",
   "metadata": {},
   "source": [
    "## Key Concepts"
   ]
  },
  {
   "cell_type": "markdown",
   "metadata": {},
   "source": [
    "### Coordinates and Data Variables\n",
    "\n",
    "Refer to foundational reading\n",
    "\n",
    "- Information that could be plotted are data variables (these are “always” numbers).\n",
    "- Information that would be used to label these plots are coordinates (these can be numbers or strings). "
   ]
  },
  {
   "cell_type": "markdown",
   "metadata": {},
   "source": [
    "### Measures\n",
    "\n",
    "Data arrays, coordinates and non-id numbers can have measures infromation. The measures_dict is stored in the attrs key  {\"dims\":..., \"data\":..., \"attrs\":measures_dict}.\n",
    "\n",
    "<iframe src=\"https://docs.google.com/spreadsheets/d/e/2PACX-1vQRZyrmK41kXbeaq1V7UFK8IDO5u-zIt5I-4xUbxjOX7oK5muw0vFufreSLMn23KOqtawWjkgtGyfTR/pubhtml?gid=1504318014&single=true\" \n",
    "        width=\"80%\" \n",
    "        height=\"600\" \n",
    "        frameborder=\"0\" \n",
    "        scrolling=\"no\">\n",
    "</iframe>\n"
   ]
  },
  {
   "cell_type": "markdown",
   "metadata": {},
   "source": [
    "### Coordinate Labels\n",
    "\n",
    "\n",
    "\n",
    "<iframe src=\"https://docs.google.com/spreadsheets/d/e/2PACX-1vQRZyrmK41kXbeaq1V7UFK8IDO5u-zIt5I-4xUbxjOX7oK5muw0vFufreSLMn23KOqtawWjkgtGyfTR/pubhtml?gid=1901188197&single=true\"\n",
    "        width=\"100%\" \n",
    "        height=\"600\" \n",
    "        frameborder=\"0\" \n",
    "        scrolling=\"no\">\n",
    "</iframe>\n"
   ]
  },
  {
   "cell_type": "markdown",
   "metadata": {},
   "source": []
  }
 ],
 "metadata": {
  "kernelspec": {
   "display_name": "zinc",
   "language": "python",
   "name": "python3"
  },
  "language_info": {
   "name": "python",
   "version": "3.12.6"
  }
 },
 "nbformat": 4,
 "nbformat_minor": 2
}
