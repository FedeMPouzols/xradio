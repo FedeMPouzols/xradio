{
 "cells": [
  {
   "cell_type": "markdown",
   "metadata": {},
   "source": [
    "## Architecture\n",
    "\n",
    "<!--Link to google drawing: https://docs.google.com/drawings/d/1afPe5oro26NMTkAKpK9iif0adNA0B4R9otLookOixvI/edit?usp=sharing -->\n",
    "\n",
    "Will eventually replace Python-casacore.\n",
    "Asdm library does not exist yet.\n",
    "\n",
    "<img src=\"https://docs.google.com/drawings/d/1afPe5oro26NMTkAKpK9iif0adNA0B4R9otLookOixvI/pub?w=943&amp;h=732\">"
   ]
  },
  {
   "cell_type": "markdown",
   "metadata": {},
   "source": [
    "## Software Framework\n",
    "\n",
    "- ```xarray```\n",
    "- ```astropy```\n",
    "- ```dask and distrabuted```"
   ]
  },
  {
   "cell_type": "markdown",
   "metadata": {},
   "source": [
    "## Key Concepts"
   ]
  },
  {
   "cell_type": "markdown",
   "metadata": {},
   "source": [
    "### Coordinates and Data Variables\n",
    "\n",
    "Refer to foundational reading\n",
    "\n",
    "- Information that could be plotted are data variables (these are “always” numbers).\n",
    "- Information that would be used to label these plots are coordinates (these can be numbers or strings). "
   ]
  },
  {
   "cell_type": "markdown",
   "metadata": {},
   "source": [
    "### Measures\n",
    "\n",
    "Data arrays, coordinates and non-id numbers can have measures infromation. The measures_dict is stored in the attrs key  {\"dims\":..., \"data\":..., \"attrs\":measures_dict}.\n",
    "\n",
    "<iframe src=\"https://docs.google.com/spreadsheets/d/e/2PACX-1vQRZyrmK41kXbeaq1V7UFK8IDO5u-zIt5I-4xUbxjOX7oK5muw0vFufreSLMn23KOqtawWjkgtGyfTR/pubhtml?gid=1504318014&single=true\" \n",
    "        width=\"80%\" \n",
    "        height=\"600\" \n",
    "        frameborder=\"0\" \n",
    "        scrolling=\"no\">\n",
    "</iframe>\n"
   ]
  },
  {
   "cell_type": "markdown",
   "metadata": {},
   "source": [
    "### Coordinate Labels\n",
    "\n",
    "\n",
    "\n",
    "<iframe src=\"https://docs.google.com/spreadsheets/d/e/2PACX-1vQRZyrmK41kXbeaq1V7UFK8IDO5u-zIt5I-4xUbxjOX7oK5muw0vFufreSLMn23KOqtawWjkgtGyfTR/pubhtml?gid=1901188197&single=true\"\n",
    "        width=\"100%\" \n",
    "        height=\"600\" \n",
    "        frameborder=\"0\" \n",
    "        scrolling=\"no\">\n",
    "</iframe>\n"
   ]
  },
  {
   "cell_type": "code",
   "execution_count": 12,
   "metadata": {},
   "outputs": [
    {
     "data": {
      "text/plain": [
       "<SkyCoord (ICRS): (ra, dec) in deg\n",
       "    [(239.36592723, -16.96635346), (239.38029586, -16.9694715 ),\n",
       "     (239.39126113, -16.97093541)]>"
      ]
     },
     "execution_count": 12,
     "metadata": {},
     "output_type": "execute_result"
    }
   ],
   "source": [
    "import xarray as xr\n",
    "phase_center = xr.DataArray()\n",
    "\n",
    "import numpy as np\n",
    "import xarray as xr\n",
    "import pandas as pd\n",
    "\n",
    "data = np.array([[-2.10546176, -0.29611873],\n",
    "       [-2.10521098, -0.29617315],\n",
    "       [-2.1050196, -0.2961987]])\n",
    "coords = {'time': pd.date_range('2000-01-01', periods=3),\n",
    "          'sky_dir_label': ['ra', 'dec']}\n",
    "\n",
    "FIELD_PHASE_CENTER = xr.DataArray(data, coords=coords)\n",
    "\n",
    "FIELD_PHASE_CENTER.attrs = {\n",
    "    \"type\": \"sky_coord\",\n",
    "    \"units\": [\"rad\", \"rad\"],\n",
    "    \"frame\": \"icrs\",\n",
    "}\n",
    "\n",
    "FIELD_PHASE_CENTER\n",
    "\n",
    "from astropy.coordinates import SkyCoord\n",
    "c = SkyCoord(ra=FIELD_PHASE_CENTER.sel(sky_dir_label='ra').values,dec=FIELD_PHASE_CENTER.sel(sky_dir_label='dec').values,unit='rad',frame=FIELD_PHASE_CENTER.attrs['frame'])\n",
    "c\n"
   ]
  },
  {
   "cell_type": "markdown",
   "metadata": {},
   "source": []
  }
 ],
 "metadata": {
  "kernelspec": {
   "display_name": "zinc",
   "language": "python",
   "name": "python3"
  },
  "language_info": {
   "codemirror_mode": {
    "name": "ipython",
    "version": 3
   },
   "file_extension": ".py",
   "mimetype": "text/x-python",
   "name": "python",
   "nbconvert_exporter": "python",
   "pygments_lexer": "ipython3",
   "version": "3.12.6"
  }
 },
 "nbformat": 4,
 "nbformat_minor": 2
}
