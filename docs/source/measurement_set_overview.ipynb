{
 "cells": [
  {
   "cell_type": "markdown",
   "metadata": {},
   "source": [
    "# Overview\n",
    "\n",
    "\n",
    "Diagram:\n",
    "MSv4 is an in memory specification with mutiple backends.\n",
    "\n",
    "We can to support directly reading from WSU-ASDM, Zarr, Netcdf.\n",
    "MSv2 we currently don't plan since querying is expensive.\n",
    "\n",
    "Diagram.\n",
    "\n",
    "\n",
    "\n",
    "\n",
    "Interferometer data (visibilities) and single dish data (spectrum).\n",
    "\n",
    "MSv2 and CASA documentation used in creating the schema:\n",
    "- MSv2 schema: https://casacore.github.io/casacore-notes/229.pdf\n",
    "- MSv3 schema: https://casacore.github.io/casacore-notes/264.pdf\n",
    "- Ephemeris Data in CASA: https://casadocs.readthedocs.io/en/latest/notebooks/external-data.html#Ephemeris-Data\n",
    "- VLBI MSv2 extension: https://casacore.github.io/casacore-notes/265.pdf\n",
    "\n",
    "We reused descriptions from the MSv2 (add thank you).\n",
    "\n",
    "\n",
    "Use cases\n",
    "\n",
    "- \n",
    "- \n",
    "-\n",
    "-\n",
    "- No pulsars\n",
    "\n",
    "\n",
    "Tests\n",
    "\n",
    "\n",
    "Offline processing (MS)\n",
    "\n",
    "\n",
    "What is missing:\n",
    "Interferometer Model\n",
    "Beam models (attched to )\n",
    "\n",
    "\n",
    "How data is partitioned: \n",
    "\n",
    "The data must be partitioned at least on Observation, Spectral Windows and Polarization setup (data can be represented as a n dimensional array).\n",
    "\n",
    "Optional partining [FIELD_ID, ...]\n",
    "\n",
    "\n",
    "The default is [OBSERVATION, SPECTRAL WINDOW, POLARIZATION setup , FIELD]\n",
    "\n",
    "For mosaics where the phase center is rapidly varying such as VLASS do not partion on field.\n",
    "\n",
    "\n",
    "\n",
    "Add a diagram of on dish and in memory data.\n",
    "\n",
    "\n",
    "<!--Link to google drawing: https://docs.google.com/drawings/d/1afPe5oro26NMTkAKpK9iif0adNA0B4R9otLookOixvI/edit?usp=sharing -->\n",
    "\n",
    "Will eventually replace Python-casacore.\n",
    "Asdm library does not exist yet.\n",
    "\n",
    "https://docs.google.com/drawings/d/1P9AI3D4VzPGw8O72dPBkz1iED8-ITM96anLeru0dvgM/edit?usp=sharing\n",
    "\n",
    "<img src=\"https://docs.google.com/drawings/d/e/2PACX-1vQVgjF5xNeIv8gpi2G3R8JXw2bNkVIUXdizIZluCGdnHc4z79ryW2fNUycJAd_CQh9sXLwdlx1oiAAX/pub?w=690&amp;h=510\">\n",
    "\n",
    "\n",
    "Types of correlated datasets visibility (single dish) and spectrum (single dish)"
   ]
  },
  {
   "cell_type": "markdown",
   "metadata": {},
   "source": [
    "<!--Link to google drawing: https://docs.google.com/drawings/d/1PMnElSu6YcMC9ovLOTARdYlLtZn7SJhUBdIHZYX52iU/edit?usp=sharing -->\n",
    "\n",
    "Will eventually replace Python-casacore.\n",
    "Asdm library does not exist yet.\n",
    "\n",
    "https://docs.google.com/drawings/d/1P9AI3D4VzPGw8O72dPBkz1iED8-ITM96anLeru0dvgM/edit?usp=sharing\n",
    "\n",
    "<img src=\"https://docs.google.com/drawings/d/e/2PACX-1vSxpmAjQ9Zmg2g5DqmwfiyE2i83Ci1EDeBuY7h8mHPYiokX-il9Omp2h7qmg5ZGbDPOJYUoCFHcL8E3/pub?w=885&h=706\">\n",
    "\n",
    "\n",
    "\n",
    "\n"
   ]
  },
  {
   "cell_type": "markdown",
   "metadata": {},
   "source": []
  },
  {
   "cell_type": "markdown",
   "metadata": {},
   "source": [
    "## Processing Set Data Structure"
   ]
  },
  {
   "cell_type": "markdown",
   "metadata": {},
   "source": [
    "## Measurement Set v2 Deprecated \n",
    "\n",
    "field_ids, spw_ids, antenna_ids, source_ids, ephemeris_ids, feed_ids, polarization_ids, processor_ids (scan_numbers and baseline_id, remain)\n",
    "FIELD_DELAY_CENTER\n",
    "SOURCE_PROPER_MOTION (use ephemeris)\n",
    "FEED_AXIS_OFFSET\n",
    "FEED_OFFSET\n",
    "BEAM_OFFSET\n",
    "POLARIZATION_RESPONSE\n",
    "BASELINE_REFERENCE\n",
    "TARGET\n",
    "SOURCE_OFFSET\n",
    "ON_SOURCE\n",
    "POINTING_OFFSET\n",
    "TRACKING\n",
    "Flag command"
   ]
  },
  {
   "cell_type": "markdown",
   "metadata": {},
   "source": [
    "## Difference between MSv2 and v4\n",
    "\n",
    "- measurement_v4_set contains the data for a single:\n",
    "    - observation, spectral window, polarization setup, observation mode (set of intents).\n",
    "- Data is organized using datasets with labeled n-dimensional arrays instead of tables.\n",
    "- Tables -> Datasets (Labeled n-Dimensional Arrays)\n",
    "- Row -> time x baseline\n",
    "- Use names instead of ids\n",
    "- Antenna and Feed information combined.\n",
    "- Ephemeris, Field and Source information combined."
   ]
  },
  {
   "cell_type": "markdown",
   "metadata": {},
   "source": [
    "### Data Groups (optional)\n",
    "\n",
    "Data reuse."
   ]
  },
  {
   "cell_type": "markdown",
   "metadata": {},
   "source": []
  }
 ],
 "metadata": {
  "kernelspec": {
   "display_name": "zinc",
   "language": "python",
   "name": "python3"
  },
  "language_info": {
   "codemirror_mode": {
    "name": "ipython",
    "version": 3
   },
   "file_extension": ".py",
   "mimetype": "text/x-python",
   "name": "python",
   "nbconvert_exporter": "python",
   "pygments_lexer": "ipython3",
   "version": "3.11.9"
  }
 },
 "nbformat": 4,
 "nbformat_minor": 2
}
