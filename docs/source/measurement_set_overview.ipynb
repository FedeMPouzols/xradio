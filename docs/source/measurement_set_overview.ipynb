{
 "cells": [
  {
   "cell_type": "markdown",
   "metadata": {},
   "source": [
    "# Overview\n",
    "\n",
    "Interfereometer data (visibilities) and single dish data (spectrum).\n",
    "\n",
    "MSv2 and CASA documentation used in creating the schema:\n",
    "- MSv2 schema: https://casacore.github.io/casacore-notes/229.pdf\n",
    "- MSv3 schema: https://casacore.github.io/casacore-notes/264.pdf\n",
    "- Ephemeris Data in CASA: https://casadocs.readthedocs.io/en/latest/notebooks/external-data.html#Ephemeris-Data\n",
    "- VLBI MSv2 extension: https://casacore.github.io/casacore-notes/265.pdf\n",
    "\n",
    "We reused descriptions from the MSv2 (add thank you).\n",
    "\n",
    "\n",
    "Version numbering explained.\n",
    "\n",
    "\n",
    "\n",
    "<!--Link to google drawing: https://docs.google.com/drawings/d/1afPe5oro26NMTkAKpK9iif0adNA0B4R9otLookOixvI/edit?usp=sharing -->\n",
    "\n",
    "Will eventually replace Python-casacore.\n",
    "Asdm library does not exist yet.\n",
    "\n",
    "https://docs.google.com/drawings/d/1P9AI3D4VzPGw8O72dPBkz1iED8-ITM96anLeru0dvgM/edit?usp=sharing\n",
    "\n",
    "<img src=\"https://docs.google.com/drawings/d/e/2PACX-1vQVgjF5xNeIv8gpi2G3R8JXw2bNkVIUXdizIZluCGdnHc4z79ryW2fNUycJAd_CQh9sXLwdlx1oiAAX/pub?w=690&amp;h=510\">"
   ]
  },
  {
   "cell_type": "markdown",
   "metadata": {},
   "source": [
    "## Processing Set Data Structure"
   ]
  },
  {
   "cell_type": "markdown",
   "metadata": {},
   "source": [
    "## Measurement Set v4"
   ]
  },
  {
   "cell_type": "markdown",
   "metadata": {},
   "source": [
    "### Measurement Set v2 Deprecated "
   ]
  },
  {
   "cell_type": "markdown",
   "metadata": {},
   "source": [
    "### Data Groups (optional)\n",
    "\n",
    "Data reuse."
   ]
  },
  {
   "cell_type": "markdown",
   "metadata": {},
   "source": []
  }
 ],
 "metadata": {
  "kernelspec": {
   "display_name": "zinc",
   "language": "python",
   "name": "python3"
  },
  "language_info": {
   "codemirror_mode": {
    "name": "ipython",
    "version": 3
   },
   "file_extension": ".py",
   "mimetype": "text/x-python",
   "name": "python",
   "nbconvert_exporter": "python",
   "pygments_lexer": "ipython3",
   "version": "3.11.9"
  }
 },
 "nbformat": 4,
 "nbformat_minor": 2
}
